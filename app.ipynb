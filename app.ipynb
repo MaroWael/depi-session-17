{
 "cells": [
  {
   "cell_type": "code",
   "execution_count": 91,
   "id": "a9ecb603",
   "metadata": {},
   "outputs": [],
   "source": [
    "import pandas as pd\n",
    "import numpy as np\n",
    "import plotly.express as px"
   ]
  },
  {
   "cell_type": "code",
   "execution_count": 92,
   "id": "1048a000",
   "metadata": {},
   "outputs": [
    {
     "data": {
      "text/html": [
       "<div>\n",
       "<style scoped>\n",
       "    .dataframe tbody tr th:only-of-type {\n",
       "        vertical-align: middle;\n",
       "    }\n",
       "\n",
       "    .dataframe tbody tr th {\n",
       "        vertical-align: top;\n",
       "    }\n",
       "\n",
       "    .dataframe thead th {\n",
       "        text-align: right;\n",
       "    }\n",
       "</style>\n",
       "<table border=\"1\" class=\"dataframe\">\n",
       "  <thead>\n",
       "    <tr style=\"text-align: right;\">\n",
       "      <th></th>\n",
       "      <th>Row ID</th>\n",
       "      <th>Order ID</th>\n",
       "      <th>Order Date</th>\n",
       "      <th>Ship Date</th>\n",
       "      <th>Ship Mode</th>\n",
       "      <th>Customer ID</th>\n",
       "      <th>Customer Name</th>\n",
       "      <th>Segment</th>\n",
       "      <th>Country</th>\n",
       "      <th>City</th>\n",
       "      <th>State</th>\n",
       "      <th>Postal Code</th>\n",
       "      <th>Region</th>\n",
       "      <th>Product ID</th>\n",
       "      <th>Category</th>\n",
       "      <th>Sub-Category</th>\n",
       "      <th>Product Name</th>\n",
       "      <th>Sales</th>\n",
       "    </tr>\n",
       "  </thead>\n",
       "  <tbody>\n",
       "    <tr>\n",
       "      <th>0</th>\n",
       "      <td>1</td>\n",
       "      <td>CA-2017-152156</td>\n",
       "      <td>08/11/2017</td>\n",
       "      <td>11/11/2017</td>\n",
       "      <td>Second Class</td>\n",
       "      <td>CG-12520</td>\n",
       "      <td>Claire Gute</td>\n",
       "      <td>Consumer</td>\n",
       "      <td>United States</td>\n",
       "      <td>Henderson</td>\n",
       "      <td>Kentucky</td>\n",
       "      <td>42420.0</td>\n",
       "      <td>South</td>\n",
       "      <td>FUR-BO-10001798</td>\n",
       "      <td>Furniture</td>\n",
       "      <td>Bookcases</td>\n",
       "      <td>Bush Somerset Collection Bookcase</td>\n",
       "      <td>261.9600</td>\n",
       "    </tr>\n",
       "    <tr>\n",
       "      <th>1</th>\n",
       "      <td>2</td>\n",
       "      <td>CA-2017-152156</td>\n",
       "      <td>08/11/2017</td>\n",
       "      <td>11/11/2017</td>\n",
       "      <td>Second Class</td>\n",
       "      <td>CG-12520</td>\n",
       "      <td>Claire Gute</td>\n",
       "      <td>Consumer</td>\n",
       "      <td>United States</td>\n",
       "      <td>Henderson</td>\n",
       "      <td>Kentucky</td>\n",
       "      <td>42420.0</td>\n",
       "      <td>South</td>\n",
       "      <td>FUR-CH-10000454</td>\n",
       "      <td>Furniture</td>\n",
       "      <td>Chairs</td>\n",
       "      <td>Hon Deluxe Fabric Upholstered Stacking Chairs,...</td>\n",
       "      <td>731.9400</td>\n",
       "    </tr>\n",
       "    <tr>\n",
       "      <th>2</th>\n",
       "      <td>3</td>\n",
       "      <td>CA-2017-138688</td>\n",
       "      <td>12/06/2017</td>\n",
       "      <td>16/06/2017</td>\n",
       "      <td>Second Class</td>\n",
       "      <td>DV-13045</td>\n",
       "      <td>Darrin Van Huff</td>\n",
       "      <td>Corporate</td>\n",
       "      <td>United States</td>\n",
       "      <td>Los Angeles</td>\n",
       "      <td>California</td>\n",
       "      <td>90036.0</td>\n",
       "      <td>West</td>\n",
       "      <td>OFF-LA-10000240</td>\n",
       "      <td>Office Supplies</td>\n",
       "      <td>Labels</td>\n",
       "      <td>Self-Adhesive Address Labels for Typewriters b...</td>\n",
       "      <td>14.6200</td>\n",
       "    </tr>\n",
       "    <tr>\n",
       "      <th>3</th>\n",
       "      <td>4</td>\n",
       "      <td>US-2016-108966</td>\n",
       "      <td>11/10/2016</td>\n",
       "      <td>18/10/2016</td>\n",
       "      <td>Standard Class</td>\n",
       "      <td>SO-20335</td>\n",
       "      <td>Sean O'Donnell</td>\n",
       "      <td>Consumer</td>\n",
       "      <td>United States</td>\n",
       "      <td>Fort Lauderdale</td>\n",
       "      <td>Florida</td>\n",
       "      <td>33311.0</td>\n",
       "      <td>South</td>\n",
       "      <td>FUR-TA-10000577</td>\n",
       "      <td>Furniture</td>\n",
       "      <td>Tables</td>\n",
       "      <td>Bretford CR4500 Series Slim Rectangular Table</td>\n",
       "      <td>957.5775</td>\n",
       "    </tr>\n",
       "    <tr>\n",
       "      <th>4</th>\n",
       "      <td>5</td>\n",
       "      <td>US-2016-108966</td>\n",
       "      <td>11/10/2016</td>\n",
       "      <td>18/10/2016</td>\n",
       "      <td>Standard Class</td>\n",
       "      <td>SO-20335</td>\n",
       "      <td>Sean O'Donnell</td>\n",
       "      <td>Consumer</td>\n",
       "      <td>United States</td>\n",
       "      <td>Fort Lauderdale</td>\n",
       "      <td>Florida</td>\n",
       "      <td>33311.0</td>\n",
       "      <td>South</td>\n",
       "      <td>OFF-ST-10000760</td>\n",
       "      <td>Office Supplies</td>\n",
       "      <td>Storage</td>\n",
       "      <td>Eldon Fold 'N Roll Cart System</td>\n",
       "      <td>22.3680</td>\n",
       "    </tr>\n",
       "  </tbody>\n",
       "</table>\n",
       "</div>"
      ],
      "text/plain": [
       "   Row ID        Order ID  Order Date   Ship Date       Ship Mode Customer ID  \\\n",
       "0       1  CA-2017-152156  08/11/2017  11/11/2017    Second Class    CG-12520   \n",
       "1       2  CA-2017-152156  08/11/2017  11/11/2017    Second Class    CG-12520   \n",
       "2       3  CA-2017-138688  12/06/2017  16/06/2017    Second Class    DV-13045   \n",
       "3       4  US-2016-108966  11/10/2016  18/10/2016  Standard Class    SO-20335   \n",
       "4       5  US-2016-108966  11/10/2016  18/10/2016  Standard Class    SO-20335   \n",
       "\n",
       "     Customer Name    Segment        Country             City       State  \\\n",
       "0      Claire Gute   Consumer  United States        Henderson    Kentucky   \n",
       "1      Claire Gute   Consumer  United States        Henderson    Kentucky   \n",
       "2  Darrin Van Huff  Corporate  United States      Los Angeles  California   \n",
       "3   Sean O'Donnell   Consumer  United States  Fort Lauderdale     Florida   \n",
       "4   Sean O'Donnell   Consumer  United States  Fort Lauderdale     Florida   \n",
       "\n",
       "   Postal Code Region       Product ID         Category Sub-Category  \\\n",
       "0      42420.0  South  FUR-BO-10001798        Furniture    Bookcases   \n",
       "1      42420.0  South  FUR-CH-10000454        Furniture       Chairs   \n",
       "2      90036.0   West  OFF-LA-10000240  Office Supplies       Labels   \n",
       "3      33311.0  South  FUR-TA-10000577        Furniture       Tables   \n",
       "4      33311.0  South  OFF-ST-10000760  Office Supplies      Storage   \n",
       "\n",
       "                                        Product Name     Sales  \n",
       "0                  Bush Somerset Collection Bookcase  261.9600  \n",
       "1  Hon Deluxe Fabric Upholstered Stacking Chairs,...  731.9400  \n",
       "2  Self-Adhesive Address Labels for Typewriters b...   14.6200  \n",
       "3      Bretford CR4500 Series Slim Rectangular Table  957.5775  \n",
       "4                     Eldon Fold 'N Roll Cart System   22.3680  "
      ]
     },
     "execution_count": 92,
     "metadata": {},
     "output_type": "execute_result"
    }
   ],
   "source": [
    "df = pd.read_csv('train.csv')\n",
    "df.head()"
   ]
  },
  {
   "cell_type": "code",
   "execution_count": 93,
   "id": "867c671e",
   "metadata": {},
   "outputs": [
    {
     "data": {
      "text/plain": [
       "3305    01/01/2016\n",
       "8968    01/01/2016\n",
       "3306    01/01/2016\n",
       "8804    01/01/2016\n",
       "8671    01/01/2016\n",
       "           ...    \n",
       "6089    31/12/2018\n",
       "2481    31/12/2018\n",
       "2874    31/12/2018\n",
       "5148    31/12/2018\n",
       "5147    31/12/2018\n",
       "Name: Ship Date, Length: 9800, dtype: object"
      ]
     },
     "execution_count": 93,
     "metadata": {},
     "output_type": "execute_result"
    }
   ],
   "source": [
    "df['Ship Date'].sort_values(ascending=True)"
   ]
  },
  {
   "cell_type": "code",
   "execution_count": 94,
   "id": "20c7b340",
   "metadata": {},
   "outputs": [
    {
     "data": {
      "text/plain": [
       "np.int64(0)"
      ]
     },
     "execution_count": 94,
     "metadata": {},
     "output_type": "execute_result"
    }
   ],
   "source": [
    "df.duplicated(subset='Row ID').sum()"
   ]
  },
  {
   "cell_type": "code",
   "execution_count": 95,
   "id": "8e2d2520",
   "metadata": {},
   "outputs": [
    {
     "data": {
      "text/plain": [
       "1"
      ]
     },
     "execution_count": 95,
     "metadata": {},
     "output_type": "execute_result"
    }
   ],
   "source": [
    "df['Country'].nunique()"
   ]
  },
  {
   "cell_type": "code",
   "execution_count": 96,
   "id": "f6423749",
   "metadata": {},
   "outputs": [
    {
     "data": {
      "text/plain": [
       "(793, 793)"
      ]
     },
     "execution_count": 96,
     "metadata": {},
     "output_type": "execute_result"
    }
   ],
   "source": [
    "df['Customer ID'].nunique(), df['Customer Name'].nunique()"
   ]
  },
  {
   "cell_type": "code",
   "execution_count": 97,
   "id": "df51f937",
   "metadata": {},
   "outputs": [],
   "source": [
    "df.drop(['Row ID', 'Country', 'Customer Name'], axis=1, inplace=True)"
   ]
  },
  {
   "cell_type": "code",
   "execution_count": 98,
   "id": "53ec86ee",
   "metadata": {},
   "outputs": [
    {
     "name": "stdout",
     "output_type": "stream",
     "text": [
      "<class 'pandas.core.frame.DataFrame'>\n",
      "RangeIndex: 9800 entries, 0 to 9799\n",
      "Data columns (total 15 columns):\n",
      " #   Column        Non-Null Count  Dtype  \n",
      "---  ------        --------------  -----  \n",
      " 0   Order ID      9800 non-null   object \n",
      " 1   Order Date    9800 non-null   object \n",
      " 2   Ship Date     9800 non-null   object \n",
      " 3   Ship Mode     9800 non-null   object \n",
      " 4   Customer ID   9800 non-null   object \n",
      " 5   Segment       9800 non-null   object \n",
      " 6   City          9800 non-null   object \n",
      " 7   State         9800 non-null   object \n",
      " 8   Postal Code   9789 non-null   float64\n",
      " 9   Region        9800 non-null   object \n",
      " 10  Product ID    9800 non-null   object \n",
      " 11  Category      9800 non-null   object \n",
      " 12  Sub-Category  9800 non-null   object \n",
      " 13  Product Name  9800 non-null   object \n",
      " 14  Sales         9800 non-null   float64\n",
      "dtypes: float64(2), object(13)\n",
      "memory usage: 1.1+ MB\n"
     ]
    }
   ],
   "source": [
    "df.info()"
   ]
  },
  {
   "cell_type": "code",
   "execution_count": 99,
   "id": "5c08c79f",
   "metadata": {},
   "outputs": [],
   "source": [
    "df['Ship Date'] = pd.to_datetime(df['Ship Date'], format='mixed')\n",
    "df['Order Date'] = pd.to_datetime(df['Order Date'], format='mixed')"
   ]
  },
  {
   "cell_type": "code",
   "execution_count": 100,
   "id": "dfcaa3c0",
   "metadata": {},
   "outputs": [
    {
     "data": {
      "text/html": [
       "<div>\n",
       "<style scoped>\n",
       "    .dataframe tbody tr th:only-of-type {\n",
       "        vertical-align: middle;\n",
       "    }\n",
       "\n",
       "    .dataframe tbody tr th {\n",
       "        vertical-align: top;\n",
       "    }\n",
       "\n",
       "    .dataframe thead th {\n",
       "        text-align: right;\n",
       "    }\n",
       "</style>\n",
       "<table border=\"1\" class=\"dataframe\">\n",
       "  <thead>\n",
       "    <tr style=\"text-align: right;\">\n",
       "      <th></th>\n",
       "      <th>Order ID</th>\n",
       "      <th>Order Date</th>\n",
       "      <th>Ship Date</th>\n",
       "      <th>Ship Mode</th>\n",
       "      <th>Customer ID</th>\n",
       "      <th>Segment</th>\n",
       "      <th>City</th>\n",
       "      <th>State</th>\n",
       "      <th>Postal Code</th>\n",
       "      <th>Region</th>\n",
       "      <th>Product ID</th>\n",
       "      <th>Category</th>\n",
       "      <th>Sub-Category</th>\n",
       "      <th>Product Name</th>\n",
       "      <th>Sales</th>\n",
       "    </tr>\n",
       "  </thead>\n",
       "  <tbody>\n",
       "    <tr>\n",
       "      <th>2234</th>\n",
       "      <td>CA-2018-104066</td>\n",
       "      <td>2018-05-12</td>\n",
       "      <td>2018-10-12</td>\n",
       "      <td>Standard Class</td>\n",
       "      <td>QJ-19255</td>\n",
       "      <td>Corporate</td>\n",
       "      <td>Burlington</td>\n",
       "      <td>Vermont</td>\n",
       "      <td>NaN</td>\n",
       "      <td>East</td>\n",
       "      <td>TEC-AC-10001013</td>\n",
       "      <td>Technology</td>\n",
       "      <td>Accessories</td>\n",
       "      <td>Logitech ClearChat Comfort/USB Headset H390</td>\n",
       "      <td>205.03</td>\n",
       "    </tr>\n",
       "    <tr>\n",
       "      <th>5274</th>\n",
       "      <td>CA-2016-162887</td>\n",
       "      <td>2016-07-11</td>\n",
       "      <td>2016-09-11</td>\n",
       "      <td>Second Class</td>\n",
       "      <td>SV-20785</td>\n",
       "      <td>Consumer</td>\n",
       "      <td>Burlington</td>\n",
       "      <td>Vermont</td>\n",
       "      <td>NaN</td>\n",
       "      <td>East</td>\n",
       "      <td>FUR-CH-10000595</td>\n",
       "      <td>Furniture</td>\n",
       "      <td>Chairs</td>\n",
       "      <td>Safco Contoured Stacking Chairs</td>\n",
       "      <td>715.20</td>\n",
       "    </tr>\n",
       "    <tr>\n",
       "      <th>8798</th>\n",
       "      <td>US-2017-150140</td>\n",
       "      <td>2017-06-04</td>\n",
       "      <td>2017-10-04</td>\n",
       "      <td>Standard Class</td>\n",
       "      <td>VM-21685</td>\n",
       "      <td>Home Office</td>\n",
       "      <td>Burlington</td>\n",
       "      <td>Vermont</td>\n",
       "      <td>NaN</td>\n",
       "      <td>East</td>\n",
       "      <td>TEC-PH-10002555</td>\n",
       "      <td>Technology</td>\n",
       "      <td>Phones</td>\n",
       "      <td>Nortel Meridian M5316 Digital phone</td>\n",
       "      <td>1294.75</td>\n",
       "    </tr>\n",
       "    <tr>\n",
       "      <th>9146</th>\n",
       "      <td>US-2017-165505</td>\n",
       "      <td>2017-01-23</td>\n",
       "      <td>2017-01-27</td>\n",
       "      <td>Standard Class</td>\n",
       "      <td>CB-12535</td>\n",
       "      <td>Corporate</td>\n",
       "      <td>Burlington</td>\n",
       "      <td>Vermont</td>\n",
       "      <td>NaN</td>\n",
       "      <td>East</td>\n",
       "      <td>TEC-AC-10002926</td>\n",
       "      <td>Technology</td>\n",
       "      <td>Accessories</td>\n",
       "      <td>Logitech Wireless Marathon Mouse M705</td>\n",
       "      <td>99.98</td>\n",
       "    </tr>\n",
       "    <tr>\n",
       "      <th>9147</th>\n",
       "      <td>US-2017-165505</td>\n",
       "      <td>2017-01-23</td>\n",
       "      <td>2017-01-27</td>\n",
       "      <td>Standard Class</td>\n",
       "      <td>CB-12535</td>\n",
       "      <td>Corporate</td>\n",
       "      <td>Burlington</td>\n",
       "      <td>Vermont</td>\n",
       "      <td>NaN</td>\n",
       "      <td>East</td>\n",
       "      <td>OFF-AR-10003477</td>\n",
       "      <td>Office Supplies</td>\n",
       "      <td>Art</td>\n",
       "      <td>4009 Highlighters</td>\n",
       "      <td>8.04</td>\n",
       "    </tr>\n",
       "    <tr>\n",
       "      <th>9148</th>\n",
       "      <td>US-2017-165505</td>\n",
       "      <td>2017-01-23</td>\n",
       "      <td>2017-01-27</td>\n",
       "      <td>Standard Class</td>\n",
       "      <td>CB-12535</td>\n",
       "      <td>Corporate</td>\n",
       "      <td>Burlington</td>\n",
       "      <td>Vermont</td>\n",
       "      <td>NaN</td>\n",
       "      <td>East</td>\n",
       "      <td>OFF-ST-10001526</td>\n",
       "      <td>Office Supplies</td>\n",
       "      <td>Storage</td>\n",
       "      <td>Iceberg Mobile Mega Data/Printer Cart</td>\n",
       "      <td>1564.29</td>\n",
       "    </tr>\n",
       "    <tr>\n",
       "      <th>9386</th>\n",
       "      <td>US-2018-127292</td>\n",
       "      <td>2018-01-19</td>\n",
       "      <td>2018-01-23</td>\n",
       "      <td>Standard Class</td>\n",
       "      <td>RM-19375</td>\n",
       "      <td>Consumer</td>\n",
       "      <td>Burlington</td>\n",
       "      <td>Vermont</td>\n",
       "      <td>NaN</td>\n",
       "      <td>East</td>\n",
       "      <td>OFF-PA-10000157</td>\n",
       "      <td>Office Supplies</td>\n",
       "      <td>Paper</td>\n",
       "      <td>Xerox 191</td>\n",
       "      <td>79.92</td>\n",
       "    </tr>\n",
       "    <tr>\n",
       "      <th>9387</th>\n",
       "      <td>US-2018-127292</td>\n",
       "      <td>2018-01-19</td>\n",
       "      <td>2018-01-23</td>\n",
       "      <td>Standard Class</td>\n",
       "      <td>RM-19375</td>\n",
       "      <td>Consumer</td>\n",
       "      <td>Burlington</td>\n",
       "      <td>Vermont</td>\n",
       "      <td>NaN</td>\n",
       "      <td>East</td>\n",
       "      <td>OFF-PA-10001970</td>\n",
       "      <td>Office Supplies</td>\n",
       "      <td>Paper</td>\n",
       "      <td>Xerox 1881</td>\n",
       "      <td>12.28</td>\n",
       "    </tr>\n",
       "    <tr>\n",
       "      <th>9388</th>\n",
       "      <td>US-2018-127292</td>\n",
       "      <td>2018-01-19</td>\n",
       "      <td>2018-01-23</td>\n",
       "      <td>Standard Class</td>\n",
       "      <td>RM-19375</td>\n",
       "      <td>Consumer</td>\n",
       "      <td>Burlington</td>\n",
       "      <td>Vermont</td>\n",
       "      <td>NaN</td>\n",
       "      <td>East</td>\n",
       "      <td>OFF-AP-10000828</td>\n",
       "      <td>Office Supplies</td>\n",
       "      <td>Appliances</td>\n",
       "      <td>Avanti 4.4 Cu. Ft. Refrigerator</td>\n",
       "      <td>542.94</td>\n",
       "    </tr>\n",
       "    <tr>\n",
       "      <th>9389</th>\n",
       "      <td>US-2018-127292</td>\n",
       "      <td>2018-01-19</td>\n",
       "      <td>2018-01-23</td>\n",
       "      <td>Standard Class</td>\n",
       "      <td>RM-19375</td>\n",
       "      <td>Consumer</td>\n",
       "      <td>Burlington</td>\n",
       "      <td>Vermont</td>\n",
       "      <td>NaN</td>\n",
       "      <td>East</td>\n",
       "      <td>OFF-EN-10001509</td>\n",
       "      <td>Office Supplies</td>\n",
       "      <td>Envelopes</td>\n",
       "      <td>Poly String Tie Envelopes</td>\n",
       "      <td>2.04</td>\n",
       "    </tr>\n",
       "    <tr>\n",
       "      <th>9741</th>\n",
       "      <td>CA-2016-117086</td>\n",
       "      <td>2016-08-11</td>\n",
       "      <td>2016-12-11</td>\n",
       "      <td>Standard Class</td>\n",
       "      <td>QJ-19255</td>\n",
       "      <td>Corporate</td>\n",
       "      <td>Burlington</td>\n",
       "      <td>Vermont</td>\n",
       "      <td>NaN</td>\n",
       "      <td>East</td>\n",
       "      <td>FUR-BO-10004834</td>\n",
       "      <td>Furniture</td>\n",
       "      <td>Bookcases</td>\n",
       "      <td>Riverside Palais Royal Lawyers Bookcase, Royal...</td>\n",
       "      <td>4404.90</td>\n",
       "    </tr>\n",
       "  </tbody>\n",
       "</table>\n",
       "</div>"
      ],
      "text/plain": [
       "            Order ID Order Date  Ship Date       Ship Mode Customer ID  \\\n",
       "2234  CA-2018-104066 2018-05-12 2018-10-12  Standard Class    QJ-19255   \n",
       "5274  CA-2016-162887 2016-07-11 2016-09-11    Second Class    SV-20785   \n",
       "8798  US-2017-150140 2017-06-04 2017-10-04  Standard Class    VM-21685   \n",
       "9146  US-2017-165505 2017-01-23 2017-01-27  Standard Class    CB-12535   \n",
       "9147  US-2017-165505 2017-01-23 2017-01-27  Standard Class    CB-12535   \n",
       "9148  US-2017-165505 2017-01-23 2017-01-27  Standard Class    CB-12535   \n",
       "9386  US-2018-127292 2018-01-19 2018-01-23  Standard Class    RM-19375   \n",
       "9387  US-2018-127292 2018-01-19 2018-01-23  Standard Class    RM-19375   \n",
       "9388  US-2018-127292 2018-01-19 2018-01-23  Standard Class    RM-19375   \n",
       "9389  US-2018-127292 2018-01-19 2018-01-23  Standard Class    RM-19375   \n",
       "9741  CA-2016-117086 2016-08-11 2016-12-11  Standard Class    QJ-19255   \n",
       "\n",
       "          Segment        City    State  Postal Code Region       Product ID  \\\n",
       "2234    Corporate  Burlington  Vermont          NaN   East  TEC-AC-10001013   \n",
       "5274     Consumer  Burlington  Vermont          NaN   East  FUR-CH-10000595   \n",
       "8798  Home Office  Burlington  Vermont          NaN   East  TEC-PH-10002555   \n",
       "9146    Corporate  Burlington  Vermont          NaN   East  TEC-AC-10002926   \n",
       "9147    Corporate  Burlington  Vermont          NaN   East  OFF-AR-10003477   \n",
       "9148    Corporate  Burlington  Vermont          NaN   East  OFF-ST-10001526   \n",
       "9386     Consumer  Burlington  Vermont          NaN   East  OFF-PA-10000157   \n",
       "9387     Consumer  Burlington  Vermont          NaN   East  OFF-PA-10001970   \n",
       "9388     Consumer  Burlington  Vermont          NaN   East  OFF-AP-10000828   \n",
       "9389     Consumer  Burlington  Vermont          NaN   East  OFF-EN-10001509   \n",
       "9741    Corporate  Burlington  Vermont          NaN   East  FUR-BO-10004834   \n",
       "\n",
       "             Category Sub-Category  \\\n",
       "2234       Technology  Accessories   \n",
       "5274        Furniture       Chairs   \n",
       "8798       Technology       Phones   \n",
       "9146       Technology  Accessories   \n",
       "9147  Office Supplies          Art   \n",
       "9148  Office Supplies      Storage   \n",
       "9386  Office Supplies        Paper   \n",
       "9387  Office Supplies        Paper   \n",
       "9388  Office Supplies   Appliances   \n",
       "9389  Office Supplies    Envelopes   \n",
       "9741        Furniture    Bookcases   \n",
       "\n",
       "                                           Product Name    Sales  \n",
       "2234        Logitech ClearChat Comfort/USB Headset H390   205.03  \n",
       "5274                    Safco Contoured Stacking Chairs   715.20  \n",
       "8798                Nortel Meridian M5316 Digital phone  1294.75  \n",
       "9146              Logitech Wireless Marathon Mouse M705    99.98  \n",
       "9147                                  4009 Highlighters     8.04  \n",
       "9148              Iceberg Mobile Mega Data/Printer Cart  1564.29  \n",
       "9386                                          Xerox 191    79.92  \n",
       "9387                                         Xerox 1881    12.28  \n",
       "9388                    Avanti 4.4 Cu. Ft. Refrigerator   542.94  \n",
       "9389                          Poly String Tie Envelopes     2.04  \n",
       "9741  Riverside Palais Royal Lawyers Bookcase, Royal...  4404.90  "
      ]
     },
     "execution_count": 100,
     "metadata": {},
     "output_type": "execute_result"
    }
   ],
   "source": [
    "df[df['Postal Code'].isna()]"
   ]
  },
  {
   "cell_type": "code",
   "execution_count": 101,
   "id": "d78dd257",
   "metadata": {},
   "outputs": [
    {
     "data": {
      "text/plain": [
       "0       42420.0\n",
       "1       42420.0\n",
       "2       90036.0\n",
       "3       33311.0\n",
       "4       33311.0\n",
       "         ...   \n",
       "9795    60610.0\n",
       "9796    43615.0\n",
       "9797    43615.0\n",
       "9798    43615.0\n",
       "9799    43615.0\n",
       "Name: Postal Code, Length: 9800, dtype: object"
      ]
     },
     "execution_count": 101,
     "metadata": {},
     "output_type": "execute_result"
    }
   ],
   "source": [
    "df['Postal Code'].fillna('05401')"
   ]
  },
  {
   "cell_type": "code",
   "execution_count": 102,
   "id": "ad3d9f07",
   "metadata": {},
   "outputs": [],
   "source": [
    "df['Postal Code'] = df['Postal Code'].astype('str')"
   ]
  },
  {
   "cell_type": "code",
   "execution_count": 103,
   "id": "e8d7427b",
   "metadata": {},
   "outputs": [
    {
     "data": {
      "application/vnd.plotly.v1+json": {
       "config": {
        "plotlyServerURL": "https://plot.ly"
       },
       "data": [
        {
         "hovertemplate": "Year=2015<br>Order Date=%{x}<br>Sales=%{y}<extra></extra>",
         "legendgroup": "",
         "line": {
          "color": "#636efa",
          "dash": "solid"
         },
         "marker": {
          "symbol": "circle"
         },
         "mode": "lines",
         "name": "",
         "orientation": "v",
         "showlegend": false,
         "type": "scatter",
         "x": [
          "2015-01-02T00:00:00.000000000",
          "2015-01-03T00:00:00.000000000",
          "2015-01-04T00:00:00.000000000",
          "2015-01-06T00:00:00.000000000",
          "2015-01-07T00:00:00.000000000",
          "2015-01-08T00:00:00.000000000",
          "2015-01-09T00:00:00.000000000",
          "2015-01-10T00:00:00.000000000",
          "2015-01-11T00:00:00.000000000",
          "2015-01-12T00:00:00.000000000",
          "2015-01-13T00:00:00.000000000",
          "2015-01-14T00:00:00.000000000",
          "2015-01-15T00:00:00.000000000",
          "2015-01-16T00:00:00.000000000",
          "2015-01-18T00:00:00.000000000",
          "2015-01-19T00:00:00.000000000",
          "2015-01-20T00:00:00.000000000",
          "2015-01-23T00:00:00.000000000",
          "2015-01-26T00:00:00.000000000",
          "2015-01-27T00:00:00.000000000",
          "2015-01-28T00:00:00.000000000",
          "2015-01-30T00:00:00.000000000",
          "2015-01-31T00:00:00.000000000",
          "2015-02-02T00:00:00.000000000",
          "2015-02-03T00:00:00.000000000",
          "2015-02-04T00:00:00.000000000",
          "2015-02-05T00:00:00.000000000",
          "2015-02-06T00:00:00.000000000",
          "2015-02-07T00:00:00.000000000",
          "2015-02-08T00:00:00.000000000",
          "2015-02-09T00:00:00.000000000",
          "2015-02-10T00:00:00.000000000",
          "2015-02-11T00:00:00.000000000",
          "2015-02-12T00:00:00.000000000",
          "2015-02-14T00:00:00.000000000",
          "2015-02-15T00:00:00.000000000",
          "2015-02-16T00:00:00.000000000",
          "2015-02-17T00:00:00.000000000",
          "2015-02-18T00:00:00.000000000",
          "2015-02-20T00:00:00.000000000",
          "2015-02-21T00:00:00.000000000",
          "2015-02-22T00:00:00.000000000",
          "2015-02-23T00:00:00.000000000",
          "2015-02-24T00:00:00.000000000",
          "2015-02-27T00:00:00.000000000",
          "2015-03-01T00:00:00.000000000",
          "2015-03-02T00:00:00.000000000",
          "2015-03-03T00:00:00.000000000",
          "2015-03-05T00:00:00.000000000",
          "2015-03-06T00:00:00.000000000",
          "2015-03-08T00:00:00.000000000",
          "2015-03-09T00:00:00.000000000",
          "2015-03-10T00:00:00.000000000",
          "2015-03-11T00:00:00.000000000",
          "2015-03-12T00:00:00.000000000",
          "2015-03-14T00:00:00.000000000",
          "2015-03-15T00:00:00.000000000",
          "2015-03-16T00:00:00.000000000",
          "2015-03-17T00:00:00.000000000",
          "2015-03-18T00:00:00.000000000",
          "2015-03-19T00:00:00.000000000",
          "2015-03-21T00:00:00.000000000",
          "2015-03-22T00:00:00.000000000",
          "2015-03-23T00:00:00.000000000",
          "2015-03-24T00:00:00.000000000",
          "2015-03-25T00:00:00.000000000",
          "2015-03-26T00:00:00.000000000",
          "2015-03-28T00:00:00.000000000",
          "2015-03-29T00:00:00.000000000",
          "2015-03-30T00:00:00.000000000",
          "2015-03-31T00:00:00.000000000",
          "2015-04-01T00:00:00.000000000",
          "2015-04-02T00:00:00.000000000",
          "2015-04-03T00:00:00.000000000",
          "2015-04-04T00:00:00.000000000",
          "2015-04-05T00:00:00.000000000",
          "2015-04-06T00:00:00.000000000",
          "2015-04-07T00:00:00.000000000",
          "2015-04-08T00:00:00.000000000",
          "2015-04-10T00:00:00.000000000",
          "2015-04-11T00:00:00.000000000",
          "2015-04-12T00:00:00.000000000",
          "2015-04-13T00:00:00.000000000",
          "2015-04-15T00:00:00.000000000",
          "2015-04-16T00:00:00.000000000",
          "2015-04-18T00:00:00.000000000",
          "2015-04-19T00:00:00.000000000",
          "2015-04-20T00:00:00.000000000",
          "2015-04-21T00:00:00.000000000",
          "2015-04-22T00:00:00.000000000",
          "2015-04-23T00:00:00.000000000",
          "2015-04-25T00:00:00.000000000",
          "2015-04-26T00:00:00.000000000",
          "2015-04-28T00:00:00.000000000",
          "2015-04-29T00:00:00.000000000",
          "2015-04-30T00:00:00.000000000",
          "2015-05-01T00:00:00.000000000",
          "2015-05-03T00:00:00.000000000",
          "2015-05-04T00:00:00.000000000",
          "2015-05-05T00:00:00.000000000",
          "2015-05-07T00:00:00.000000000",
          "2015-05-08T00:00:00.000000000",
          "2015-05-09T00:00:00.000000000",
          "2015-05-10T00:00:00.000000000",
          "2015-05-11T00:00:00.000000000",
          "2015-05-12T00:00:00.000000000",
          "2015-05-13T00:00:00.000000000",
          "2015-05-14T00:00:00.000000000",
          "2015-05-16T00:00:00.000000000",
          "2015-05-17T00:00:00.000000000",
          "2015-05-18T00:00:00.000000000",
          "2015-05-19T00:00:00.000000000",
          "2015-05-20T00:00:00.000000000",
          "2015-05-21T00:00:00.000000000",
          "2015-05-22T00:00:00.000000000",
          "2015-05-23T00:00:00.000000000",
          "2015-05-24T00:00:00.000000000",
          "2015-05-25T00:00:00.000000000",
          "2015-05-26T00:00:00.000000000",
          "2015-05-27T00:00:00.000000000",
          "2015-05-28T00:00:00.000000000",
          "2015-05-30T00:00:00.000000000",
          "2015-05-31T00:00:00.000000000",
          "2015-06-01T00:00:00.000000000",
          "2015-06-02T00:00:00.000000000",
          "2015-06-04T00:00:00.000000000",
          "2015-06-05T00:00:00.000000000",
          "2015-06-06T00:00:00.000000000",
          "2015-06-07T00:00:00.000000000",
          "2015-06-08T00:00:00.000000000",
          "2015-06-09T00:00:00.000000000",
          "2015-06-10T00:00:00.000000000",
          "2015-06-12T00:00:00.000000000",
          "2015-06-13T00:00:00.000000000",
          "2015-06-14T00:00:00.000000000",
          "2015-06-15T00:00:00.000000000",
          "2015-06-16T00:00:00.000000000",
          "2015-06-17T00:00:00.000000000",
          "2015-06-18T00:00:00.000000000",
          "2015-06-20T00:00:00.000000000",
          "2015-06-21T00:00:00.000000000",
          "2015-06-22T00:00:00.000000000",
          "2015-06-23T00:00:00.000000000",
          "2015-06-24T00:00:00.000000000",
          "2015-06-25T00:00:00.000000000",
          "2015-06-27T00:00:00.000000000",
          "2015-06-28T00:00:00.000000000",
          "2015-06-29T00:00:00.000000000",
          "2015-06-30T00:00:00.000000000",
          "2015-07-01T00:00:00.000000000",
          "2015-07-02T00:00:00.000000000",
          "2015-07-03T00:00:00.000000000",
          "2015-07-04T00:00:00.000000000",
          "2015-07-05T00:00:00.000000000",
          "2015-07-06T00:00:00.000000000",
          "2015-07-07T00:00:00.000000000",
          "2015-07-09T00:00:00.000000000",
          "2015-07-10T00:00:00.000000000",
          "2015-07-11T00:00:00.000000000",
          "2015-07-12T00:00:00.000000000",
          "2015-07-13T00:00:00.000000000",
          "2015-07-14T00:00:00.000000000",
          "2015-07-15T00:00:00.000000000",
          "2015-07-18T00:00:00.000000000",
          "2015-07-19T00:00:00.000000000",
          "2015-07-20T00:00:00.000000000",
          "2015-07-21T00:00:00.000000000",
          "2015-07-22T00:00:00.000000000",
          "2015-07-23T00:00:00.000000000",
          "2015-07-25T00:00:00.000000000",
          "2015-07-26T00:00:00.000000000",
          "2015-07-27T00:00:00.000000000",
          "2015-07-28T00:00:00.000000000",
          "2015-07-30T00:00:00.000000000",
          "2015-08-02T00:00:00.000000000",
          "2015-08-04T00:00:00.000000000",
          "2015-08-05T00:00:00.000000000",
          "2015-08-06T00:00:00.000000000",
          "2015-08-07T00:00:00.000000000",
          "2015-08-08T00:00:00.000000000",
          "2015-08-09T00:00:00.000000000",
          "2015-08-10T00:00:00.000000000",
          "2015-08-11T00:00:00.000000000",
          "2015-08-12T00:00:00.000000000",
          "2015-08-15T00:00:00.000000000",
          "2015-08-16T00:00:00.000000000",
          "2015-08-17T00:00:00.000000000",
          "2015-08-19T00:00:00.000000000",
          "2015-08-20T00:00:00.000000000",
          "2015-08-22T00:00:00.000000000",
          "2015-08-23T00:00:00.000000000",
          "2015-08-24T00:00:00.000000000",
          "2015-08-25T00:00:00.000000000",
          "2015-08-26T00:00:00.000000000",
          "2015-08-27T00:00:00.000000000",
          "2015-08-29T00:00:00.000000000",
          "2015-08-30T00:00:00.000000000",
          "2015-08-31T00:00:00.000000000",
          "2015-09-01T00:00:00.000000000",
          "2015-09-05T00:00:00.000000000",
          "2015-09-06T00:00:00.000000000",
          "2015-09-07T00:00:00.000000000",
          "2015-09-08T00:00:00.000000000",
          "2015-09-09T00:00:00.000000000",
          "2015-09-10T00:00:00.000000000",
          "2015-09-11T00:00:00.000000000",
          "2015-09-12T00:00:00.000000000",
          "2015-09-13T00:00:00.000000000",
          "2015-09-14T00:00:00.000000000",
          "2015-09-15T00:00:00.000000000",
          "2015-09-16T00:00:00.000000000",
          "2015-09-17T00:00:00.000000000",
          "2015-09-19T00:00:00.000000000",
          "2015-09-20T00:00:00.000000000",
          "2015-09-21T00:00:00.000000000",
          "2015-09-22T00:00:00.000000000",
          "2015-09-23T00:00:00.000000000",
          "2015-09-24T00:00:00.000000000",
          "2015-09-25T00:00:00.000000000",
          "2015-09-26T00:00:00.000000000",
          "2015-09-27T00:00:00.000000000",
          "2015-09-28T00:00:00.000000000",
          "2015-09-29T00:00:00.000000000",
          "2015-09-30T00:00:00.000000000",
          "2015-10-01T00:00:00.000000000",
          "2015-10-03T00:00:00.000000000",
          "2015-10-05T00:00:00.000000000",
          "2015-10-06T00:00:00.000000000",
          "2015-10-09T00:00:00.000000000",
          "2015-10-10T00:00:00.000000000",
          "2015-10-11T00:00:00.000000000",
          "2015-10-12T00:00:00.000000000",
          "2015-10-13T00:00:00.000000000",
          "2015-10-14T00:00:00.000000000",
          "2015-10-15T00:00:00.000000000",
          "2015-10-16T00:00:00.000000000",
          "2015-10-17T00:00:00.000000000",
          "2015-10-18T00:00:00.000000000",
          "2015-10-19T00:00:00.000000000",
          "2015-10-20T00:00:00.000000000",
          "2015-10-21T00:00:00.000000000",
          "2015-10-22T00:00:00.000000000",
          "2015-10-24T00:00:00.000000000",
          "2015-10-25T00:00:00.000000000",
          "2015-10-26T00:00:00.000000000",
          "2015-10-27T00:00:00.000000000",
          "2015-10-28T00:00:00.000000000",
          "2015-10-29T00:00:00.000000000",
          "2015-10-31T00:00:00.000000000",
          "2015-11-01T00:00:00.000000000",
          "2015-11-02T00:00:00.000000000",
          "2015-11-03T00:00:00.000000000",
          "2015-11-04T00:00:00.000000000",
          "2015-11-05T00:00:00.000000000",
          "2015-11-07T00:00:00.000000000",
          "2015-11-08T00:00:00.000000000",
          "2015-11-09T00:00:00.000000000",
          "2015-11-10T00:00:00.000000000",
          "2015-11-11T00:00:00.000000000",
          "2015-11-14T00:00:00.000000000",
          "2015-11-15T00:00:00.000000000",
          "2015-11-16T00:00:00.000000000",
          "2015-11-17T00:00:00.000000000",
          "2015-11-18T00:00:00.000000000",
          "2015-11-19T00:00:00.000000000",
          "2015-11-20T00:00:00.000000000",
          "2015-11-21T00:00:00.000000000",
          "2015-11-22T00:00:00.000000000",
          "2015-11-23T00:00:00.000000000",
          "2015-11-24T00:00:00.000000000",
          "2015-11-25T00:00:00.000000000",
          "2015-11-26T00:00:00.000000000",
          "2015-11-27T00:00:00.000000000",
          "2015-11-28T00:00:00.000000000",
          "2015-11-29T00:00:00.000000000",
          "2015-11-30T00:00:00.000000000",
          "2015-12-02T00:00:00.000000000",
          "2015-12-04T00:00:00.000000000",
          "2015-12-05T00:00:00.000000000",
          "2015-12-07T00:00:00.000000000",
          "2015-12-08T00:00:00.000000000",
          "2015-12-09T00:00:00.000000000",
          "2015-12-10T00:00:00.000000000",
          "2015-12-11T00:00:00.000000000",
          "2015-12-12T00:00:00.000000000",
          "2015-12-13T00:00:00.000000000",
          "2015-12-14T00:00:00.000000000",
          "2015-12-15T00:00:00.000000000",
          "2015-12-16T00:00:00.000000000",
          "2015-12-17T00:00:00.000000000",
          "2015-12-19T00:00:00.000000000",
          "2015-12-20T00:00:00.000000000",
          "2015-12-21T00:00:00.000000000",
          "2015-12-22T00:00:00.000000000",
          "2015-12-23T00:00:00.000000000",
          "2015-12-24T00:00:00.000000000",
          "2015-12-26T00:00:00.000000000",
          "2015-12-27T00:00:00.000000000",
          "2015-12-28T00:00:00.000000000",
          "2015-12-29T00:00:00.000000000",
          "2015-12-30T00:00:00.000000000",
          "2015-12-31T00:00:00.000000000"
         ],
         "xaxis": "x",
         "y": {
          "bdata": "ZmZmZmZOfUBkO99PTTahQEW28/3U+F1A61G4HoVEtEDUeOkmMciCQNEi2/l+imxA5dAi2/lWfUDXo3A9CtcSQIlBYOXQHbJAcT0K12P4tUCkcD0Kl8OrQHsUrkfh+k5AZmZmZma+YkCBlUOLbL9yQJ7vp8ZLN1BAL90kBoGpd0AK16NwveOkQArXo3A9CkRAAAAAAAAlkUAfhetRuKp6QAaBlUOLbA9AAAAAAAAQbkAtsp3vpypyQOomMQisdGpA4XoUrkfhR0CsHFpkO8qWQFK4HoXroX9AEFg5tMgUh0CkcD0K1+NTQArXo3A9sotAzczMzExsqUD+1HjpJrGCQArXo3C9nKBArBxaZDuvm0ArhxbZzgWCQFyPwvUoXDVAFK5H4XoUIkC0yHa+nxpLQDEIrBxa5EJA9ihcj8LlV0AzMzMzM7MhQHE9CtejcDNA7nw/NV66JkC8dJMYBNZLQNv5fmq8dDNAppvEILByMEC7SQwCK0dYQCCwcmiRB5VAnMQgsHIoUkDhehSuR5mAQJZDi2zn331AFK5H4XoUNkBYObTIdvWKQH9qvHRTwKVArkfhehSef0CamZmZGXmgQI6XbhKDLHdAH4XrUbh+fUDwp8ZLt/CuQPyp8dKtcttAarx0kxh2gkCJQWDl0A2wQHJoke18AX1AjZduEoOIjUC4HoXrUVhQQHWTGARWsnxAXI/C9SgkYkC+nxov3VSXQH0/NV661otAQDVeuklJkkCR7Xw/NZ6eQClcj8L1AHJAQDVeuknMYECsHFpkOyd3QC/dJAaBvX1A6Pup8dJtZ0AxCKwcWoR8QJQYBFYO7W5AK4cW2U5upUBDi2zn+8WGQGmR7Xy/JbpAj8L1KFw/YED4U+Olm/SDQOtRuB6Fa3JA8KfGSzeJQ0DHSzeJQeSPQNejcD0Kr2lAzczMzMyJk0B7FK5H4WqKQHnpJjEIHHBApHA9CtcfhEByaJHt/JeiQAwCK4cWqXFAy6FFtvMkpECXbhKDwAaIQClcj8L1YpBA8KfGSzeJM0DRItv5fgyGQHNoke28O7RAEoPAyqFPcEAj2/l+apCWQJvEILBy0aJAvp8aL92EckDNzMzMzPxnQMdLN4lBeppAEFg5tEgnp0CTGARWDhOMQK5H4XoUbnNAFK5H4XoUckDsUbgehetWQMHKoUW2h41ASOF6FK7nVkCMbOf7qQF0QBbZzvdTqLBA9ihcj8KdZkDkpZvEIDx0QFK4HoXrEV1AwvUoXI/iXUAdWmQ737aUQD81XrrJ2qBA5tAi2/m+a0D+1HjpphOeQJqZmZmZLYhAmpmZmRk3sUDVeOkmMah0QPYoXI/CyplAO99PjZfOb0Aw3SQGAXiVQNnO91PjOZBACtejcD1ucEDXo3A9ChdZQI/C9Shc635A9P3UeOnLnkAK16NwPQotQK5H4XoUnmpAbhKDwMp3jUB1kxgEVt6HQLfz/dT4OKpAmpmZmZl5YUAgQfFjzJOcQCGwcmhxC7BAokW28/3dnkA6tMh2vl9bQEoMAiuHFhFArkfhehTGiECF61G4HkGDQIts5/spt5lA16NwPQpXR0CiRbbz/RyHQCYxCKwcylVACtejcD2KZkBoke18P2SYQJDC9Shc6Y9AZmZmZmYNkUAxCKwcWpZxQJLtfD81Jm5AAAAAAMCHq0DrUbgehattQIlBYOXQWZRAMzMzMzMjgUD6fmq8dPN1QC/dJAaBSXJAhetRuB4FI0BxPQrXoxBxQPCnxks31XxAUI2XbpLboUCwcmiR7aWeQEw3iUFgEZVA7Xw/NV5qpEDrUbgepUrAQDm0yHb+r7NAFK5H4XoggkC+nxov3SRoQI/C9ShcX5VAH4XrUbgeLUAAAAAAAJueQHsUrkfhH5xASgwCK4eKo0A830+Nl9iHQF66SQxC565AWDm0yDbKy0AGgZVDi2xiQPCnxks32XRAFK5H4XockUAAAAAAABh1QNv5fmq8qIpAtvP91HhFf0CBlUOLbHyWQNnO91PjupxAtMh2vp8aN0BvEoPAyqmBQB+F61G43k1AmZmZmZmulkApXI/C9ex2QPYoXI9CLKBArkfhepQCikCPwvUoXE9eQOF6FK5HIVdAEoPAyqFFREBI4XoUrqd4QF66SQwCV7VAdZMYBFaYcECG61G4XiusQBgEVg4tl69A61G4HoUrb0BMN4lBYJiYQPhT46WbypdAEoPAyqHtk0Dwp8ZLt5+zQMuhRbbzrWBALbKd76fGQEB3vp8aL6SJQMdLN4lRPcJAiBbZzvfXtED8qfHSTe+kQPLSTWIQYZNAYeXQIivTxEAfhetRuH5qQPZKWYY4LnZAXI/C9Si7lEDrUbgehSuIQOomMQispH5AuB6F6xGtv0DHSzeJQdyOQArXo3A9aktAz/dT46Uvh0ACK4cWmU+iQM3MzMzMuH5A8/3UeOn8nECDwMqhxQKgQE5iEFg5Sp9AppvEILDqgUC+nxovXUihQESLbOd7rbFAu0kMAivXaUD8qfHSTUpoQBkEVg4tAmFARrbz/dR9qEBGtvP91AiEQCPb+X5qdJdAxSCwcmgylUBg5dAi2/lrQB+F61G4PkxAnMQgsHL4WUCuR+F6FP57QFK4HoXrUTZAFtnO91Oal0C1yHa+n/ulQLKd76cG8rRA4XoUrkfhI0CamZmZme2fQI2XbhKDsoxAKVyPwvXsnUCR7Xw/NauZQIGVQ4tsmZ9AUrgehes5fEDNzMzMzPxfQC2yne+nlJVAfT81XvqcvkBSuB6F6yqQQD81XrpJ05tAWDm0yLYvlUCNl24SI4zGQClcj8K1napAdZMYBBY6vEAVrkfhelyMQHNoke18hpNA1XjpJjE9kUCF61G4Hk2VQL6fGi/dxLVAuB6F67E/sUApXI/C9aeaQIXrUbgedWlAXI/C9ajRoUAxCKwcWkiEQLByaJHtZGtAGQRWDi0yYECDwMqhxUGdQFTjpZvE9oZANV66SQygnkBSuB6F6yaYQFyPwvWoKLNApHA9CtdDTUCBBMWPMS2MQDvfT41nSrNA30+Nl25SckDFILByqNm9QL6fGi/dwZNAPgrXozDDr0AxCKwcWsRGQOtRuB6F2apAPgrXo3Ayu0D2KFyPwjWeQDm0yHa+94hAvp8aL91wjUArhxbZznieQC2yne+n5Z9Asp3vp8Ysp0D+1HjppvSkQNV46SYxMKBAZTvfT035oEDrUbgeRYW0QA==",
          "dtype": "f8"
         },
         "yaxis": "y"
        }
       ],
       "frames": [
        {
         "data": [
          {
           "hovertemplate": "Year=2015<br>Order Date=%{x}<br>Sales=%{y}<extra></extra>",
           "legendgroup": "",
           "line": {
            "color": "#636efa",
            "dash": "solid"
           },
           "marker": {
            "symbol": "circle"
           },
           "mode": "lines",
           "name": "",
           "orientation": "v",
           "showlegend": false,
           "type": "scatter",
           "x": [
            "2015-01-02T00:00:00.000000000",
            "2015-01-03T00:00:00.000000000",
            "2015-01-04T00:00:00.000000000",
            "2015-01-06T00:00:00.000000000",
            "2015-01-07T00:00:00.000000000",
            "2015-01-08T00:00:00.000000000",
            "2015-01-09T00:00:00.000000000",
            "2015-01-10T00:00:00.000000000",
            "2015-01-11T00:00:00.000000000",
            "2015-01-12T00:00:00.000000000",
            "2015-01-13T00:00:00.000000000",
            "2015-01-14T00:00:00.000000000",
            "2015-01-15T00:00:00.000000000",
            "2015-01-16T00:00:00.000000000",
            "2015-01-18T00:00:00.000000000",
            "2015-01-19T00:00:00.000000000",
            "2015-01-20T00:00:00.000000000",
            "2015-01-23T00:00:00.000000000",
            "2015-01-26T00:00:00.000000000",
            "2015-01-27T00:00:00.000000000",
            "2015-01-28T00:00:00.000000000",
            "2015-01-30T00:00:00.000000000",
            "2015-01-31T00:00:00.000000000",
            "2015-02-02T00:00:00.000000000",
            "2015-02-03T00:00:00.000000000",
            "2015-02-04T00:00:00.000000000",
            "2015-02-05T00:00:00.000000000",
            "2015-02-06T00:00:00.000000000",
            "2015-02-07T00:00:00.000000000",
            "2015-02-08T00:00:00.000000000",
            "2015-02-09T00:00:00.000000000",
            "2015-02-10T00:00:00.000000000",
            "2015-02-11T00:00:00.000000000",
            "2015-02-12T00:00:00.000000000",
            "2015-02-14T00:00:00.000000000",
            "2015-02-15T00:00:00.000000000",
            "2015-02-16T00:00:00.000000000",
            "2015-02-17T00:00:00.000000000",
            "2015-02-18T00:00:00.000000000",
            "2015-02-20T00:00:00.000000000",
            "2015-02-21T00:00:00.000000000",
            "2015-02-22T00:00:00.000000000",
            "2015-02-23T00:00:00.000000000",
            "2015-02-24T00:00:00.000000000",
            "2015-02-27T00:00:00.000000000",
            "2015-03-01T00:00:00.000000000",
            "2015-03-02T00:00:00.000000000",
            "2015-03-03T00:00:00.000000000",
            "2015-03-05T00:00:00.000000000",
            "2015-03-06T00:00:00.000000000",
            "2015-03-08T00:00:00.000000000",
            "2015-03-09T00:00:00.000000000",
            "2015-03-10T00:00:00.000000000",
            "2015-03-11T00:00:00.000000000",
            "2015-03-12T00:00:00.000000000",
            "2015-03-14T00:00:00.000000000",
            "2015-03-15T00:00:00.000000000",
            "2015-03-16T00:00:00.000000000",
            "2015-03-17T00:00:00.000000000",
            "2015-03-18T00:00:00.000000000",
            "2015-03-19T00:00:00.000000000",
            "2015-03-21T00:00:00.000000000",
            "2015-03-22T00:00:00.000000000",
            "2015-03-23T00:00:00.000000000",
            "2015-03-24T00:00:00.000000000",
            "2015-03-25T00:00:00.000000000",
            "2015-03-26T00:00:00.000000000",
            "2015-03-28T00:00:00.000000000",
            "2015-03-29T00:00:00.000000000",
            "2015-03-30T00:00:00.000000000",
            "2015-03-31T00:00:00.000000000",
            "2015-04-01T00:00:00.000000000",
            "2015-04-02T00:00:00.000000000",
            "2015-04-03T00:00:00.000000000",
            "2015-04-04T00:00:00.000000000",
            "2015-04-05T00:00:00.000000000",
            "2015-04-06T00:00:00.000000000",
            "2015-04-07T00:00:00.000000000",
            "2015-04-08T00:00:00.000000000",
            "2015-04-10T00:00:00.000000000",
            "2015-04-11T00:00:00.000000000",
            "2015-04-12T00:00:00.000000000",
            "2015-04-13T00:00:00.000000000",
            "2015-04-15T00:00:00.000000000",
            "2015-04-16T00:00:00.000000000",
            "2015-04-18T00:00:00.000000000",
            "2015-04-19T00:00:00.000000000",
            "2015-04-20T00:00:00.000000000",
            "2015-04-21T00:00:00.000000000",
            "2015-04-22T00:00:00.000000000",
            "2015-04-23T00:00:00.000000000",
            "2015-04-25T00:00:00.000000000",
            "2015-04-26T00:00:00.000000000",
            "2015-04-28T00:00:00.000000000",
            "2015-04-29T00:00:00.000000000",
            "2015-04-30T00:00:00.000000000",
            "2015-05-01T00:00:00.000000000",
            "2015-05-03T00:00:00.000000000",
            "2015-05-04T00:00:00.000000000",
            "2015-05-05T00:00:00.000000000",
            "2015-05-07T00:00:00.000000000",
            "2015-05-08T00:00:00.000000000",
            "2015-05-09T00:00:00.000000000",
            "2015-05-10T00:00:00.000000000",
            "2015-05-11T00:00:00.000000000",
            "2015-05-12T00:00:00.000000000",
            "2015-05-13T00:00:00.000000000",
            "2015-05-14T00:00:00.000000000",
            "2015-05-16T00:00:00.000000000",
            "2015-05-17T00:00:00.000000000",
            "2015-05-18T00:00:00.000000000",
            "2015-05-19T00:00:00.000000000",
            "2015-05-20T00:00:00.000000000",
            "2015-05-21T00:00:00.000000000",
            "2015-05-22T00:00:00.000000000",
            "2015-05-23T00:00:00.000000000",
            "2015-05-24T00:00:00.000000000",
            "2015-05-25T00:00:00.000000000",
            "2015-05-26T00:00:00.000000000",
            "2015-05-27T00:00:00.000000000",
            "2015-05-28T00:00:00.000000000",
            "2015-05-30T00:00:00.000000000",
            "2015-05-31T00:00:00.000000000",
            "2015-06-01T00:00:00.000000000",
            "2015-06-02T00:00:00.000000000",
            "2015-06-04T00:00:00.000000000",
            "2015-06-05T00:00:00.000000000",
            "2015-06-06T00:00:00.000000000",
            "2015-06-07T00:00:00.000000000",
            "2015-06-08T00:00:00.000000000",
            "2015-06-09T00:00:00.000000000",
            "2015-06-10T00:00:00.000000000",
            "2015-06-12T00:00:00.000000000",
            "2015-06-13T00:00:00.000000000",
            "2015-06-14T00:00:00.000000000",
            "2015-06-15T00:00:00.000000000",
            "2015-06-16T00:00:00.000000000",
            "2015-06-17T00:00:00.000000000",
            "2015-06-18T00:00:00.000000000",
            "2015-06-20T00:00:00.000000000",
            "2015-06-21T00:00:00.000000000",
            "2015-06-22T00:00:00.000000000",
            "2015-06-23T00:00:00.000000000",
            "2015-06-24T00:00:00.000000000",
            "2015-06-25T00:00:00.000000000",
            "2015-06-27T00:00:00.000000000",
            "2015-06-28T00:00:00.000000000",
            "2015-06-29T00:00:00.000000000",
            "2015-06-30T00:00:00.000000000",
            "2015-07-01T00:00:00.000000000",
            "2015-07-02T00:00:00.000000000",
            "2015-07-03T00:00:00.000000000",
            "2015-07-04T00:00:00.000000000",
            "2015-07-05T00:00:00.000000000",
            "2015-07-06T00:00:00.000000000",
            "2015-07-07T00:00:00.000000000",
            "2015-07-09T00:00:00.000000000",
            "2015-07-10T00:00:00.000000000",
            "2015-07-11T00:00:00.000000000",
            "2015-07-12T00:00:00.000000000",
            "2015-07-13T00:00:00.000000000",
            "2015-07-14T00:00:00.000000000",
            "2015-07-15T00:00:00.000000000",
            "2015-07-18T00:00:00.000000000",
            "2015-07-19T00:00:00.000000000",
            "2015-07-20T00:00:00.000000000",
            "2015-07-21T00:00:00.000000000",
            "2015-07-22T00:00:00.000000000",
            "2015-07-23T00:00:00.000000000",
            "2015-07-25T00:00:00.000000000",
            "2015-07-26T00:00:00.000000000",
            "2015-07-27T00:00:00.000000000",
            "2015-07-28T00:00:00.000000000",
            "2015-07-30T00:00:00.000000000",
            "2015-08-02T00:00:00.000000000",
            "2015-08-04T00:00:00.000000000",
            "2015-08-05T00:00:00.000000000",
            "2015-08-06T00:00:00.000000000",
            "2015-08-07T00:00:00.000000000",
            "2015-08-08T00:00:00.000000000",
            "2015-08-09T00:00:00.000000000",
            "2015-08-10T00:00:00.000000000",
            "2015-08-11T00:00:00.000000000",
            "2015-08-12T00:00:00.000000000",
            "2015-08-15T00:00:00.000000000",
            "2015-08-16T00:00:00.000000000",
            "2015-08-17T00:00:00.000000000",
            "2015-08-19T00:00:00.000000000",
            "2015-08-20T00:00:00.000000000",
            "2015-08-22T00:00:00.000000000",
            "2015-08-23T00:00:00.000000000",
            "2015-08-24T00:00:00.000000000",
            "2015-08-25T00:00:00.000000000",
            "2015-08-26T00:00:00.000000000",
            "2015-08-27T00:00:00.000000000",
            "2015-08-29T00:00:00.000000000",
            "2015-08-30T00:00:00.000000000",
            "2015-08-31T00:00:00.000000000",
            "2015-09-01T00:00:00.000000000",
            "2015-09-05T00:00:00.000000000",
            "2015-09-06T00:00:00.000000000",
            "2015-09-07T00:00:00.000000000",
            "2015-09-08T00:00:00.000000000",
            "2015-09-09T00:00:00.000000000",
            "2015-09-10T00:00:00.000000000",
            "2015-09-11T00:00:00.000000000",
            "2015-09-12T00:00:00.000000000",
            "2015-09-13T00:00:00.000000000",
            "2015-09-14T00:00:00.000000000",
            "2015-09-15T00:00:00.000000000",
            "2015-09-16T00:00:00.000000000",
            "2015-09-17T00:00:00.000000000",
            "2015-09-19T00:00:00.000000000",
            "2015-09-20T00:00:00.000000000",
            "2015-09-21T00:00:00.000000000",
            "2015-09-22T00:00:00.000000000",
            "2015-09-23T00:00:00.000000000",
            "2015-09-24T00:00:00.000000000",
            "2015-09-25T00:00:00.000000000",
            "2015-09-26T00:00:00.000000000",
            "2015-09-27T00:00:00.000000000",
            "2015-09-28T00:00:00.000000000",
            "2015-09-29T00:00:00.000000000",
            "2015-09-30T00:00:00.000000000",
            "2015-10-01T00:00:00.000000000",
            "2015-10-03T00:00:00.000000000",
            "2015-10-05T00:00:00.000000000",
            "2015-10-06T00:00:00.000000000",
            "2015-10-09T00:00:00.000000000",
            "2015-10-10T00:00:00.000000000",
            "2015-10-11T00:00:00.000000000",
            "2015-10-12T00:00:00.000000000",
            "2015-10-13T00:00:00.000000000",
            "2015-10-14T00:00:00.000000000",
            "2015-10-15T00:00:00.000000000",
            "2015-10-16T00:00:00.000000000",
            "2015-10-17T00:00:00.000000000",
            "2015-10-18T00:00:00.000000000",
            "2015-10-19T00:00:00.000000000",
            "2015-10-20T00:00:00.000000000",
            "2015-10-21T00:00:00.000000000",
            "2015-10-22T00:00:00.000000000",
            "2015-10-24T00:00:00.000000000",
            "2015-10-25T00:00:00.000000000",
            "2015-10-26T00:00:00.000000000",
            "2015-10-27T00:00:00.000000000",
            "2015-10-28T00:00:00.000000000",
            "2015-10-29T00:00:00.000000000",
            "2015-10-31T00:00:00.000000000",
            "2015-11-01T00:00:00.000000000",
            "2015-11-02T00:00:00.000000000",
            "2015-11-03T00:00:00.000000000",
            "2015-11-04T00:00:00.000000000",
            "2015-11-05T00:00:00.000000000",
            "2015-11-07T00:00:00.000000000",
            "2015-11-08T00:00:00.000000000",
            "2015-11-09T00:00:00.000000000",
            "2015-11-10T00:00:00.000000000",
            "2015-11-11T00:00:00.000000000",
            "2015-11-14T00:00:00.000000000",
            "2015-11-15T00:00:00.000000000",
            "2015-11-16T00:00:00.000000000",
            "2015-11-17T00:00:00.000000000",
            "2015-11-18T00:00:00.000000000",
            "2015-11-19T00:00:00.000000000",
            "2015-11-20T00:00:00.000000000",
            "2015-11-21T00:00:00.000000000",
            "2015-11-22T00:00:00.000000000",
            "2015-11-23T00:00:00.000000000",
            "2015-11-24T00:00:00.000000000",
            "2015-11-25T00:00:00.000000000",
            "2015-11-26T00:00:00.000000000",
            "2015-11-27T00:00:00.000000000",
            "2015-11-28T00:00:00.000000000",
            "2015-11-29T00:00:00.000000000",
            "2015-11-30T00:00:00.000000000",
            "2015-12-02T00:00:00.000000000",
            "2015-12-04T00:00:00.000000000",
            "2015-12-05T00:00:00.000000000",
            "2015-12-07T00:00:00.000000000",
            "2015-12-08T00:00:00.000000000",
            "2015-12-09T00:00:00.000000000",
            "2015-12-10T00:00:00.000000000",
            "2015-12-11T00:00:00.000000000",
            "2015-12-12T00:00:00.000000000",
            "2015-12-13T00:00:00.000000000",
            "2015-12-14T00:00:00.000000000",
            "2015-12-15T00:00:00.000000000",
            "2015-12-16T00:00:00.000000000",
            "2015-12-17T00:00:00.000000000",
            "2015-12-19T00:00:00.000000000",
            "2015-12-20T00:00:00.000000000",
            "2015-12-21T00:00:00.000000000",
            "2015-12-22T00:00:00.000000000",
            "2015-12-23T00:00:00.000000000",
            "2015-12-24T00:00:00.000000000",
            "2015-12-26T00:00:00.000000000",
            "2015-12-27T00:00:00.000000000",
            "2015-12-28T00:00:00.000000000",
            "2015-12-29T00:00:00.000000000",
            "2015-12-30T00:00:00.000000000",
            "2015-12-31T00:00:00.000000000"
           ],
           "xaxis": "x",
           "y": {
            "bdata": "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",
            "dtype": "f8"
           },
           "yaxis": "y"
          }
         ],
         "name": "2015"
        },
        {
         "data": [
          {
           "hovertemplate": "Year=2016<br>Order Date=%{x}<br>Sales=%{y}<extra></extra>",
           "legendgroup": "",
           "line": {
            "color": "#636efa",
            "dash": "solid"
           },
           "marker": {
            "symbol": "circle"
           },
           "mode": "lines",
           "name": "",
           "orientation": "v",
           "showlegend": false,
           "type": "scatter",
           "x": [
            "2016-01-03T00:00:00.000000000",
            "2016-01-05T00:00:00.000000000",
            "2016-01-06T00:00:00.000000000",
            "2016-01-08T00:00:00.000000000",
            "2016-01-09T00:00:00.000000000",
            "2016-01-10T00:00:00.000000000",
            "2016-01-11T00:00:00.000000000",
            "2016-01-12T00:00:00.000000000",
            "2016-01-13T00:00:00.000000000",
            "2016-01-17T00:00:00.000000000",
            "2016-01-19T00:00:00.000000000",
            "2016-01-23T00:00:00.000000000",
            "2016-01-24T00:00:00.000000000",
            "2016-01-26T00:00:00.000000000",
            "2016-01-27T00:00:00.000000000",
            "2016-01-28T00:00:00.000000000",
            "2016-01-30T00:00:00.000000000",
            "2016-01-31T00:00:00.000000000",
            "2016-02-01T00:00:00.000000000",
            "2016-02-03T00:00:00.000000000",
            "2016-02-04T00:00:00.000000000",
            "2016-02-05T00:00:00.000000000",
            "2016-02-07T00:00:00.000000000",
            "2016-02-08T00:00:00.000000000",
            "2016-02-10T00:00:00.000000000",
            "2016-02-11T00:00:00.000000000",
            "2016-02-14T00:00:00.000000000",
            "2016-02-15T00:00:00.000000000",
            "2016-02-16T00:00:00.000000000",
            "2016-02-18T00:00:00.000000000",
            "2016-02-20T00:00:00.000000000",
            "2016-02-21T00:00:00.000000000",
            "2016-02-22T00:00:00.000000000",
            "2016-02-23T00:00:00.000000000",
            "2016-02-25T00:00:00.000000000",
            "2016-02-27T00:00:00.000000000",
            "2016-02-28T00:00:00.000000000",
            "2016-03-01T00:00:00.000000000",
            "2016-03-02T00:00:00.000000000",
            "2016-03-05T00:00:00.000000000",
            "2016-03-07T00:00:00.000000000",
            "2016-03-09T00:00:00.000000000",
            "2016-03-10T00:00:00.000000000",
            "2016-03-11T00:00:00.000000000",
            "2016-03-12T00:00:00.000000000",
            "2016-03-13T00:00:00.000000000",
            "2016-03-14T00:00:00.000000000",
            "2016-03-15T00:00:00.000000000",
            "2016-03-16T00:00:00.000000000",
            "2016-03-17T00:00:00.000000000",
            "2016-03-19T00:00:00.000000000",
            "2016-03-20T00:00:00.000000000",
            "2016-03-21T00:00:00.000000000",
            "2016-03-22T00:00:00.000000000",
            "2016-03-23T00:00:00.000000000",
            "2016-03-24T00:00:00.000000000",
            "2016-03-26T00:00:00.000000000",
            "2016-03-27T00:00:00.000000000",
            "2016-03-28T00:00:00.000000000",
            "2016-03-29T00:00:00.000000000",
            "2016-03-30T00:00:00.000000000",
            "2016-03-31T00:00:00.000000000",
            "2016-04-01T00:00:00.000000000",
            "2016-04-04T00:00:00.000000000",
            "2016-04-05T00:00:00.000000000",
            "2016-04-06T00:00:00.000000000",
            "2016-04-07T00:00:00.000000000",
            "2016-04-09T00:00:00.000000000",
            "2016-04-10T00:00:00.000000000",
            "2016-04-12T00:00:00.000000000",
            "2016-04-13T00:00:00.000000000",
            "2016-04-14T00:00:00.000000000",
            "2016-04-16T00:00:00.000000000",
            "2016-04-17T00:00:00.000000000",
            "2016-04-18T00:00:00.000000000",
            "2016-04-19T00:00:00.000000000",
            "2016-04-20T00:00:00.000000000",
            "2016-04-21T00:00:00.000000000",
            "2016-04-22T00:00:00.000000000",
            "2016-04-24T00:00:00.000000000",
            "2016-04-25T00:00:00.000000000",
            "2016-04-26T00:00:00.000000000",
            "2016-04-27T00:00:00.000000000",
            "2016-04-28T00:00:00.000000000",
            "2016-04-29T00:00:00.000000000",
            "2016-04-30T00:00:00.000000000",
            "2016-05-01T00:00:00.000000000",
            "2016-05-03T00:00:00.000000000",
            "2016-05-04T00:00:00.000000000",
            "2016-05-06T00:00:00.000000000",
            "2016-05-07T00:00:00.000000000",
            "2016-05-08T00:00:00.000000000",
            "2016-05-09T00:00:00.000000000",
            "2016-05-10T00:00:00.000000000",
            "2016-05-11T00:00:00.000000000",
            "2016-05-12T00:00:00.000000000",
            "2016-05-13T00:00:00.000000000",
            "2016-05-14T00:00:00.000000000",
            "2016-05-15T00:00:00.000000000",
            "2016-05-16T00:00:00.000000000",
            "2016-05-17T00:00:00.000000000",
            "2016-05-18T00:00:00.000000000",
            "2016-05-20T00:00:00.000000000",
            "2016-05-21T00:00:00.000000000",
            "2016-05-22T00:00:00.000000000",
            "2016-05-23T00:00:00.000000000",
            "2016-05-24T00:00:00.000000000",
            "2016-05-25T00:00:00.000000000",
            "2016-05-26T00:00:00.000000000",
            "2016-05-28T00:00:00.000000000",
            "2016-05-29T00:00:00.000000000",
            "2016-05-30T00:00:00.000000000",
            "2016-05-31T00:00:00.000000000",
            "2016-06-01T00:00:00.000000000",
            "2016-06-02T00:00:00.000000000",
            "2016-06-03T00:00:00.000000000",
            "2016-06-04T00:00:00.000000000",
            "2016-06-07T00:00:00.000000000",
            "2016-06-08T00:00:00.000000000",
            "2016-06-09T00:00:00.000000000",
            "2016-06-11T00:00:00.000000000",
            "2016-06-12T00:00:00.000000000",
            "2016-06-13T00:00:00.000000000",
            "2016-06-14T00:00:00.000000000",
            "2016-06-15T00:00:00.000000000",
            "2016-06-16T00:00:00.000000000",
            "2016-06-18T00:00:00.000000000",
            "2016-06-19T00:00:00.000000000",
            "2016-06-20T00:00:00.000000000",
            "2016-06-21T00:00:00.000000000",
            "2016-06-22T00:00:00.000000000",
            "2016-06-23T00:00:00.000000000",
            "2016-06-25T00:00:00.000000000",
            "2016-06-26T00:00:00.000000000",
            "2016-06-28T00:00:00.000000000",
            "2016-06-29T00:00:00.000000000",
            "2016-07-02T00:00:00.000000000",
            "2016-07-03T00:00:00.000000000",
            "2016-07-04T00:00:00.000000000",
            "2016-07-05T00:00:00.000000000",
            "2016-07-06T00:00:00.000000000",
            "2016-07-08T00:00:00.000000000",
            "2016-07-09T00:00:00.000000000",
            "2016-07-11T00:00:00.000000000",
            "2016-07-12T00:00:00.000000000",
            "2016-07-13T00:00:00.000000000",
            "2016-07-14T00:00:00.000000000",
            "2016-07-16T00:00:00.000000000",
            "2016-07-17T00:00:00.000000000",
            "2016-07-18T00:00:00.000000000",
            "2016-07-19T00:00:00.000000000",
            "2016-07-20T00:00:00.000000000",
            "2016-07-23T00:00:00.000000000",
            "2016-07-24T00:00:00.000000000",
            "2016-07-25T00:00:00.000000000",
            "2016-07-26T00:00:00.000000000",
            "2016-07-27T00:00:00.000000000",
            "2016-07-30T00:00:00.000000000",
            "2016-07-31T00:00:00.000000000",
            "2016-08-02T00:00:00.000000000",
            "2016-08-03T00:00:00.000000000",
            "2016-08-05T00:00:00.000000000",
            "2016-08-06T00:00:00.000000000",
            "2016-08-07T00:00:00.000000000",
            "2016-08-08T00:00:00.000000000",
            "2016-08-09T00:00:00.000000000",
            "2016-08-10T00:00:00.000000000",
            "2016-08-11T00:00:00.000000000",
            "2016-08-12T00:00:00.000000000",
            "2016-08-13T00:00:00.000000000",
            "2016-08-15T00:00:00.000000000",
            "2016-08-16T00:00:00.000000000",
            "2016-08-17T00:00:00.000000000",
            "2016-08-21T00:00:00.000000000",
            "2016-08-22T00:00:00.000000000",
            "2016-08-23T00:00:00.000000000",
            "2016-08-24T00:00:00.000000000",
            "2016-08-25T00:00:00.000000000",
            "2016-08-27T00:00:00.000000000",
            "2016-08-28T00:00:00.000000000",
            "2016-08-29T00:00:00.000000000",
            "2016-08-31T00:00:00.000000000",
            "2016-09-01T00:00:00.000000000",
            "2016-09-02T00:00:00.000000000",
            "2016-09-03T00:00:00.000000000",
            "2016-09-04T00:00:00.000000000",
            "2016-09-05T00:00:00.000000000",
            "2016-09-06T00:00:00.000000000",
            "2016-09-07T00:00:00.000000000",
            "2016-09-08T00:00:00.000000000",
            "2016-09-10T00:00:00.000000000",
            "2016-09-11T00:00:00.000000000",
            "2016-09-12T00:00:00.000000000",
            "2016-09-13T00:00:00.000000000",
            "2016-09-14T00:00:00.000000000",
            "2016-09-15T00:00:00.000000000",
            "2016-09-16T00:00:00.000000000",
            "2016-09-17T00:00:00.000000000",
            "2016-09-18T00:00:00.000000000",
            "2016-09-19T00:00:00.000000000",
            "2016-09-20T00:00:00.000000000",
            "2016-09-21T00:00:00.000000000",
            "2016-09-22T00:00:00.000000000",
            "2016-09-24T00:00:00.000000000",
            "2016-09-25T00:00:00.000000000",
            "2016-09-26T00:00:00.000000000",
            "2016-09-27T00:00:00.000000000",
            "2016-09-28T00:00:00.000000000",
            "2016-10-01T00:00:00.000000000",
            "2016-10-02T00:00:00.000000000",
            "2016-10-03T00:00:00.000000000",
            "2016-10-04T00:00:00.000000000",
            "2016-10-05T00:00:00.000000000",
            "2016-10-07T00:00:00.000000000",
            "2016-10-08T00:00:00.000000000",
            "2016-10-09T00:00:00.000000000",
            "2016-10-10T00:00:00.000000000",
            "2016-10-11T00:00:00.000000000",
            "2016-10-12T00:00:00.000000000",
            "2016-10-13T00:00:00.000000000",
            "2016-10-15T00:00:00.000000000",
            "2016-10-16T00:00:00.000000000",
            "2016-10-17T00:00:00.000000000",
            "2016-10-18T00:00:00.000000000",
            "2016-10-19T00:00:00.000000000",
            "2016-10-20T00:00:00.000000000",
            "2016-10-22T00:00:00.000000000",
            "2016-10-23T00:00:00.000000000",
            "2016-10-24T00:00:00.000000000",
            "2016-10-25T00:00:00.000000000",
            "2016-10-26T00:00:00.000000000",
            "2016-10-28T00:00:00.000000000",
            "2016-10-29T00:00:00.000000000",
            "2016-10-30T00:00:00.000000000",
            "2016-10-31T00:00:00.000000000",
            "2016-11-04T00:00:00.000000000",
            "2016-11-05T00:00:00.000000000",
            "2016-11-06T00:00:00.000000000",
            "2016-11-07T00:00:00.000000000",
            "2016-11-08T00:00:00.000000000",
            "2016-11-09T00:00:00.000000000",
            "2016-11-10T00:00:00.000000000",
            "2016-11-11T00:00:00.000000000",
            "2016-11-12T00:00:00.000000000",
            "2016-11-13T00:00:00.000000000",
            "2016-11-14T00:00:00.000000000",
            "2016-11-15T00:00:00.000000000",
            "2016-11-16T00:00:00.000000000",
            "2016-11-17T00:00:00.000000000",
            "2016-11-19T00:00:00.000000000",
            "2016-11-20T00:00:00.000000000",
            "2016-11-21T00:00:00.000000000",
            "2016-11-22T00:00:00.000000000",
            "2016-11-23T00:00:00.000000000",
            "2016-11-24T00:00:00.000000000",
            "2016-11-25T00:00:00.000000000",
            "2016-11-26T00:00:00.000000000",
            "2016-11-27T00:00:00.000000000",
            "2016-11-28T00:00:00.000000000",
            "2016-11-29T00:00:00.000000000",
            "2016-11-30T00:00:00.000000000",
            "2016-12-01T00:00:00.000000000",
            "2016-12-03T00:00:00.000000000",
            "2016-12-05T00:00:00.000000000",
            "2016-12-06T00:00:00.000000000",
            "2016-12-07T00:00:00.000000000",
            "2016-12-09T00:00:00.000000000",
            "2016-12-10T00:00:00.000000000",
            "2016-12-11T00:00:00.000000000",
            "2016-12-12T00:00:00.000000000",
            "2016-12-13T00:00:00.000000000",
            "2016-12-14T00:00:00.000000000",
            "2016-12-15T00:00:00.000000000",
            "2016-12-16T00:00:00.000000000",
            "2016-12-17T00:00:00.000000000",
            "2016-12-18T00:00:00.000000000",
            "2016-12-19T00:00:00.000000000",
            "2016-12-20T00:00:00.000000000",
            "2016-12-21T00:00:00.000000000",
            "2016-12-22T00:00:00.000000000",
            "2016-12-23T00:00:00.000000000",
            "2016-12-24T00:00:00.000000000",
            "2016-12-25T00:00:00.000000000",
            "2016-12-26T00:00:00.000000000",
            "2016-12-27T00:00:00.000000000",
            "2016-12-28T00:00:00.000000000",
            "2016-12-30T00:00:00.000000000",
            "2016-12-31T00:00:00.000000000"
           ],
           "xaxis": "x",
           "y": {
            "bdata": "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",
            "dtype": "f8"
           },
           "yaxis": "y"
          }
         ],
         "name": "2016"
        },
        {
         "data": [
          {
           "hovertemplate": "Year=2017<br>Order Date=%{x}<br>Sales=%{y}<extra></extra>",
           "legendgroup": "",
           "line": {
            "color": "#636efa",
            "dash": "solid"
           },
           "marker": {
            "symbol": "circle"
           },
           "mode": "lines",
           "name": "",
           "orientation": "v",
           "showlegend": false,
           "type": "scatter",
           "x": [
            "2017-01-02T00:00:00.000000000",
            "2017-01-03T00:00:00.000000000",
            "2017-01-04T00:00:00.000000000",
            "2017-01-05T00:00:00.000000000",
            "2017-01-07T00:00:00.000000000",
            "2017-01-08T00:00:00.000000000",
            "2017-01-09T00:00:00.000000000",
            "2017-01-10T00:00:00.000000000",
            "2017-01-11T00:00:00.000000000",
            "2017-01-12T00:00:00.000000000",
            "2017-01-14T00:00:00.000000000",
            "2017-01-15T00:00:00.000000000",
            "2017-01-16T00:00:00.000000000",
            "2017-01-17T00:00:00.000000000",
            "2017-01-21T00:00:00.000000000",
            "2017-01-22T00:00:00.000000000",
            "2017-01-23T00:00:00.000000000",
            "2017-01-24T00:00:00.000000000",
            "2017-01-25T00:00:00.000000000",
            "2017-01-28T00:00:00.000000000",
            "2017-01-30T00:00:00.000000000",
            "2017-01-31T00:00:00.000000000",
            "2017-02-01T00:00:00.000000000",
            "2017-02-02T00:00:00.000000000",
            "2017-02-04T00:00:00.000000000",
            "2017-02-05T00:00:00.000000000",
            "2017-02-06T00:00:00.000000000",
            "2017-02-07T00:00:00.000000000",
            "2017-02-08T00:00:00.000000000",
            "2017-02-09T00:00:00.000000000",
            "2017-02-10T00:00:00.000000000",
            "2017-02-12T00:00:00.000000000",
            "2017-02-13T00:00:00.000000000",
            "2017-02-14T00:00:00.000000000",
            "2017-02-15T00:00:00.000000000",
            "2017-02-16T00:00:00.000000000",
            "2017-02-19T00:00:00.000000000",
            "2017-02-20T00:00:00.000000000",
            "2017-02-21T00:00:00.000000000",
            "2017-02-22T00:00:00.000000000",
            "2017-02-23T00:00:00.000000000",
            "2017-02-25T00:00:00.000000000",
            "2017-02-27T00:00:00.000000000",
            "2017-02-28T00:00:00.000000000",
            "2017-03-01T00:00:00.000000000",
            "2017-03-02T00:00:00.000000000",
            "2017-03-03T00:00:00.000000000",
            "2017-03-04T00:00:00.000000000",
            "2017-03-05T00:00:00.000000000",
            "2017-03-07T00:00:00.000000000",
            "2017-03-08T00:00:00.000000000",
            "2017-03-09T00:00:00.000000000",
            "2017-03-10T00:00:00.000000000",
            "2017-03-11T00:00:00.000000000",
            "2017-03-12T00:00:00.000000000",
            "2017-03-13T00:00:00.000000000",
            "2017-03-14T00:00:00.000000000",
            "2017-03-15T00:00:00.000000000",
            "2017-03-17T00:00:00.000000000",
            "2017-03-18T00:00:00.000000000",
            "2017-03-19T00:00:00.000000000",
            "2017-03-20T00:00:00.000000000",
            "2017-03-21T00:00:00.000000000",
            "2017-03-22T00:00:00.000000000",
            "2017-03-24T00:00:00.000000000",
            "2017-03-25T00:00:00.000000000",
            "2017-03-26T00:00:00.000000000",
            "2017-03-27T00:00:00.000000000",
            "2017-03-28T00:00:00.000000000",
            "2017-03-29T00:00:00.000000000",
            "2017-03-30T00:00:00.000000000",
            "2017-03-31T00:00:00.000000000",
            "2017-04-01T00:00:00.000000000",
            "2017-04-02T00:00:00.000000000",
            "2017-04-03T00:00:00.000000000",
            "2017-04-04T00:00:00.000000000",
            "2017-04-06T00:00:00.000000000",
            "2017-04-07T00:00:00.000000000",
            "2017-04-08T00:00:00.000000000",
            "2017-04-09T00:00:00.000000000",
            "2017-04-10T00:00:00.000000000",
            "2017-04-11T00:00:00.000000000",
            "2017-04-12T00:00:00.000000000",
            "2017-04-13T00:00:00.000000000",
            "2017-04-14T00:00:00.000000000",
            "2017-04-15T00:00:00.000000000",
            "2017-04-16T00:00:00.000000000",
            "2017-04-17T00:00:00.000000000",
            "2017-04-18T00:00:00.000000000",
            "2017-04-19T00:00:00.000000000",
            "2017-04-21T00:00:00.000000000",
            "2017-04-22T00:00:00.000000000",
            "2017-04-23T00:00:00.000000000",
            "2017-04-24T00:00:00.000000000",
            "2017-04-25T00:00:00.000000000",
            "2017-04-26T00:00:00.000000000",
            "2017-04-28T00:00:00.000000000",
            "2017-04-30T00:00:00.000000000",
            "2017-05-01T00:00:00.000000000",
            "2017-05-02T00:00:00.000000000",
            "2017-05-03T00:00:00.000000000",
            "2017-05-04T00:00:00.000000000",
            "2017-05-05T00:00:00.000000000",
            "2017-05-06T00:00:00.000000000",
            "2017-05-08T00:00:00.000000000",
            "2017-05-09T00:00:00.000000000",
            "2017-05-11T00:00:00.000000000",
            "2017-05-12T00:00:00.000000000",
            "2017-05-14T00:00:00.000000000",
            "2017-05-15T00:00:00.000000000",
            "2017-05-16T00:00:00.000000000",
            "2017-05-17T00:00:00.000000000",
            "2017-05-18T00:00:00.000000000",
            "2017-05-19T00:00:00.000000000",
            "2017-05-20T00:00:00.000000000",
            "2017-05-21T00:00:00.000000000",
            "2017-05-22T00:00:00.000000000",
            "2017-05-23T00:00:00.000000000",
            "2017-05-24T00:00:00.000000000",
            "2017-05-25T00:00:00.000000000",
            "2017-05-26T00:00:00.000000000",
            "2017-05-27T00:00:00.000000000",
            "2017-05-28T00:00:00.000000000",
            "2017-05-29T00:00:00.000000000",
            "2017-05-30T00:00:00.000000000",
            "2017-05-31T00:00:00.000000000",
            "2017-06-02T00:00:00.000000000",
            "2017-06-03T00:00:00.000000000",
            "2017-06-04T00:00:00.000000000",
            "2017-06-05T00:00:00.000000000",
            "2017-06-06T00:00:00.000000000",
            "2017-06-08T00:00:00.000000000",
            "2017-06-09T00:00:00.000000000",
            "2017-06-10T00:00:00.000000000",
            "2017-06-11T00:00:00.000000000",
            "2017-06-12T00:00:00.000000000",
            "2017-06-13T00:00:00.000000000",
            "2017-06-14T00:00:00.000000000",
            "2017-06-15T00:00:00.000000000",
            "2017-06-16T00:00:00.000000000",
            "2017-06-17T00:00:00.000000000",
            "2017-06-18T00:00:00.000000000",
            "2017-06-19T00:00:00.000000000",
            "2017-06-20T00:00:00.000000000",
            "2017-06-21T00:00:00.000000000",
            "2017-06-23T00:00:00.000000000",
            "2017-06-24T00:00:00.000000000",
            "2017-06-25T00:00:00.000000000",
            "2017-06-26T00:00:00.000000000",
            "2017-06-27T00:00:00.000000000",
            "2017-06-28T00:00:00.000000000",
            "2017-06-29T00:00:00.000000000",
            "2017-06-30T00:00:00.000000000",
            "2017-07-01T00:00:00.000000000",
            "2017-07-02T00:00:00.000000000",
            "2017-07-03T00:00:00.000000000",
            "2017-07-04T00:00:00.000000000",
            "2017-07-05T00:00:00.000000000",
            "2017-07-06T00:00:00.000000000",
            "2017-07-07T00:00:00.000000000",
            "2017-07-08T00:00:00.000000000",
            "2017-07-10T00:00:00.000000000",
            "2017-07-11T00:00:00.000000000",
            "2017-07-14T00:00:00.000000000",
            "2017-07-15T00:00:00.000000000",
            "2017-07-16T00:00:00.000000000",
            "2017-07-17T00:00:00.000000000",
            "2017-07-18T00:00:00.000000000",
            "2017-07-19T00:00:00.000000000",
            "2017-07-20T00:00:00.000000000",
            "2017-07-21T00:00:00.000000000",
            "2017-07-22T00:00:00.000000000",
            "2017-07-23T00:00:00.000000000",
            "2017-07-24T00:00:00.000000000",
            "2017-07-25T00:00:00.000000000",
            "2017-07-28T00:00:00.000000000",
            "2017-07-29T00:00:00.000000000",
            "2017-07-30T00:00:00.000000000",
            "2017-07-31T00:00:00.000000000",
            "2017-08-01T00:00:00.000000000",
            "2017-08-02T00:00:00.000000000",
            "2017-08-03T00:00:00.000000000",
            "2017-08-04T00:00:00.000000000",
            "2017-08-05T00:00:00.000000000",
            "2017-08-07T00:00:00.000000000",
            "2017-08-08T00:00:00.000000000",
            "2017-08-09T00:00:00.000000000",
            "2017-08-10T00:00:00.000000000",
            "2017-08-11T00:00:00.000000000",
            "2017-08-12T00:00:00.000000000",
            "2017-08-13T00:00:00.000000000",
            "2017-08-14T00:00:00.000000000",
            "2017-08-15T00:00:00.000000000",
            "2017-08-16T00:00:00.000000000",
            "2017-08-17T00:00:00.000000000",
            "2017-08-18T00:00:00.000000000",
            "2017-08-19T00:00:00.000000000",
            "2017-08-20T00:00:00.000000000",
            "2017-08-21T00:00:00.000000000",
            "2017-08-22T00:00:00.000000000",
            "2017-08-23T00:00:00.000000000",
            "2017-08-26T00:00:00.000000000",
            "2017-08-27T00:00:00.000000000",
            "2017-08-28T00:00:00.000000000",
            "2017-08-29T00:00:00.000000000",
            "2017-08-30T00:00:00.000000000",
            "2017-08-31T00:00:00.000000000",
            "2017-09-01T00:00:00.000000000",
            "2017-09-02T00:00:00.000000000",
            "2017-09-03T00:00:00.000000000",
            "2017-09-04T00:00:00.000000000",
            "2017-09-05T00:00:00.000000000",
            "2017-09-06T00:00:00.000000000",
            "2017-09-07T00:00:00.000000000",
            "2017-09-08T00:00:00.000000000",
            "2017-09-09T00:00:00.000000000",
            "2017-09-10T00:00:00.000000000",
            "2017-09-11T00:00:00.000000000",
            "2017-09-12T00:00:00.000000000",
            "2017-09-13T00:00:00.000000000",
            "2017-09-14T00:00:00.000000000",
            "2017-09-15T00:00:00.000000000",
            "2017-09-16T00:00:00.000000000",
            "2017-09-17T00:00:00.000000000",
            "2017-09-18T00:00:00.000000000",
            "2017-09-19T00:00:00.000000000",
            "2017-09-20T00:00:00.000000000",
            "2017-09-22T00:00:00.000000000",
            "2017-09-23T00:00:00.000000000",
            "2017-09-24T00:00:00.000000000",
            "2017-09-25T00:00:00.000000000",
            "2017-09-26T00:00:00.000000000",
            "2017-09-27T00:00:00.000000000",
            "2017-09-28T00:00:00.000000000",
            "2017-09-29T00:00:00.000000000",
            "2017-09-30T00:00:00.000000000",
            "2017-10-01T00:00:00.000000000",
            "2017-10-03T00:00:00.000000000",
            "2017-10-04T00:00:00.000000000",
            "2017-10-05T00:00:00.000000000",
            "2017-10-06T00:00:00.000000000",
            "2017-10-07T00:00:00.000000000",
            "2017-10-09T00:00:00.000000000",
            "2017-10-10T00:00:00.000000000",
            "2017-10-11T00:00:00.000000000",
            "2017-10-12T00:00:00.000000000",
            "2017-10-13T00:00:00.000000000",
            "2017-10-14T00:00:00.000000000",
            "2017-10-15T00:00:00.000000000",
            "2017-10-16T00:00:00.000000000",
            "2017-10-17T00:00:00.000000000",
            "2017-10-18T00:00:00.000000000",
            "2017-10-20T00:00:00.000000000",
            "2017-10-21T00:00:00.000000000",
            "2017-10-22T00:00:00.000000000",
            "2017-10-23T00:00:00.000000000",
            "2017-10-24T00:00:00.000000000",
            "2017-10-25T00:00:00.000000000",
            "2017-10-27T00:00:00.000000000",
            "2017-10-28T00:00:00.000000000",
            "2017-10-29T00:00:00.000000000",
            "2017-10-30T00:00:00.000000000",
            "2017-10-31T00:00:00.000000000",
            "2017-11-01T00:00:00.000000000",
            "2017-11-02T00:00:00.000000000",
            "2017-11-03T00:00:00.000000000",
            "2017-11-05T00:00:00.000000000",
            "2017-11-06T00:00:00.000000000",
            "2017-11-08T00:00:00.000000000",
            "2017-11-09T00:00:00.000000000",
            "2017-11-10T00:00:00.000000000",
            "2017-11-11T00:00:00.000000000",
            "2017-11-12T00:00:00.000000000",
            "2017-11-13T00:00:00.000000000",
            "2017-11-14T00:00:00.000000000",
            "2017-11-15T00:00:00.000000000",
            "2017-11-16T00:00:00.000000000",
            "2017-11-17T00:00:00.000000000",
            "2017-11-18T00:00:00.000000000",
            "2017-11-19T00:00:00.000000000",
            "2017-11-20T00:00:00.000000000",
            "2017-11-21T00:00:00.000000000",
            "2017-11-22T00:00:00.000000000",
            "2017-11-23T00:00:00.000000000",
            "2017-11-24T00:00:00.000000000",
            "2017-11-25T00:00:00.000000000",
            "2017-11-26T00:00:00.000000000",
            "2017-11-27T00:00:00.000000000",
            "2017-11-28T00:00:00.000000000",
            "2017-11-29T00:00:00.000000000",
            "2017-11-30T00:00:00.000000000",
            "2017-12-02T00:00:00.000000000",
            "2017-12-03T00:00:00.000000000",
            "2017-12-04T00:00:00.000000000",
            "2017-12-05T00:00:00.000000000",
            "2017-12-06T00:00:00.000000000",
            "2017-12-07T00:00:00.000000000",
            "2017-12-08T00:00:00.000000000",
            "2017-12-09T00:00:00.000000000",
            "2017-12-11T00:00:00.000000000",
            "2017-12-12T00:00:00.000000000",
            "2017-12-13T00:00:00.000000000",
            "2017-12-14T00:00:00.000000000",
            "2017-12-15T00:00:00.000000000",
            "2017-12-16T00:00:00.000000000",
            "2017-12-17T00:00:00.000000000",
            "2017-12-18T00:00:00.000000000",
            "2017-12-19T00:00:00.000000000",
            "2017-12-20T00:00:00.000000000",
            "2017-12-22T00:00:00.000000000",
            "2017-12-23T00:00:00.000000000",
            "2017-12-24T00:00:00.000000000",
            "2017-12-25T00:00:00.000000000",
            "2017-12-26T00:00:00.000000000",
            "2017-12-27T00:00:00.000000000",
            "2017-12-29T00:00:00.000000000",
            "2017-12-30T00:00:00.000000000",
            "2017-12-31T00:00:00.000000000"
           ],
           "xaxis": "x",
           "y": {
            "bdata": "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",
            "dtype": "f8"
           },
           "yaxis": "y"
          }
         ],
         "name": "2017"
        },
        {
         "data": [
          {
           "hovertemplate": "Year=2018<br>Order Date=%{x}<br>Sales=%{y}<extra></extra>",
           "legendgroup": "",
           "line": {
            "color": "#636efa",
            "dash": "solid"
           },
           "marker": {
            "symbol": "circle"
           },
           "mode": "lines",
           "name": "",
           "orientation": "v",
           "showlegend": false,
           "type": "scatter",
           "x": [
            "2018-01-01T00:00:00.000000000",
            "2018-01-04T00:00:00.000000000",
            "2018-01-05T00:00:00.000000000",
            "2018-01-06T00:00:00.000000000",
            "2018-01-07T00:00:00.000000000",
            "2018-01-08T00:00:00.000000000",
            "2018-01-09T00:00:00.000000000",
            "2018-01-10T00:00:00.000000000",
            "2018-01-11T00:00:00.000000000",
            "2018-01-12T00:00:00.000000000",
            "2018-01-13T00:00:00.000000000",
            "2018-01-14T00:00:00.000000000",
            "2018-01-15T00:00:00.000000000",
            "2018-01-16T00:00:00.000000000",
            "2018-01-19T00:00:00.000000000",
            "2018-01-20T00:00:00.000000000",
            "2018-01-21T00:00:00.000000000",
            "2018-01-22T00:00:00.000000000",
            "2018-01-23T00:00:00.000000000",
            "2018-01-24T00:00:00.000000000",
            "2018-01-26T00:00:00.000000000",
            "2018-01-27T00:00:00.000000000",
            "2018-01-28T00:00:00.000000000",
            "2018-01-29T00:00:00.000000000",
            "2018-01-30T00:00:00.000000000",
            "2018-02-01T00:00:00.000000000",
            "2018-02-02T00:00:00.000000000",
            "2018-02-03T00:00:00.000000000",
            "2018-02-04T00:00:00.000000000",
            "2018-02-05T00:00:00.000000000",
            "2018-02-06T00:00:00.000000000",
            "2018-02-07T00:00:00.000000000",
            "2018-02-09T00:00:00.000000000",
            "2018-02-10T00:00:00.000000000",
            "2018-02-11T00:00:00.000000000",
            "2018-02-12T00:00:00.000000000",
            "2018-02-13T00:00:00.000000000",
            "2018-02-16T00:00:00.000000000",
            "2018-02-17T00:00:00.000000000",
            "2018-02-18T00:00:00.000000000",
            "2018-02-19T00:00:00.000000000",
            "2018-02-20T00:00:00.000000000",
            "2018-02-21T00:00:00.000000000",
            "2018-02-23T00:00:00.000000000",
            "2018-02-24T00:00:00.000000000",
            "2018-02-25T00:00:00.000000000",
            "2018-02-26T00:00:00.000000000",
            "2018-02-28T00:00:00.000000000",
            "2018-03-01T00:00:00.000000000",
            "2018-03-02T00:00:00.000000000",
            "2018-03-03T00:00:00.000000000",
            "2018-03-04T00:00:00.000000000",
            "2018-03-05T00:00:00.000000000",
            "2018-03-06T00:00:00.000000000",
            "2018-03-07T00:00:00.000000000",
            "2018-03-08T00:00:00.000000000",
            "2018-03-09T00:00:00.000000000",
            "2018-03-10T00:00:00.000000000",
            "2018-03-11T00:00:00.000000000",
            "2018-03-12T00:00:00.000000000",
            "2018-03-13T00:00:00.000000000",
            "2018-03-14T00:00:00.000000000",
            "2018-03-16T00:00:00.000000000",
            "2018-03-17T00:00:00.000000000",
            "2018-03-18T00:00:00.000000000",
            "2018-03-19T00:00:00.000000000",
            "2018-03-20T00:00:00.000000000",
            "2018-03-21T00:00:00.000000000",
            "2018-03-23T00:00:00.000000000",
            "2018-03-24T00:00:00.000000000",
            "2018-03-25T00:00:00.000000000",
            "2018-03-26T00:00:00.000000000",
            "2018-03-27T00:00:00.000000000",
            "2018-03-28T00:00:00.000000000",
            "2018-03-29T00:00:00.000000000",
            "2018-03-30T00:00:00.000000000",
            "2018-03-31T00:00:00.000000000",
            "2018-04-02T00:00:00.000000000",
            "2018-04-03T00:00:00.000000000",
            "2018-04-04T00:00:00.000000000",
            "2018-04-05T00:00:00.000000000",
            "2018-04-06T00:00:00.000000000",
            "2018-04-08T00:00:00.000000000",
            "2018-04-09T00:00:00.000000000",
            "2018-04-10T00:00:00.000000000",
            "2018-04-11T00:00:00.000000000",
            "2018-04-12T00:00:00.000000000",
            "2018-04-13T00:00:00.000000000",
            "2018-04-14T00:00:00.000000000",
            "2018-04-15T00:00:00.000000000",
            "2018-04-16T00:00:00.000000000",
            "2018-04-17T00:00:00.000000000",
            "2018-04-20T00:00:00.000000000",
            "2018-04-21T00:00:00.000000000",
            "2018-04-22T00:00:00.000000000",
            "2018-04-23T00:00:00.000000000",
            "2018-04-24T00:00:00.000000000",
            "2018-04-25T00:00:00.000000000",
            "2018-04-26T00:00:00.000000000",
            "2018-04-27T00:00:00.000000000",
            "2018-04-28T00:00:00.000000000",
            "2018-04-29T00:00:00.000000000",
            "2018-04-30T00:00:00.000000000",
            "2018-05-02T00:00:00.000000000",
            "2018-05-03T00:00:00.000000000",
            "2018-05-05T00:00:00.000000000",
            "2018-05-06T00:00:00.000000000",
            "2018-05-07T00:00:00.000000000",
            "2018-05-08T00:00:00.000000000",
            "2018-05-09T00:00:00.000000000",
            "2018-05-10T00:00:00.000000000",
            "2018-05-11T00:00:00.000000000",
            "2018-05-12T00:00:00.000000000",
            "2018-05-13T00:00:00.000000000",
            "2018-05-14T00:00:00.000000000",
            "2018-05-15T00:00:00.000000000",
            "2018-05-16T00:00:00.000000000",
            "2018-05-18T00:00:00.000000000",
            "2018-05-19T00:00:00.000000000",
            "2018-05-20T00:00:00.000000000",
            "2018-05-21T00:00:00.000000000",
            "2018-05-22T00:00:00.000000000",
            "2018-05-23T00:00:00.000000000",
            "2018-05-25T00:00:00.000000000",
            "2018-05-26T00:00:00.000000000",
            "2018-05-27T00:00:00.000000000",
            "2018-05-28T00:00:00.000000000",
            "2018-05-29T00:00:00.000000000",
            "2018-05-30T00:00:00.000000000",
            "2018-06-01T00:00:00.000000000",
            "2018-06-02T00:00:00.000000000",
            "2018-06-03T00:00:00.000000000",
            "2018-06-04T00:00:00.000000000",
            "2018-06-05T00:00:00.000000000",
            "2018-06-06T00:00:00.000000000",
            "2018-06-07T00:00:00.000000000",
            "2018-06-08T00:00:00.000000000",
            "2018-06-10T00:00:00.000000000",
            "2018-06-11T00:00:00.000000000",
            "2018-06-12T00:00:00.000000000",
            "2018-06-13T00:00:00.000000000",
            "2018-06-15T00:00:00.000000000",
            "2018-06-16T00:00:00.000000000",
            "2018-06-17T00:00:00.000000000",
            "2018-06-18T00:00:00.000000000",
            "2018-06-19T00:00:00.000000000",
            "2018-06-20T00:00:00.000000000",
            "2018-06-21T00:00:00.000000000",
            "2018-06-22T00:00:00.000000000",
            "2018-06-24T00:00:00.000000000",
            "2018-06-25T00:00:00.000000000",
            "2018-06-26T00:00:00.000000000",
            "2018-06-27T00:00:00.000000000",
            "2018-06-29T00:00:00.000000000",
            "2018-06-30T00:00:00.000000000",
            "2018-07-01T00:00:00.000000000",
            "2018-07-03T00:00:00.000000000",
            "2018-07-04T00:00:00.000000000",
            "2018-07-05T00:00:00.000000000",
            "2018-07-07T00:00:00.000000000",
            "2018-07-08T00:00:00.000000000",
            "2018-07-09T00:00:00.000000000",
            "2018-07-10T00:00:00.000000000",
            "2018-07-11T00:00:00.000000000",
            "2018-07-12T00:00:00.000000000",
            "2018-07-13T00:00:00.000000000",
            "2018-07-14T00:00:00.000000000",
            "2018-07-15T00:00:00.000000000",
            "2018-07-16T00:00:00.000000000",
            "2018-07-17T00:00:00.000000000",
            "2018-07-18T00:00:00.000000000",
            "2018-07-20T00:00:00.000000000",
            "2018-07-21T00:00:00.000000000",
            "2018-07-22T00:00:00.000000000",
            "2018-07-23T00:00:00.000000000",
            "2018-07-24T00:00:00.000000000",
            "2018-07-25T00:00:00.000000000",
            "2018-07-26T00:00:00.000000000",
            "2018-07-27T00:00:00.000000000",
            "2018-07-28T00:00:00.000000000",
            "2018-07-29T00:00:00.000000000",
            "2018-07-30T00:00:00.000000000",
            "2018-07-31T00:00:00.000000000",
            "2018-08-01T00:00:00.000000000",
            "2018-08-03T00:00:00.000000000",
            "2018-08-04T00:00:00.000000000",
            "2018-08-05T00:00:00.000000000",
            "2018-08-06T00:00:00.000000000",
            "2018-08-07T00:00:00.000000000",
            "2018-08-09T00:00:00.000000000",
            "2018-08-10T00:00:00.000000000",
            "2018-08-11T00:00:00.000000000",
            "2018-08-12T00:00:00.000000000",
            "2018-08-13T00:00:00.000000000",
            "2018-08-14T00:00:00.000000000",
            "2018-08-15T00:00:00.000000000",
            "2018-08-16T00:00:00.000000000",
            "2018-08-17T00:00:00.000000000",
            "2018-08-18T00:00:00.000000000",
            "2018-08-19T00:00:00.000000000",
            "2018-08-20T00:00:00.000000000",
            "2018-08-21T00:00:00.000000000",
            "2018-08-22T00:00:00.000000000",
            "2018-08-23T00:00:00.000000000",
            "2018-08-24T00:00:00.000000000",
            "2018-08-25T00:00:00.000000000",
            "2018-08-26T00:00:00.000000000",
            "2018-08-27T00:00:00.000000000",
            "2018-08-28T00:00:00.000000000",
            "2018-08-29T00:00:00.000000000",
            "2018-08-31T00:00:00.000000000",
            "2018-09-01T00:00:00.000000000",
            "2018-09-02T00:00:00.000000000",
            "2018-09-03T00:00:00.000000000",
            "2018-09-04T00:00:00.000000000",
            "2018-09-05T00:00:00.000000000",
            "2018-09-06T00:00:00.000000000",
            "2018-09-07T00:00:00.000000000",
            "2018-09-09T00:00:00.000000000",
            "2018-09-10T00:00:00.000000000",
            "2018-09-11T00:00:00.000000000",
            "2018-09-12T00:00:00.000000000",
            "2018-09-13T00:00:00.000000000",
            "2018-09-14T00:00:00.000000000",
            "2018-09-15T00:00:00.000000000",
            "2018-09-16T00:00:00.000000000",
            "2018-09-17T00:00:00.000000000",
            "2018-09-18T00:00:00.000000000",
            "2018-09-19T00:00:00.000000000",
            "2018-09-20T00:00:00.000000000",
            "2018-09-21T00:00:00.000000000",
            "2018-09-22T00:00:00.000000000",
            "2018-09-23T00:00:00.000000000",
            "2018-09-24T00:00:00.000000000",
            "2018-09-25T00:00:00.000000000",
            "2018-09-26T00:00:00.000000000",
            "2018-09-28T00:00:00.000000000",
            "2018-09-29T00:00:00.000000000",
            "2018-09-30T00:00:00.000000000",
            "2018-10-02T00:00:00.000000000",
            "2018-10-03T00:00:00.000000000",
            "2018-10-04T00:00:00.000000000",
            "2018-10-06T00:00:00.000000000",
            "2018-10-07T00:00:00.000000000",
            "2018-10-08T00:00:00.000000000",
            "2018-10-09T00:00:00.000000000",
            "2018-10-10T00:00:00.000000000",
            "2018-10-11T00:00:00.000000000",
            "2018-10-12T00:00:00.000000000",
            "2018-10-13T00:00:00.000000000",
            "2018-10-14T00:00:00.000000000",
            "2018-10-15T00:00:00.000000000",
            "2018-10-16T00:00:00.000000000",
            "2018-10-17T00:00:00.000000000",
            "2018-10-19T00:00:00.000000000",
            "2018-10-20T00:00:00.000000000",
            "2018-10-21T00:00:00.000000000",
            "2018-10-22T00:00:00.000000000",
            "2018-10-23T00:00:00.000000000",
            "2018-10-24T00:00:00.000000000",
            "2018-10-26T00:00:00.000000000",
            "2018-10-27T00:00:00.000000000",
            "2018-10-28T00:00:00.000000000",
            "2018-10-29T00:00:00.000000000",
            "2018-10-30T00:00:00.000000000",
            "2018-10-31T00:00:00.000000000",
            "2018-11-02T00:00:00.000000000",
            "2018-11-03T00:00:00.000000000",
            "2018-11-04T00:00:00.000000000",
            "2018-11-05T00:00:00.000000000",
            "2018-11-06T00:00:00.000000000",
            "2018-11-07T00:00:00.000000000",
            "2018-11-08T00:00:00.000000000",
            "2018-11-09T00:00:00.000000000",
            "2018-11-11T00:00:00.000000000",
            "2018-11-12T00:00:00.000000000",
            "2018-11-13T00:00:00.000000000",
            "2018-11-14T00:00:00.000000000",
            "2018-11-15T00:00:00.000000000",
            "2018-11-16T00:00:00.000000000",
            "2018-11-17T00:00:00.000000000",
            "2018-11-18T00:00:00.000000000",
            "2018-11-19T00:00:00.000000000",
            "2018-11-20T00:00:00.000000000",
            "2018-11-21T00:00:00.000000000",
            "2018-11-22T00:00:00.000000000",
            "2018-11-23T00:00:00.000000000",
            "2018-11-24T00:00:00.000000000",
            "2018-11-25T00:00:00.000000000",
            "2018-11-26T00:00:00.000000000",
            "2018-11-27T00:00:00.000000000",
            "2018-11-28T00:00:00.000000000",
            "2018-11-29T00:00:00.000000000",
            "2018-11-30T00:00:00.000000000",
            "2018-12-01T00:00:00.000000000",
            "2018-12-03T00:00:00.000000000",
            "2018-12-04T00:00:00.000000000",
            "2018-12-05T00:00:00.000000000",
            "2018-12-06T00:00:00.000000000",
            "2018-12-07T00:00:00.000000000",
            "2018-12-08T00:00:00.000000000",
            "2018-12-09T00:00:00.000000000",
            "2018-12-10T00:00:00.000000000",
            "2018-12-11T00:00:00.000000000",
            "2018-12-13T00:00:00.000000000",
            "2018-12-14T00:00:00.000000000",
            "2018-12-15T00:00:00.000000000",
            "2018-12-16T00:00:00.000000000",
            "2018-12-17T00:00:00.000000000",
            "2018-12-18T00:00:00.000000000",
            "2018-12-19T00:00:00.000000000",
            "2018-12-20T00:00:00.000000000",
            "2018-12-21T00:00:00.000000000",
            "2018-12-22T00:00:00.000000000",
            "2018-12-23T00:00:00.000000000",
            "2018-12-24T00:00:00.000000000",
            "2018-12-25T00:00:00.000000000",
            "2018-12-26T00:00:00.000000000",
            "2018-12-27T00:00:00.000000000",
            "2018-12-28T00:00:00.000000000",
            "2018-12-29T00:00:00.000000000",
            "2018-12-30T00:00:00.000000000"
           ],
           "xaxis": "x",
           "y": {
            "bdata": "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",
            "dtype": "f8"
           },
           "yaxis": "y"
          }
         ],
         "name": "2018"
        }
       ],
       "layout": {
        "legend": {
         "tracegroupgap": 0
        },
        "sliders": [
         {
          "active": 0,
          "currentvalue": {
           "prefix": "Year="
          },
          "len": 0.9,
          "pad": {
           "b": 10,
           "t": 60
          },
          "steps": [
           {
            "args": [
             [
              "2015"
             ],
             {
              "frame": {
               "duration": 0,
               "redraw": false
              },
              "fromcurrent": true,
              "mode": "immediate",
              "transition": {
               "duration": 0,
               "easing": "linear"
              }
             }
            ],
            "label": "2015",
            "method": "animate"
           },
           {
            "args": [
             [
              "2016"
             ],
             {
              "frame": {
               "duration": 0,
               "redraw": false
              },
              "fromcurrent": true,
              "mode": "immediate",
              "transition": {
               "duration": 0,
               "easing": "linear"
              }
             }
            ],
            "label": "2016",
            "method": "animate"
           },
           {
            "args": [
             [
              "2017"
             ],
             {
              "frame": {
               "duration": 0,
               "redraw": false
              },
              "fromcurrent": true,
              "mode": "immediate",
              "transition": {
               "duration": 0,
               "easing": "linear"
              }
             }
            ],
            "label": "2017",
            "method": "animate"
           },
           {
            "args": [
             [
              "2018"
             ],
             {
              "frame": {
               "duration": 0,
               "redraw": false
              },
              "fromcurrent": true,
              "mode": "immediate",
              "transition": {
               "duration": 0,
               "easing": "linear"
              }
             }
            ],
            "label": "2018",
            "method": "animate"
           }
          ],
          "x": 0.1,
          "xanchor": "left",
          "y": 0,
          "yanchor": "top"
         }
        ],
        "template": {
         "data": {
          "bar": [
           {
            "error_x": {
             "color": "#2a3f5f"
            },
            "error_y": {
             "color": "#2a3f5f"
            },
            "marker": {
             "line": {
              "color": "#E5ECF6",
              "width": 0.5
             },
             "pattern": {
              "fillmode": "overlay",
              "size": 10,
              "solidity": 0.2
             }
            },
            "type": "bar"
           }
          ],
          "barpolar": [
           {
            "marker": {
             "line": {
              "color": "#E5ECF6",
              "width": 0.5
             },
             "pattern": {
              "fillmode": "overlay",
              "size": 10,
              "solidity": 0.2
             }
            },
            "type": "barpolar"
           }
          ],
          "carpet": [
           {
            "aaxis": {
             "endlinecolor": "#2a3f5f",
             "gridcolor": "white",
             "linecolor": "white",
             "minorgridcolor": "white",
             "startlinecolor": "#2a3f5f"
            },
            "baxis": {
             "endlinecolor": "#2a3f5f",
             "gridcolor": "white",
             "linecolor": "white",
             "minorgridcolor": "white",
             "startlinecolor": "#2a3f5f"
            },
            "type": "carpet"
           }
          ],
          "choropleth": [
           {
            "colorbar": {
             "outlinewidth": 0,
             "ticks": ""
            },
            "type": "choropleth"
           }
          ],
          "contour": [
           {
            "colorbar": {
             "outlinewidth": 0,
             "ticks": ""
            },
            "colorscale": [
             [
              0,
              "#0d0887"
             ],
             [
              0.1111111111111111,
              "#46039f"
             ],
             [
              0.2222222222222222,
              "#7201a8"
             ],
             [
              0.3333333333333333,
              "#9c179e"
             ],
             [
              0.4444444444444444,
              "#bd3786"
             ],
             [
              0.5555555555555556,
              "#d8576b"
             ],
             [
              0.6666666666666666,
              "#ed7953"
             ],
             [
              0.7777777777777778,
              "#fb9f3a"
             ],
             [
              0.8888888888888888,
              "#fdca26"
             ],
             [
              1,
              "#f0f921"
             ]
            ],
            "type": "contour"
           }
          ],
          "contourcarpet": [
           {
            "colorbar": {
             "outlinewidth": 0,
             "ticks": ""
            },
            "type": "contourcarpet"
           }
          ],
          "heatmap": [
           {
            "colorbar": {
             "outlinewidth": 0,
             "ticks": ""
            },
            "colorscale": [
             [
              0,
              "#0d0887"
             ],
             [
              0.1111111111111111,
              "#46039f"
             ],
             [
              0.2222222222222222,
              "#7201a8"
             ],
             [
              0.3333333333333333,
              "#9c179e"
             ],
             [
              0.4444444444444444,
              "#bd3786"
             ],
             [
              0.5555555555555556,
              "#d8576b"
             ],
             [
              0.6666666666666666,
              "#ed7953"
             ],
             [
              0.7777777777777778,
              "#fb9f3a"
             ],
             [
              0.8888888888888888,
              "#fdca26"
             ],
             [
              1,
              "#f0f921"
             ]
            ],
            "type": "heatmap"
           }
          ],
          "histogram": [
           {
            "marker": {
             "pattern": {
              "fillmode": "overlay",
              "size": 10,
              "solidity": 0.2
             }
            },
            "type": "histogram"
           }
          ],
          "histogram2d": [
           {
            "colorbar": {
             "outlinewidth": 0,
             "ticks": ""
            },
            "colorscale": [
             [
              0,
              "#0d0887"
             ],
             [
              0.1111111111111111,
              "#46039f"
             ],
             [
              0.2222222222222222,
              "#7201a8"
             ],
             [
              0.3333333333333333,
              "#9c179e"
             ],
             [
              0.4444444444444444,
              "#bd3786"
             ],
             [
              0.5555555555555556,
              "#d8576b"
             ],
             [
              0.6666666666666666,
              "#ed7953"
             ],
             [
              0.7777777777777778,
              "#fb9f3a"
             ],
             [
              0.8888888888888888,
              "#fdca26"
             ],
             [
              1,
              "#f0f921"
             ]
            ],
            "type": "histogram2d"
           }
          ],
          "histogram2dcontour": [
           {
            "colorbar": {
             "outlinewidth": 0,
             "ticks": ""
            },
            "colorscale": [
             [
              0,
              "#0d0887"
             ],
             [
              0.1111111111111111,
              "#46039f"
             ],
             [
              0.2222222222222222,
              "#7201a8"
             ],
             [
              0.3333333333333333,
              "#9c179e"
             ],
             [
              0.4444444444444444,
              "#bd3786"
             ],
             [
              0.5555555555555556,
              "#d8576b"
             ],
             [
              0.6666666666666666,
              "#ed7953"
             ],
             [
              0.7777777777777778,
              "#fb9f3a"
             ],
             [
              0.8888888888888888,
              "#fdca26"
             ],
             [
              1,
              "#f0f921"
             ]
            ],
            "type": "histogram2dcontour"
           }
          ],
          "mesh3d": [
           {
            "colorbar": {
             "outlinewidth": 0,
             "ticks": ""
            },
            "type": "mesh3d"
           }
          ],
          "parcoords": [
           {
            "line": {
             "colorbar": {
              "outlinewidth": 0,
              "ticks": ""
             }
            },
            "type": "parcoords"
           }
          ],
          "pie": [
           {
            "automargin": true,
            "type": "pie"
           }
          ],
          "scatter": [
           {
            "fillpattern": {
             "fillmode": "overlay",
             "size": 10,
             "solidity": 0.2
            },
            "type": "scatter"
           }
          ],
          "scatter3d": [
           {
            "line": {
             "colorbar": {
              "outlinewidth": 0,
              "ticks": ""
             }
            },
            "marker": {
             "colorbar": {
              "outlinewidth": 0,
              "ticks": ""
             }
            },
            "type": "scatter3d"
           }
          ],
          "scattercarpet": [
           {
            "marker": {
             "colorbar": {
              "outlinewidth": 0,
              "ticks": ""
             }
            },
            "type": "scattercarpet"
           }
          ],
          "scattergeo": [
           {
            "marker": {
             "colorbar": {
              "outlinewidth": 0,
              "ticks": ""
             }
            },
            "type": "scattergeo"
           }
          ],
          "scattergl": [
           {
            "marker": {
             "colorbar": {
              "outlinewidth": 0,
              "ticks": ""
             }
            },
            "type": "scattergl"
           }
          ],
          "scattermap": [
           {
            "marker": {
             "colorbar": {
              "outlinewidth": 0,
              "ticks": ""
             }
            },
            "type": "scattermap"
           }
          ],
          "scattermapbox": [
           {
            "marker": {
             "colorbar": {
              "outlinewidth": 0,
              "ticks": ""
             }
            },
            "type": "scattermapbox"
           }
          ],
          "scatterpolar": [
           {
            "marker": {
             "colorbar": {
              "outlinewidth": 0,
              "ticks": ""
             }
            },
            "type": "scatterpolar"
           }
          ],
          "scatterpolargl": [
           {
            "marker": {
             "colorbar": {
              "outlinewidth": 0,
              "ticks": ""
             }
            },
            "type": "scatterpolargl"
           }
          ],
          "scatterternary": [
           {
            "marker": {
             "colorbar": {
              "outlinewidth": 0,
              "ticks": ""
             }
            },
            "type": "scatterternary"
           }
          ],
          "surface": [
           {
            "colorbar": {
             "outlinewidth": 0,
             "ticks": ""
            },
            "colorscale": [
             [
              0,
              "#0d0887"
             ],
             [
              0.1111111111111111,
              "#46039f"
             ],
             [
              0.2222222222222222,
              "#7201a8"
             ],
             [
              0.3333333333333333,
              "#9c179e"
             ],
             [
              0.4444444444444444,
              "#bd3786"
             ],
             [
              0.5555555555555556,
              "#d8576b"
             ],
             [
              0.6666666666666666,
              "#ed7953"
             ],
             [
              0.7777777777777778,
              "#fb9f3a"
             ],
             [
              0.8888888888888888,
              "#fdca26"
             ],
             [
              1,
              "#f0f921"
             ]
            ],
            "type": "surface"
           }
          ],
          "table": [
           {
            "cells": {
             "fill": {
              "color": "#EBF0F8"
             },
             "line": {
              "color": "white"
             }
            },
            "header": {
             "fill": {
              "color": "#C8D4E3"
             },
             "line": {
              "color": "white"
             }
            },
            "type": "table"
           }
          ]
         },
         "layout": {
          "annotationdefaults": {
           "arrowcolor": "#2a3f5f",
           "arrowhead": 0,
           "arrowwidth": 1
          },
          "autotypenumbers": "strict",
          "coloraxis": {
           "colorbar": {
            "outlinewidth": 0,
            "ticks": ""
           }
          },
          "colorscale": {
           "diverging": [
            [
             0,
             "#8e0152"
            ],
            [
             0.1,
             "#c51b7d"
            ],
            [
             0.2,
             "#de77ae"
            ],
            [
             0.3,
             "#f1b6da"
            ],
            [
             0.4,
             "#fde0ef"
            ],
            [
             0.5,
             "#f7f7f7"
            ],
            [
             0.6,
             "#e6f5d0"
            ],
            [
             0.7,
             "#b8e186"
            ],
            [
             0.8,
             "#7fbc41"
            ],
            [
             0.9,
             "#4d9221"
            ],
            [
             1,
             "#276419"
            ]
           ],
           "sequential": [
            [
             0,
             "#0d0887"
            ],
            [
             0.1111111111111111,
             "#46039f"
            ],
            [
             0.2222222222222222,
             "#7201a8"
            ],
            [
             0.3333333333333333,
             "#9c179e"
            ],
            [
             0.4444444444444444,
             "#bd3786"
            ],
            [
             0.5555555555555556,
             "#d8576b"
            ],
            [
             0.6666666666666666,
             "#ed7953"
            ],
            [
             0.7777777777777778,
             "#fb9f3a"
            ],
            [
             0.8888888888888888,
             "#fdca26"
            ],
            [
             1,
             "#f0f921"
            ]
           ],
           "sequentialminus": [
            [
             0,
             "#0d0887"
            ],
            [
             0.1111111111111111,
             "#46039f"
            ],
            [
             0.2222222222222222,
             "#7201a8"
            ],
            [
             0.3333333333333333,
             "#9c179e"
            ],
            [
             0.4444444444444444,
             "#bd3786"
            ],
            [
             0.5555555555555556,
             "#d8576b"
            ],
            [
             0.6666666666666666,
             "#ed7953"
            ],
            [
             0.7777777777777778,
             "#fb9f3a"
            ],
            [
             0.8888888888888888,
             "#fdca26"
            ],
            [
             1,
             "#f0f921"
            ]
           ]
          },
          "colorway": [
           "#636efa",
           "#EF553B",
           "#00cc96",
           "#ab63fa",
           "#FFA15A",
           "#19d3f3",
           "#FF6692",
           "#B6E880",
           "#FF97FF",
           "#FECB52"
          ],
          "font": {
           "color": "#2a3f5f"
          },
          "geo": {
           "bgcolor": "white",
           "lakecolor": "white",
           "landcolor": "#E5ECF6",
           "showlakes": true,
           "showland": true,
           "subunitcolor": "white"
          },
          "hoverlabel": {
           "align": "left"
          },
          "hovermode": "closest",
          "mapbox": {
           "style": "light"
          },
          "paper_bgcolor": "white",
          "plot_bgcolor": "#E5ECF6",
          "polar": {
           "angularaxis": {
            "gridcolor": "white",
            "linecolor": "white",
            "ticks": ""
           },
           "bgcolor": "#E5ECF6",
           "radialaxis": {
            "gridcolor": "white",
            "linecolor": "white",
            "ticks": ""
           }
          },
          "scene": {
           "xaxis": {
            "backgroundcolor": "#E5ECF6",
            "gridcolor": "white",
            "gridwidth": 2,
            "linecolor": "white",
            "showbackground": true,
            "ticks": "",
            "zerolinecolor": "white"
           },
           "yaxis": {
            "backgroundcolor": "#E5ECF6",
            "gridcolor": "white",
            "gridwidth": 2,
            "linecolor": "white",
            "showbackground": true,
            "ticks": "",
            "zerolinecolor": "white"
           },
           "zaxis": {
            "backgroundcolor": "#E5ECF6",
            "gridcolor": "white",
            "gridwidth": 2,
            "linecolor": "white",
            "showbackground": true,
            "ticks": "",
            "zerolinecolor": "white"
           }
          },
          "shapedefaults": {
           "line": {
            "color": "#2a3f5f"
           }
          },
          "ternary": {
           "aaxis": {
            "gridcolor": "white",
            "linecolor": "white",
            "ticks": ""
           },
           "baxis": {
            "gridcolor": "white",
            "linecolor": "white",
            "ticks": ""
           },
           "bgcolor": "#E5ECF6",
           "caxis": {
            "gridcolor": "white",
            "linecolor": "white",
            "ticks": ""
           }
          },
          "title": {
           "x": 0.05
          },
          "xaxis": {
           "automargin": true,
           "gridcolor": "white",
           "linecolor": "white",
           "ticks": "",
           "title": {
            "standoff": 15
           },
           "zerolinecolor": "white",
           "zerolinewidth": 2
          },
          "yaxis": {
           "automargin": true,
           "gridcolor": "white",
           "linecolor": "white",
           "ticks": "",
           "title": {
            "standoff": 15
           },
           "zerolinecolor": "white",
           "zerolinewidth": 2
          }
         }
        },
        "title": {
         "text": "Daily Sales Over Time by Year"
        },
        "updatemenus": [
         {
          "buttons": [
           {
            "args": [
             null,
             {
              "frame": {
               "duration": 500,
               "redraw": false
              },
              "fromcurrent": true,
              "mode": "immediate",
              "transition": {
               "duration": 500,
               "easing": "linear"
              }
             }
            ],
            "label": "&#9654;",
            "method": "animate"
           },
           {
            "args": [
             [
              null
             ],
             {
              "frame": {
               "duration": 0,
               "redraw": false
              },
              "fromcurrent": true,
              "mode": "immediate",
              "transition": {
               "duration": 0,
               "easing": "linear"
              }
             }
            ],
            "label": "&#9724;",
            "method": "animate"
           }
          ],
          "direction": "left",
          "pad": {
           "r": 10,
           "t": 70
          },
          "showactive": false,
          "type": "buttons",
          "x": 0.1,
          "xanchor": "right",
          "y": 0,
          "yanchor": "top"
         }
        ],
        "xaxis": {
         "anchor": "y",
         "domain": [
          0,
          1
         ],
         "title": {
          "text": "Order Date"
         }
        },
        "yaxis": {
         "anchor": "x",
         "domain": [
          0,
          1
         ],
         "title": {
          "text": "Sales"
         }
        }
       }
      }
     },
     "metadata": {},
     "output_type": "display_data"
    }
   ],
   "source": [
    "daily_sales = df.groupby('Order Date')['Sales'].sum().reset_index()\n",
    "daily_sales.sort_values('Order Date', inplace=True)\n",
    "daily_sales['Year'] = daily_sales['Order Date'].dt.year\n",
    "\n",
    "fig = px.line(\n",
    "    daily_sales,\n",
    "    x='Order Date',\n",
    "    y='Sales',\n",
    "    animation_frame='Year',\n",
    "    title='Daily Sales Over Time by Year'\n",
    ")\n",
    "fig.show()\n"
   ]
  },
  {
   "cell_type": "code",
   "execution_count": 104,
   "id": "ae5cb4ea",
   "metadata": {},
   "outputs": [
    {
     "data": {
      "application/vnd.plotly.v1+json": {
       "config": {
        "plotlyServerURL": "https://plot.ly"
       },
       "data": [
        {
         "hovertemplate": "Year=2015<br>Day of Year=%{x}<br>Sales=%{y}<extra></extra>",
         "legendgroup": "",
         "line": {
          "color": "#636efa",
          "dash": "solid"
         },
         "marker": {
          "symbol": "circle"
         },
         "mode": "lines",
         "name": "",
         "orientation": "v",
         "showlegend": false,
         "type": "scatter",
         "x": {
          "bdata": "AgAAAAMAAAAEAAAABgAAAAcAAAAIAAAACQAAAAoAAAALAAAADAAAAA0AAAAOAAAADwAAABAAAAASAAAAEwAAABQAAAAXAAAAGgAAABsAAAAcAAAAHgAAAB8AAAAhAAAAIgAAACMAAAAkAAAAJQAAACYAAAAnAAAAKAAAACkAAAAqAAAAKwAAAC0AAAAuAAAALwAAADAAAAAxAAAAMwAAADQAAAA1AAAANgAAADcAAAA6AAAAPAAAAD0AAAA+AAAAQAAAAEEAAABDAAAARAAAAEUAAABGAAAARwAAAEkAAABKAAAASwAAAEwAAABNAAAATgAAAFAAAABRAAAAUgAAAFMAAABUAAAAVQAAAFcAAABYAAAAWQAAAFoAAABbAAAAXAAAAF0AAABeAAAAXwAAAGAAAABhAAAAYgAAAGQAAABlAAAAZgAAAGcAAABpAAAAagAAAGwAAABtAAAAbgAAAG8AAABwAAAAcQAAAHMAAAB0AAAAdgAAAHcAAAB4AAAAeQAAAHsAAAB8AAAAfQAAAH8AAACAAAAAgQAAAIIAAACDAAAAhAAAAIUAAACGAAAAiAAAAIkAAACKAAAAiwAAAIwAAACNAAAAjgAAAI8AAACQAAAAkQAAAJIAAACTAAAAlAAAAJYAAACXAAAAmAAAAJkAAACbAAAAnAAAAJ0AAACeAAAAnwAAAKAAAAChAAAAowAAAKQAAAClAAAApgAAAKcAAACoAAAAqQAAAKsAAACsAAAArQAAAK4AAACvAAAAsAAAALIAAACzAAAAtAAAALUAAAC2AAAAtwAAALgAAAC5AAAAugAAALsAAAC8AAAAvgAAAL8AAADAAAAAwQAAAMIAAADDAAAAxAAAAMcAAADIAAAAyQAAAMoAAADLAAAAzAAAAM4AAADPAAAA0AAAANEAAADTAAAA1gAAANgAAADZAAAA2gAAANsAAADcAAAA3QAAAN4AAADfAAAA4AAAAOMAAADkAAAA5QAAAOcAAADoAAAA6gAAAOsAAADsAAAA7QAAAO4AAADvAAAA8QAAAPIAAADzAAAA9AAAAPgAAAD5AAAA+gAAAPsAAAD8AAAA/QAAAP4AAAD/AAAAAAEAAAEBAAACAQAAAwEAAAQBAAAGAQAABwEAAAgBAAAJAQAACgEAAAsBAAAMAQAADQEAAA4BAAAPAQAAEAEAABEBAAASAQAAFAEAABYBAAAXAQAAGgEAABsBAAAcAQAAHQEAAB4BAAAfAQAAIAEAACEBAAAiAQAAIwEAACQBAAAlAQAAJgEAACcBAAApAQAAKgEAACsBAAAsAQAALQEAAC4BAAAwAQAAMQEAADIBAAAzAQAANAEAADUBAAA3AQAAOAEAADkBAAA6AQAAOwEAAD4BAAA/AQAAQAEAAEEBAABCAQAAQwEAAEQBAABFAQAARgEAAEcBAABIAQAASQEAAEoBAABLAQAATAEAAE0BAABOAQAAUAEAAFIBAABTAQAAVQEAAFYBAABXAQAAWAEAAFkBAABaAQAAWwEAAFwBAABdAQAAXgEAAF8BAABhAQAAYgEAAGMBAABkAQAAZQEAAGYBAABoAQAAaQEAAGoBAABrAQAAbAEAAG0BAAA=",
          "dtype": "i4"
         },
         "xaxis": "x",
         "y": {
          "bdata": "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",
          "dtype": "f8"
         },
         "yaxis": "y"
        }
       ],
       "frames": [
        {
         "data": [
          {
           "hovertemplate": "Year=2015<br>Day of Year=%{x}<br>Sales=%{y}<extra></extra>",
           "legendgroup": "",
           "line": {
            "color": "#636efa",
            "dash": "solid"
           },
           "marker": {
            "symbol": "circle"
           },
           "mode": "lines",
           "name": "",
           "orientation": "v",
           "showlegend": false,
           "type": "scatter",
           "x": {
            "bdata": "AgAAAAMAAAAEAAAABgAAAAcAAAAIAAAACQAAAAoAAAALAAAADAAAAA0AAAAOAAAADwAAABAAAAASAAAAEwAAABQAAAAXAAAAGgAAABsAAAAcAAAAHgAAAB8AAAAhAAAAIgAAACMAAAAkAAAAJQAAACYAAAAnAAAAKAAAACkAAAAqAAAAKwAAAC0AAAAuAAAALwAAADAAAAAxAAAAMwAAADQAAAA1AAAANgAAADcAAAA6AAAAPAAAAD0AAAA+AAAAQAAAAEEAAABDAAAARAAAAEUAAABGAAAARwAAAEkAAABKAAAASwAAAEwAAABNAAAATgAAAFAAAABRAAAAUgAAAFMAAABUAAAAVQAAAFcAAABYAAAAWQAAAFoAAABbAAAAXAAAAF0AAABeAAAAXwAAAGAAAABhAAAAYgAAAGQAAABlAAAAZgAAAGcAAABpAAAAagAAAGwAAABtAAAAbgAAAG8AAABwAAAAcQAAAHMAAAB0AAAAdgAAAHcAAAB4AAAAeQAAAHsAAAB8AAAAfQAAAH8AAACAAAAAgQAAAIIAAACDAAAAhAAAAIUAAACGAAAAiAAAAIkAAACKAAAAiwAAAIwAAACNAAAAjgAAAI8AAACQAAAAkQAAAJIAAACTAAAAlAAAAJYAAACXAAAAmAAAAJkAAACbAAAAnAAAAJ0AAACeAAAAnwAAAKAAAAChAAAAowAAAKQAAAClAAAApgAAAKcAAACoAAAAqQAAAKsAAACsAAAArQAAAK4AAACvAAAAsAAAALIAAACzAAAAtAAAALUAAAC2AAAAtwAAALgAAAC5AAAAugAAALsAAAC8AAAAvgAAAL8AAADAAAAAwQAAAMIAAADDAAAAxAAAAMcAAADIAAAAyQAAAMoAAADLAAAAzAAAAM4AAADPAAAA0AAAANEAAADTAAAA1gAAANgAAADZAAAA2gAAANsAAADcAAAA3QAAAN4AAADfAAAA4AAAAOMAAADkAAAA5QAAAOcAAADoAAAA6gAAAOsAAADsAAAA7QAAAO4AAADvAAAA8QAAAPIAAADzAAAA9AAAAPgAAAD5AAAA+gAAAPsAAAD8AAAA/QAAAP4AAAD/AAAAAAEAAAEBAAACAQAAAwEAAAQBAAAGAQAABwEAAAgBAAAJAQAACgEAAAsBAAAMAQAADQEAAA4BAAAPAQAAEAEAABEBAAASAQAAFAEAABYBAAAXAQAAGgEAABsBAAAcAQAAHQEAAB4BAAAfAQAAIAEAACEBAAAiAQAAIwEAACQBAAAlAQAAJgEAACcBAAApAQAAKgEAACsBAAAsAQAALQEAAC4BAAAwAQAAMQEAADIBAAAzAQAANAEAADUBAAA3AQAAOAEAADkBAAA6AQAAOwEAAD4BAAA/AQAAQAEAAEEBAABCAQAAQwEAAEQBAABFAQAARgEAAEcBAABIAQAASQEAAEoBAABLAQAATAEAAE0BAABOAQAAUAEAAFIBAABTAQAAVQEAAFYBAABXAQAAWAEAAFkBAABaAQAAWwEAAFwBAABdAQAAXgEAAF8BAABhAQAAYgEAAGMBAABkAQAAZQEAAGYBAABoAQAAaQEAAGoBAABrAQAAbAEAAG0BAAA=",
            "dtype": "i4"
           },
           "xaxis": "x",
           "y": {
            "bdata": "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",
            "dtype": "f8"
           },
           "yaxis": "y"
          }
         ],
         "name": "2015"
        },
        {
         "data": [
          {
           "hovertemplate": "Year=2016<br>Day of Year=%{x}<br>Sales=%{y}<extra></extra>",
           "legendgroup": "",
           "line": {
            "color": "#636efa",
            "dash": "solid"
           },
           "marker": {
            "symbol": "circle"
           },
           "mode": "lines",
           "name": "",
           "orientation": "v",
           "showlegend": false,
           "type": "scatter",
           "x": {
            "bdata": "AwAAAAUAAAAGAAAACAAAAAkAAAAKAAAACwAAAAwAAAANAAAAEQAAABMAAAAXAAAAGAAAABoAAAAbAAAAHAAAAB4AAAAfAAAAIAAAACIAAAAjAAAAJAAAACYAAAAnAAAAKQAAACoAAAAtAAAALgAAAC8AAAAxAAAAMwAAADQAAAA1AAAANgAAADgAAAA6AAAAOwAAAD0AAAA+AAAAQQAAAEMAAABFAAAARgAAAEcAAABIAAAASQAAAEoAAABLAAAATAAAAE0AAABPAAAAUAAAAFEAAABSAAAAUwAAAFQAAABWAAAAVwAAAFgAAABZAAAAWgAAAFsAAABcAAAAXwAAAGAAAABhAAAAYgAAAGQAAABlAAAAZwAAAGgAAABpAAAAawAAAGwAAABtAAAAbgAAAG8AAABwAAAAcQAAAHMAAAB0AAAAdQAAAHYAAAB3AAAAeAAAAHkAAAB6AAAAfAAAAH0AAAB/AAAAgAAAAIEAAACCAAAAgwAAAIQAAACFAAAAhgAAAIcAAACIAAAAiQAAAIoAAACLAAAAjQAAAI4AAACPAAAAkAAAAJEAAACSAAAAkwAAAJUAAACWAAAAlwAAAJgAAACZAAAAmgAAAJsAAACcAAAAnwAAAKAAAAChAAAAowAAAKQAAAClAAAApgAAAKcAAACoAAAAqgAAAKsAAACsAAAArQAAAK4AAACvAAAAsQAAALIAAAC0AAAAtQAAALgAAAC5AAAAugAAALsAAAC8AAAAvgAAAL8AAADBAAAAwgAAAMMAAADEAAAAxgAAAMcAAADIAAAAyQAAAMoAAADNAAAAzgAAAM8AAADQAAAA0QAAANQAAADVAAAA1wAAANgAAADaAAAA2wAAANwAAADdAAAA3gAAAN8AAADgAAAA4QAAAOIAAADkAAAA5QAAAOYAAADqAAAA6wAAAOwAAADtAAAA7gAAAPAAAADxAAAA8gAAAPQAAAD1AAAA9gAAAPcAAAD4AAAA+QAAAPoAAAD7AAAA/AAAAP4AAAD/AAAAAAEAAAEBAAACAQAAAwEAAAQBAAAFAQAABgEAAAcBAAAIAQAACQEAAAoBAAAMAQAADQEAAA4BAAAPAQAAEAEAABMBAAAUAQAAFQEAABYBAAAXAQAAGQEAABoBAAAbAQAAHAEAAB0BAAAeAQAAHwEAACEBAAAiAQAAIwEAACQBAAAlAQAAJgEAACgBAAApAQAAKgEAACsBAAAsAQAALgEAAC8BAAAwAQAAMQEAADUBAAA2AQAANwEAADgBAAA5AQAAOgEAADsBAAA8AQAAPQEAAD4BAAA/AQAAQAEAAEEBAABCAQAARAEAAEUBAABGAQAARwEAAEgBAABJAQAASgEAAEsBAABMAQAATQEAAE4BAABPAQAAUAEAAFIBAABUAQAAVQEAAFYBAABYAQAAWQEAAFoBAABbAQAAXAEAAF0BAABeAQAAXwEAAGABAABhAQAAYgEAAGMBAABkAQAAZQEAAGYBAABnAQAAaAEAAGkBAABqAQAAawEAAG0BAABuAQAA",
            "dtype": "i4"
           },
           "xaxis": "x",
           "y": {
            "bdata": "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",
            "dtype": "f8"
           },
           "yaxis": "y"
          }
         ],
         "name": "2016"
        },
        {
         "data": [
          {
           "hovertemplate": "Year=2017<br>Day of Year=%{x}<br>Sales=%{y}<extra></extra>",
           "legendgroup": "",
           "line": {
            "color": "#636efa",
            "dash": "solid"
           },
           "marker": {
            "symbol": "circle"
           },
           "mode": "lines",
           "name": "",
           "orientation": "v",
           "showlegend": false,
           "type": "scatter",
           "x": {
            "bdata": "AgAAAAMAAAAEAAAABQAAAAcAAAAIAAAACQAAAAoAAAALAAAADAAAAA4AAAAPAAAAEAAAABEAAAAVAAAAFgAAABcAAAAYAAAAGQAAABwAAAAeAAAAHwAAACAAAAAhAAAAIwAAACQAAAAlAAAAJgAAACcAAAAoAAAAKQAAACsAAAAsAAAALQAAAC4AAAAvAAAAMgAAADMAAAA0AAAANQAAADYAAAA4AAAAOgAAADsAAAA8AAAAPQAAAD4AAAA/AAAAQAAAAEIAAABDAAAARAAAAEUAAABGAAAARwAAAEgAAABJAAAASgAAAEwAAABNAAAATgAAAE8AAABQAAAAUQAAAFMAAABUAAAAVQAAAFYAAABXAAAAWAAAAFkAAABaAAAAWwAAAFwAAABdAAAAXgAAAGAAAABhAAAAYgAAAGMAAABkAAAAZQAAAGYAAABnAAAAaAAAAGkAAABqAAAAawAAAGwAAABtAAAAbwAAAHAAAABxAAAAcgAAAHMAAAB0AAAAdgAAAHgAAAB5AAAAegAAAHsAAAB8AAAAfQAAAH4AAACAAAAAgQAAAIMAAACEAAAAhgAAAIcAAACIAAAAiQAAAIoAAACLAAAAjAAAAI0AAACOAAAAjwAAAJAAAACRAAAAkgAAAJMAAACUAAAAlQAAAJYAAACXAAAAmQAAAJoAAACbAAAAnAAAAJ0AAACfAAAAoAAAAKEAAACiAAAAowAAAKQAAAClAAAApgAAAKcAAACoAAAAqQAAAKoAAACrAAAArAAAAK4AAACvAAAAsAAAALEAAACyAAAAswAAALQAAAC1AAAAtgAAALcAAAC4AAAAuQAAALoAAAC7AAAAvAAAAL0AAAC/AAAAwAAAAMMAAADEAAAAxQAAAMYAAADHAAAAyAAAAMkAAADKAAAAywAAAMwAAADNAAAAzgAAANEAAADSAAAA0wAAANQAAADVAAAA1gAAANcAAADYAAAA2QAAANsAAADcAAAA3QAAAN4AAADfAAAA4AAAAOEAAADiAAAA4wAAAOQAAADlAAAA5gAAAOcAAADoAAAA6QAAAOoAAADrAAAA7gAAAO8AAADwAAAA8QAAAPIAAADzAAAA9AAAAPUAAAD2AAAA9wAAAPgAAAD5AAAA+gAAAPsAAAD8AAAA/QAAAP4AAAD/AAAAAAEAAAEBAAACAQAAAwEAAAQBAAAFAQAABgEAAAcBAAAJAQAACgEAAAsBAAAMAQAADQEAAA4BAAAPAQAAEAEAABEBAAASAQAAFAEAABUBAAAWAQAAFwEAABgBAAAaAQAAGwEAABwBAAAdAQAAHgEAAB8BAAAgAQAAIQEAACIBAAAjAQAAJQEAACYBAAAnAQAAKAEAACkBAAAqAQAALAEAAC0BAAAuAQAALwEAADABAAAxAQAAMgEAADMBAAA1AQAANgEAADgBAAA5AQAAOgEAADsBAAA8AQAAPQEAAD4BAAA/AQAAQAEAAEEBAABCAQAAQwEAAEQBAABFAQAARgEAAEcBAABIAQAASQEAAEoBAABLAQAATAEAAE0BAABOAQAAUAEAAFEBAABSAQAAUwEAAFQBAABVAQAAVgEAAFcBAABZAQAAWgEAAFsBAABcAQAAXQEAAF4BAABfAQAAYAEAAGEBAABiAQAAZAEAAGUBAABmAQAAZwEAAGgBAABpAQAAawEAAGwBAABtAQAA",
            "dtype": "i4"
           },
           "xaxis": "x",
           "y": {
            "bdata": "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",
            "dtype": "f8"
           },
           "yaxis": "y"
          }
         ],
         "name": "2017"
        },
        {
         "data": [
          {
           "hovertemplate": "Year=2018<br>Day of Year=%{x}<br>Sales=%{y}<extra></extra>",
           "legendgroup": "",
           "line": {
            "color": "#636efa",
            "dash": "solid"
           },
           "marker": {
            "symbol": "circle"
           },
           "mode": "lines",
           "name": "",
           "orientation": "v",
           "showlegend": false,
           "type": "scatter",
           "x": {
            "bdata": "AQAAAAQAAAAFAAAABgAAAAcAAAAIAAAACQAAAAoAAAALAAAADAAAAA0AAAAOAAAADwAAABAAAAATAAAAFAAAABUAAAAWAAAAFwAAABgAAAAaAAAAGwAAABwAAAAdAAAAHgAAACAAAAAhAAAAIgAAACMAAAAkAAAAJQAAACYAAAAoAAAAKQAAACoAAAArAAAALAAAAC8AAAAwAAAAMQAAADIAAAAzAAAANAAAADYAAAA3AAAAOAAAADkAAAA7AAAAPAAAAD0AAAA+AAAAPwAAAEAAAABBAAAAQgAAAEMAAABEAAAARQAAAEYAAABHAAAASAAAAEkAAABLAAAATAAAAE0AAABOAAAATwAAAFAAAABSAAAAUwAAAFQAAABVAAAAVgAAAFcAAABYAAAAWQAAAFoAAABcAAAAXQAAAF4AAABfAAAAYAAAAGIAAABjAAAAZAAAAGUAAABmAAAAZwAAAGgAAABpAAAAagAAAGsAAABuAAAAbwAAAHAAAABxAAAAcgAAAHMAAAB0AAAAdQAAAHYAAAB3AAAAeAAAAHoAAAB7AAAAfQAAAH4AAAB/AAAAgAAAAIEAAACCAAAAgwAAAIQAAACFAAAAhgAAAIcAAACIAAAAigAAAIsAAACMAAAAjQAAAI4AAACPAAAAkQAAAJIAAACTAAAAlAAAAJUAAACWAAAAmAAAAJkAAACaAAAAmwAAAJwAAACdAAAAngAAAJ8AAAChAAAAogAAAKMAAACkAAAApgAAAKcAAACoAAAAqQAAAKoAAACrAAAArAAAAK0AAACvAAAAsAAAALEAAACyAAAAtAAAALUAAAC2AAAAuAAAALkAAAC6AAAAvAAAAL0AAAC+AAAAvwAAAMAAAADBAAAAwgAAAMMAAADEAAAAxQAAAMYAAADHAAAAyQAAAMoAAADLAAAAzAAAAM0AAADOAAAAzwAAANAAAADRAAAA0gAAANMAAADUAAAA1QAAANcAAADYAAAA2QAAANoAAADbAAAA3QAAAN4AAADfAAAA4AAAAOEAAADiAAAA4wAAAOQAAADlAAAA5gAAAOcAAADoAAAA6QAAAOoAAADrAAAA7AAAAO0AAADuAAAA7wAAAPAAAADxAAAA8wAAAPQAAAD1AAAA9gAAAPcAAAD4AAAA+QAAAPoAAAD8AAAA/QAAAP4AAAD/AAAAAAEAAAEBAAACAQAAAwEAAAQBAAAFAQAABgEAAAcBAAAIAQAACQEAAAoBAAALAQAADAEAAA0BAAAPAQAAEAEAABEBAAATAQAAFAEAABUBAAAXAQAAGAEAABkBAAAaAQAAGwEAABwBAAAdAQAAHgEAAB8BAAAgAQAAIQEAACIBAAAkAQAAJQEAACYBAAAnAQAAKAEAACkBAAArAQAALAEAAC0BAAAuAQAALwEAADABAAAyAQAAMwEAADQBAAA1AQAANgEAADcBAAA4AQAAOQEAADsBAAA8AQAAPQEAAD4BAAA/AQAAQAEAAEEBAABCAQAAQwEAAEQBAABFAQAARgEAAEcBAABIAQAASQEAAEoBAABLAQAATAEAAE0BAABOAQAATwEAAFEBAABSAQAAUwEAAFQBAABVAQAAVgEAAFcBAABYAQAAWQEAAFsBAABcAQAAXQEAAF4BAABfAQAAYAEAAGEBAABiAQAAYwEAAGQBAABlAQAAZgEAAGcBAABoAQAAaQEAAGoBAABrAQAAbAEAAA==",
            "dtype": "i4"
           },
           "xaxis": "x",
           "y": {
            "bdata": "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",
            "dtype": "f8"
           },
           "yaxis": "y"
          }
         ],
         "name": "2018"
        }
       ],
       "layout": {
        "legend": {
         "tracegroupgap": 0
        },
        "sliders": [
         {
          "active": 0,
          "currentvalue": {
           "prefix": "Year="
          },
          "len": 0.9,
          "pad": {
           "b": 10,
           "t": 60
          },
          "steps": [
           {
            "args": [
             [
              "2015"
             ],
             {
              "frame": {
               "duration": 0,
               "redraw": false
              },
              "fromcurrent": true,
              "mode": "immediate",
              "transition": {
               "duration": 0,
               "easing": "linear"
              }
             }
            ],
            "label": "2015",
            "method": "animate"
           },
           {
            "args": [
             [
              "2016"
             ],
             {
              "frame": {
               "duration": 0,
               "redraw": false
              },
              "fromcurrent": true,
              "mode": "immediate",
              "transition": {
               "duration": 0,
               "easing": "linear"
              }
             }
            ],
            "label": "2016",
            "method": "animate"
           },
           {
            "args": [
             [
              "2017"
             ],
             {
              "frame": {
               "duration": 0,
               "redraw": false
              },
              "fromcurrent": true,
              "mode": "immediate",
              "transition": {
               "duration": 0,
               "easing": "linear"
              }
             }
            ],
            "label": "2017",
            "method": "animate"
           },
           {
            "args": [
             [
              "2018"
             ],
             {
              "frame": {
               "duration": 0,
               "redraw": false
              },
              "fromcurrent": true,
              "mode": "immediate",
              "transition": {
               "duration": 0,
               "easing": "linear"
              }
             }
            ],
            "label": "2018",
            "method": "animate"
           }
          ],
          "x": 0.1,
          "xanchor": "left",
          "y": 0,
          "yanchor": "top"
         }
        ],
        "template": {
         "data": {
          "bar": [
           {
            "error_x": {
             "color": "#2a3f5f"
            },
            "error_y": {
             "color": "#2a3f5f"
            },
            "marker": {
             "line": {
              "color": "#E5ECF6",
              "width": 0.5
             },
             "pattern": {
              "fillmode": "overlay",
              "size": 10,
              "solidity": 0.2
             }
            },
            "type": "bar"
           }
          ],
          "barpolar": [
           {
            "marker": {
             "line": {
              "color": "#E5ECF6",
              "width": 0.5
             },
             "pattern": {
              "fillmode": "overlay",
              "size": 10,
              "solidity": 0.2
             }
            },
            "type": "barpolar"
           }
          ],
          "carpet": [
           {
            "aaxis": {
             "endlinecolor": "#2a3f5f",
             "gridcolor": "white",
             "linecolor": "white",
             "minorgridcolor": "white",
             "startlinecolor": "#2a3f5f"
            },
            "baxis": {
             "endlinecolor": "#2a3f5f",
             "gridcolor": "white",
             "linecolor": "white",
             "minorgridcolor": "white",
             "startlinecolor": "#2a3f5f"
            },
            "type": "carpet"
           }
          ],
          "choropleth": [
           {
            "colorbar": {
             "outlinewidth": 0,
             "ticks": ""
            },
            "type": "choropleth"
           }
          ],
          "contour": [
           {
            "colorbar": {
             "outlinewidth": 0,
             "ticks": ""
            },
            "colorscale": [
             [
              0,
              "#0d0887"
             ],
             [
              0.1111111111111111,
              "#46039f"
             ],
             [
              0.2222222222222222,
              "#7201a8"
             ],
             [
              0.3333333333333333,
              "#9c179e"
             ],
             [
              0.4444444444444444,
              "#bd3786"
             ],
             [
              0.5555555555555556,
              "#d8576b"
             ],
             [
              0.6666666666666666,
              "#ed7953"
             ],
             [
              0.7777777777777778,
              "#fb9f3a"
             ],
             [
              0.8888888888888888,
              "#fdca26"
             ],
             [
              1,
              "#f0f921"
             ]
            ],
            "type": "contour"
           }
          ],
          "contourcarpet": [
           {
            "colorbar": {
             "outlinewidth": 0,
             "ticks": ""
            },
            "type": "contourcarpet"
           }
          ],
          "heatmap": [
           {
            "colorbar": {
             "outlinewidth": 0,
             "ticks": ""
            },
            "colorscale": [
             [
              0,
              "#0d0887"
             ],
             [
              0.1111111111111111,
              "#46039f"
             ],
             [
              0.2222222222222222,
              "#7201a8"
             ],
             [
              0.3333333333333333,
              "#9c179e"
             ],
             [
              0.4444444444444444,
              "#bd3786"
             ],
             [
              0.5555555555555556,
              "#d8576b"
             ],
             [
              0.6666666666666666,
              "#ed7953"
             ],
             [
              0.7777777777777778,
              "#fb9f3a"
             ],
             [
              0.8888888888888888,
              "#fdca26"
             ],
             [
              1,
              "#f0f921"
             ]
            ],
            "type": "heatmap"
           }
          ],
          "histogram": [
           {
            "marker": {
             "pattern": {
              "fillmode": "overlay",
              "size": 10,
              "solidity": 0.2
             }
            },
            "type": "histogram"
           }
          ],
          "histogram2d": [
           {
            "colorbar": {
             "outlinewidth": 0,
             "ticks": ""
            },
            "colorscale": [
             [
              0,
              "#0d0887"
             ],
             [
              0.1111111111111111,
              "#46039f"
             ],
             [
              0.2222222222222222,
              "#7201a8"
             ],
             [
              0.3333333333333333,
              "#9c179e"
             ],
             [
              0.4444444444444444,
              "#bd3786"
             ],
             [
              0.5555555555555556,
              "#d8576b"
             ],
             [
              0.6666666666666666,
              "#ed7953"
             ],
             [
              0.7777777777777778,
              "#fb9f3a"
             ],
             [
              0.8888888888888888,
              "#fdca26"
             ],
             [
              1,
              "#f0f921"
             ]
            ],
            "type": "histogram2d"
           }
          ],
          "histogram2dcontour": [
           {
            "colorbar": {
             "outlinewidth": 0,
             "ticks": ""
            },
            "colorscale": [
             [
              0,
              "#0d0887"
             ],
             [
              0.1111111111111111,
              "#46039f"
             ],
             [
              0.2222222222222222,
              "#7201a8"
             ],
             [
              0.3333333333333333,
              "#9c179e"
             ],
             [
              0.4444444444444444,
              "#bd3786"
             ],
             [
              0.5555555555555556,
              "#d8576b"
             ],
             [
              0.6666666666666666,
              "#ed7953"
             ],
             [
              0.7777777777777778,
              "#fb9f3a"
             ],
             [
              0.8888888888888888,
              "#fdca26"
             ],
             [
              1,
              "#f0f921"
             ]
            ],
            "type": "histogram2dcontour"
           }
          ],
          "mesh3d": [
           {
            "colorbar": {
             "outlinewidth": 0,
             "ticks": ""
            },
            "type": "mesh3d"
           }
          ],
          "parcoords": [
           {
            "line": {
             "colorbar": {
              "outlinewidth": 0,
              "ticks": ""
             }
            },
            "type": "parcoords"
           }
          ],
          "pie": [
           {
            "automargin": true,
            "type": "pie"
           }
          ],
          "scatter": [
           {
            "fillpattern": {
             "fillmode": "overlay",
             "size": 10,
             "solidity": 0.2
            },
            "type": "scatter"
           }
          ],
          "scatter3d": [
           {
            "line": {
             "colorbar": {
              "outlinewidth": 0,
              "ticks": ""
             }
            },
            "marker": {
             "colorbar": {
              "outlinewidth": 0,
              "ticks": ""
             }
            },
            "type": "scatter3d"
           }
          ],
          "scattercarpet": [
           {
            "marker": {
             "colorbar": {
              "outlinewidth": 0,
              "ticks": ""
             }
            },
            "type": "scattercarpet"
           }
          ],
          "scattergeo": [
           {
            "marker": {
             "colorbar": {
              "outlinewidth": 0,
              "ticks": ""
             }
            },
            "type": "scattergeo"
           }
          ],
          "scattergl": [
           {
            "marker": {
             "colorbar": {
              "outlinewidth": 0,
              "ticks": ""
             }
            },
            "type": "scattergl"
           }
          ],
          "scattermap": [
           {
            "marker": {
             "colorbar": {
              "outlinewidth": 0,
              "ticks": ""
             }
            },
            "type": "scattermap"
           }
          ],
          "scattermapbox": [
           {
            "marker": {
             "colorbar": {
              "outlinewidth": 0,
              "ticks": ""
             }
            },
            "type": "scattermapbox"
           }
          ],
          "scatterpolar": [
           {
            "marker": {
             "colorbar": {
              "outlinewidth": 0,
              "ticks": ""
             }
            },
            "type": "scatterpolar"
           }
          ],
          "scatterpolargl": [
           {
            "marker": {
             "colorbar": {
              "outlinewidth": 0,
              "ticks": ""
             }
            },
            "type": "scatterpolargl"
           }
          ],
          "scatterternary": [
           {
            "marker": {
             "colorbar": {
              "outlinewidth": 0,
              "ticks": ""
             }
            },
            "type": "scatterternary"
           }
          ],
          "surface": [
           {
            "colorbar": {
             "outlinewidth": 0,
             "ticks": ""
            },
            "colorscale": [
             [
              0,
              "#0d0887"
             ],
             [
              0.1111111111111111,
              "#46039f"
             ],
             [
              0.2222222222222222,
              "#7201a8"
             ],
             [
              0.3333333333333333,
              "#9c179e"
             ],
             [
              0.4444444444444444,
              "#bd3786"
             ],
             [
              0.5555555555555556,
              "#d8576b"
             ],
             [
              0.6666666666666666,
              "#ed7953"
             ],
             [
              0.7777777777777778,
              "#fb9f3a"
             ],
             [
              0.8888888888888888,
              "#fdca26"
             ],
             [
              1,
              "#f0f921"
             ]
            ],
            "type": "surface"
           }
          ],
          "table": [
           {
            "cells": {
             "fill": {
              "color": "#EBF0F8"
             },
             "line": {
              "color": "white"
             }
            },
            "header": {
             "fill": {
              "color": "#C8D4E3"
             },
             "line": {
              "color": "white"
             }
            },
            "type": "table"
           }
          ]
         },
         "layout": {
          "annotationdefaults": {
           "arrowcolor": "#2a3f5f",
           "arrowhead": 0,
           "arrowwidth": 1
          },
          "autotypenumbers": "strict",
          "coloraxis": {
           "colorbar": {
            "outlinewidth": 0,
            "ticks": ""
           }
          },
          "colorscale": {
           "diverging": [
            [
             0,
             "#8e0152"
            ],
            [
             0.1,
             "#c51b7d"
            ],
            [
             0.2,
             "#de77ae"
            ],
            [
             0.3,
             "#f1b6da"
            ],
            [
             0.4,
             "#fde0ef"
            ],
            [
             0.5,
             "#f7f7f7"
            ],
            [
             0.6,
             "#e6f5d0"
            ],
            [
             0.7,
             "#b8e186"
            ],
            [
             0.8,
             "#7fbc41"
            ],
            [
             0.9,
             "#4d9221"
            ],
            [
             1,
             "#276419"
            ]
           ],
           "sequential": [
            [
             0,
             "#0d0887"
            ],
            [
             0.1111111111111111,
             "#46039f"
            ],
            [
             0.2222222222222222,
             "#7201a8"
            ],
            [
             0.3333333333333333,
             "#9c179e"
            ],
            [
             0.4444444444444444,
             "#bd3786"
            ],
            [
             0.5555555555555556,
             "#d8576b"
            ],
            [
             0.6666666666666666,
             "#ed7953"
            ],
            [
             0.7777777777777778,
             "#fb9f3a"
            ],
            [
             0.8888888888888888,
             "#fdca26"
            ],
            [
             1,
             "#f0f921"
            ]
           ],
           "sequentialminus": [
            [
             0,
             "#0d0887"
            ],
            [
             0.1111111111111111,
             "#46039f"
            ],
            [
             0.2222222222222222,
             "#7201a8"
            ],
            [
             0.3333333333333333,
             "#9c179e"
            ],
            [
             0.4444444444444444,
             "#bd3786"
            ],
            [
             0.5555555555555556,
             "#d8576b"
            ],
            [
             0.6666666666666666,
             "#ed7953"
            ],
            [
             0.7777777777777778,
             "#fb9f3a"
            ],
            [
             0.8888888888888888,
             "#fdca26"
            ],
            [
             1,
             "#f0f921"
            ]
           ]
          },
          "colorway": [
           "#636efa",
           "#EF553B",
           "#00cc96",
           "#ab63fa",
           "#FFA15A",
           "#19d3f3",
           "#FF6692",
           "#B6E880",
           "#FF97FF",
           "#FECB52"
          ],
          "font": {
           "color": "#2a3f5f"
          },
          "geo": {
           "bgcolor": "white",
           "lakecolor": "white",
           "landcolor": "#E5ECF6",
           "showlakes": true,
           "showland": true,
           "subunitcolor": "white"
          },
          "hoverlabel": {
           "align": "left"
          },
          "hovermode": "closest",
          "mapbox": {
           "style": "light"
          },
          "paper_bgcolor": "white",
          "plot_bgcolor": "#E5ECF6",
          "polar": {
           "angularaxis": {
            "gridcolor": "white",
            "linecolor": "white",
            "ticks": ""
           },
           "bgcolor": "#E5ECF6",
           "radialaxis": {
            "gridcolor": "white",
            "linecolor": "white",
            "ticks": ""
           }
          },
          "scene": {
           "xaxis": {
            "backgroundcolor": "#E5ECF6",
            "gridcolor": "white",
            "gridwidth": 2,
            "linecolor": "white",
            "showbackground": true,
            "ticks": "",
            "zerolinecolor": "white"
           },
           "yaxis": {
            "backgroundcolor": "#E5ECF6",
            "gridcolor": "white",
            "gridwidth": 2,
            "linecolor": "white",
            "showbackground": true,
            "ticks": "",
            "zerolinecolor": "white"
           },
           "zaxis": {
            "backgroundcolor": "#E5ECF6",
            "gridcolor": "white",
            "gridwidth": 2,
            "linecolor": "white",
            "showbackground": true,
            "ticks": "",
            "zerolinecolor": "white"
           }
          },
          "shapedefaults": {
           "line": {
            "color": "#2a3f5f"
           }
          },
          "ternary": {
           "aaxis": {
            "gridcolor": "white",
            "linecolor": "white",
            "ticks": ""
           },
           "baxis": {
            "gridcolor": "white",
            "linecolor": "white",
            "ticks": ""
           },
           "bgcolor": "#E5ECF6",
           "caxis": {
            "gridcolor": "white",
            "linecolor": "white",
            "ticks": ""
           }
          },
          "title": {
           "x": 0.05
          },
          "xaxis": {
           "automargin": true,
           "gridcolor": "white",
           "linecolor": "white",
           "ticks": "",
           "title": {
            "standoff": 15
           },
           "zerolinecolor": "white",
           "zerolinewidth": 2
          },
          "yaxis": {
           "automargin": true,
           "gridcolor": "white",
           "linecolor": "white",
           "ticks": "",
           "title": {
            "standoff": 15
           },
           "zerolinecolor": "white",
           "zerolinewidth": 2
          }
         }
        },
        "title": {
         "text": "Daily Sales Trend by Year"
        },
        "updatemenus": [
         {
          "buttons": [
           {
            "args": [
             null,
             {
              "frame": {
               "duration": 500,
               "redraw": false
              },
              "fromcurrent": true,
              "mode": "immediate",
              "transition": {
               "duration": 500,
               "easing": "linear"
              }
             }
            ],
            "label": "&#9654;",
            "method": "animate"
           },
           {
            "args": [
             [
              null
             ],
             {
              "frame": {
               "duration": 0,
               "redraw": false
              },
              "fromcurrent": true,
              "mode": "immediate",
              "transition": {
               "duration": 0,
               "easing": "linear"
              }
             }
            ],
            "label": "&#9724;",
            "method": "animate"
           }
          ],
          "direction": "left",
          "pad": {
           "r": 10,
           "t": 70
          },
          "showactive": false,
          "type": "buttons",
          "x": 0.1,
          "xanchor": "right",
          "y": 0,
          "yanchor": "top"
         }
        ],
        "xaxis": {
         "anchor": "y",
         "domain": [
          0,
          1
         ],
         "title": {
          "text": "Day of Year"
         }
        },
        "yaxis": {
         "anchor": "x",
         "domain": [
          0,
          1
         ],
         "title": {
          "text": "Sales"
         }
        }
       }
      }
     },
     "metadata": {},
     "output_type": "display_data"
    }
   ],
   "source": [
    "daily_sales = df.groupby('Order Date')['Sales'].sum().reset_index()\n",
    "daily_sales['Order Date'] = pd.to_datetime(daily_sales['Order Date'])\n",
    "daily_sales.sort_values('Order Date', inplace=True)\n",
    "\n",
    "daily_sales['Year'] = daily_sales['Order Date'].dt.year\n",
    "daily_sales['DayOfYear'] = daily_sales['Order Date'].dt.dayofyear\n",
    "daily_sales['Month'] = daily_sales['Order Date'].dt.month\n",
    "\n",
    "fig = px.line(\n",
    "    daily_sales,\n",
    "    x='DayOfYear',\n",
    "    y='Sales',\n",
    "    animation_frame='Year',\n",
    "    title='Daily Sales Trend by Year',\n",
    "    labels={'DayOfYear': 'Day of Year'}\n",
    ")\n",
    "fig.show()\n"
   ]
  },
  {
   "cell_type": "code",
   "execution_count": 105,
   "id": "1b789694",
   "metadata": {},
   "outputs": [
    {
     "data": {
      "text/html": [
       "<div>\n",
       "<style scoped>\n",
       "    .dataframe tbody tr th:only-of-type {\n",
       "        vertical-align: middle;\n",
       "    }\n",
       "\n",
       "    .dataframe tbody tr th {\n",
       "        vertical-align: top;\n",
       "    }\n",
       "\n",
       "    .dataframe thead th {\n",
       "        text-align: right;\n",
       "    }\n",
       "</style>\n",
       "<table border=\"1\" class=\"dataframe\">\n",
       "  <thead>\n",
       "    <tr style=\"text-align: right;\">\n",
       "      <th></th>\n",
       "      <th>Month</th>\n",
       "      <th>Year</th>\n",
       "      <th>sum</th>\n",
       "    </tr>\n",
       "  </thead>\n",
       "  <tbody>\n",
       "    <tr>\n",
       "      <th>0</th>\n",
       "      <td>1</td>\n",
       "      <td>2015</td>\n",
       "      <td>28828.2540</td>\n",
       "    </tr>\n",
       "    <tr>\n",
       "      <th>1</th>\n",
       "      <td>1</td>\n",
       "      <td>2016</td>\n",
       "      <td>29347.3864</td>\n",
       "    </tr>\n",
       "    <tr>\n",
       "      <th>2</th>\n",
       "      <td>1</td>\n",
       "      <td>2017</td>\n",
       "      <td>38048.1840</td>\n",
       "    </tr>\n",
       "    <tr>\n",
       "      <th>3</th>\n",
       "      <td>1</td>\n",
       "      <td>2018</td>\n",
       "      <td>59767.0910</td>\n",
       "    </tr>\n",
       "    <tr>\n",
       "      <th>4</th>\n",
       "      <td>2</td>\n",
       "      <td>2015</td>\n",
       "      <td>12588.4840</td>\n",
       "    </tr>\n",
       "    <tr>\n",
       "      <th>5</th>\n",
       "      <td>2</td>\n",
       "      <td>2016</td>\n",
       "      <td>20728.3520</td>\n",
       "    </tr>\n",
       "    <tr>\n",
       "      <th>6</th>\n",
       "      <td>2</td>\n",
       "      <td>2017</td>\n",
       "      <td>48907.5900</td>\n",
       "    </tr>\n",
       "    <tr>\n",
       "      <th>7</th>\n",
       "      <td>2</td>\n",
       "      <td>2018</td>\n",
       "      <td>48928.8334</td>\n",
       "    </tr>\n",
       "    <tr>\n",
       "      <th>8</th>\n",
       "      <td>3</td>\n",
       "      <td>2015</td>\n",
       "      <td>54027.6920</td>\n",
       "    </tr>\n",
       "    <tr>\n",
       "      <th>9</th>\n",
       "      <td>3</td>\n",
       "      <td>2016</td>\n",
       "      <td>34489.6776</td>\n",
       "    </tr>\n",
       "    <tr>\n",
       "      <th>10</th>\n",
       "      <td>3</td>\n",
       "      <td>2017</td>\n",
       "      <td>48990.1410</td>\n",
       "    </tr>\n",
       "    <tr>\n",
       "      <th>11</th>\n",
       "      <td>3</td>\n",
       "      <td>2018</td>\n",
       "      <td>74748.6238</td>\n",
       "    </tr>\n",
       "    <tr>\n",
       "      <th>12</th>\n",
       "      <td>4</td>\n",
       "      <td>2015</td>\n",
       "      <td>24710.0160</td>\n",
       "    </tr>\n",
       "    <tr>\n",
       "      <th>13</th>\n",
       "      <td>4</td>\n",
       "      <td>2016</td>\n",
       "      <td>38056.9685</td>\n",
       "    </tr>\n",
       "    <tr>\n",
       "      <th>14</th>\n",
       "      <td>4</td>\n",
       "      <td>2017</td>\n",
       "      <td>42368.0480</td>\n",
       "    </tr>\n",
       "    <tr>\n",
       "      <th>15</th>\n",
       "      <td>4</td>\n",
       "      <td>2018</td>\n",
       "      <td>37849.2156</td>\n",
       "    </tr>\n",
       "    <tr>\n",
       "      <th>16</th>\n",
       "      <td>5</td>\n",
       "      <td>2015</td>\n",
       "      <td>29520.4900</td>\n",
       "    </tr>\n",
       "    <tr>\n",
       "      <th>17</th>\n",
       "      <td>5</td>\n",
       "      <td>2016</td>\n",
       "      <td>30761.5585</td>\n",
       "    </tr>\n",
       "    <tr>\n",
       "      <th>18</th>\n",
       "      <td>5</td>\n",
       "      <td>2017</td>\n",
       "      <td>64836.2518</td>\n",
       "    </tr>\n",
       "    <tr>\n",
       "      <th>19</th>\n",
       "      <td>5</td>\n",
       "      <td>2018</td>\n",
       "      <td>40882.4464</td>\n",
       "    </tr>\n",
       "    <tr>\n",
       "      <th>20</th>\n",
       "      <td>6</td>\n",
       "      <td>2015</td>\n",
       "      <td>29181.3346</td>\n",
       "    </tr>\n",
       "    <tr>\n",
       "      <th>21</th>\n",
       "      <td>6</td>\n",
       "      <td>2016</td>\n",
       "      <td>28515.9082</td>\n",
       "    </tr>\n",
       "    <tr>\n",
       "      <th>22</th>\n",
       "      <td>6</td>\n",
       "      <td>2017</td>\n",
       "      <td>37424.6810</td>\n",
       "    </tr>\n",
       "    <tr>\n",
       "      <th>23</th>\n",
       "      <td>6</td>\n",
       "      <td>2018</td>\n",
       "      <td>46912.8475</td>\n",
       "    </tr>\n",
       "    <tr>\n",
       "      <th>24</th>\n",
       "      <td>7</td>\n",
       "      <td>2015</td>\n",
       "      <td>35194.5580</td>\n",
       "    </tr>\n",
       "    <tr>\n",
       "      <th>25</th>\n",
       "      <td>7</td>\n",
       "      <td>2016</td>\n",
       "      <td>28573.3100</td>\n",
       "    </tr>\n",
       "    <tr>\n",
       "      <th>26</th>\n",
       "      <td>7</td>\n",
       "      <td>2017</td>\n",
       "      <td>41761.9430</td>\n",
       "    </tr>\n",
       "    <tr>\n",
       "      <th>27</th>\n",
       "      <td>7</td>\n",
       "      <td>2018</td>\n",
       "      <td>53942.7755</td>\n",
       "    </tr>\n",
       "    <tr>\n",
       "      <th>28</th>\n",
       "      <td>8</td>\n",
       "      <td>2015</td>\n",
       "      <td>37349.2655</td>\n",
       "    </tr>\n",
       "    <tr>\n",
       "      <th>29</th>\n",
       "      <td>8</td>\n",
       "      <td>2016</td>\n",
       "      <td>49076.9300</td>\n",
       "    </tr>\n",
       "    <tr>\n",
       "      <th>30</th>\n",
       "      <td>8</td>\n",
       "      <td>2017</td>\n",
       "      <td>45766.8144</td>\n",
       "    </tr>\n",
       "    <tr>\n",
       "      <th>31</th>\n",
       "      <td>8</td>\n",
       "      <td>2018</td>\n",
       "      <td>75408.7840</td>\n",
       "    </tr>\n",
       "    <tr>\n",
       "      <th>32</th>\n",
       "      <td>9</td>\n",
       "      <td>2015</td>\n",
       "      <td>65956.3998</td>\n",
       "    </tr>\n",
       "    <tr>\n",
       "      <th>33</th>\n",
       "      <td>9</td>\n",
       "      <td>2016</td>\n",
       "      <td>65352.9970</td>\n",
       "    </tr>\n",
       "    <tr>\n",
       "      <th>34</th>\n",
       "      <td>9</td>\n",
       "      <td>2017</td>\n",
       "      <td>40692.3063</td>\n",
       "    </tr>\n",
       "    <tr>\n",
       "      <th>35</th>\n",
       "      <td>9</td>\n",
       "      <td>2018</td>\n",
       "      <td>73153.3640</td>\n",
       "    </tr>\n",
       "    <tr>\n",
       "      <th>36</th>\n",
       "      <td>10</td>\n",
       "      <td>2015</td>\n",
       "      <td>34561.9470</td>\n",
       "    </tr>\n",
       "    <tr>\n",
       "      <th>37</th>\n",
       "      <td>10</td>\n",
       "      <td>2016</td>\n",
       "      <td>31631.8890</td>\n",
       "    </tr>\n",
       "    <tr>\n",
       "      <th>38</th>\n",
       "      <td>10</td>\n",
       "      <td>2017</td>\n",
       "      <td>52156.9580</td>\n",
       "    </tr>\n",
       "    <tr>\n",
       "      <th>39</th>\n",
       "      <td>10</td>\n",
       "      <td>2018</td>\n",
       "      <td>65501.1622</td>\n",
       "    </tr>\n",
       "    <tr>\n",
       "      <th>40</th>\n",
       "      <td>11</td>\n",
       "      <td>2015</td>\n",
       "      <td>64369.4565</td>\n",
       "    </tr>\n",
       "    <tr>\n",
       "      <th>41</th>\n",
       "      <td>11</td>\n",
       "      <td>2016</td>\n",
       "      <td>50009.1450</td>\n",
       "    </tr>\n",
       "    <tr>\n",
       "      <th>42</th>\n",
       "      <td>11</td>\n",
       "      <td>2017</td>\n",
       "      <td>66392.5470</td>\n",
       "    </tr>\n",
       "    <tr>\n",
       "      <th>43</th>\n",
       "      <td>11</td>\n",
       "      <td>2018</td>\n",
       "      <td>87997.6400</td>\n",
       "    </tr>\n",
       "    <tr>\n",
       "      <th>44</th>\n",
       "      <td>12</td>\n",
       "      <td>2015</td>\n",
       "      <td>63568.3107</td>\n",
       "    </tr>\n",
       "    <tr>\n",
       "      <th>45</th>\n",
       "      <td>12</td>\n",
       "      <td>2016</td>\n",
       "      <td>52891.8832</td>\n",
       "    </tr>\n",
       "    <tr>\n",
       "      <th>46</th>\n",
       "      <td>12</td>\n",
       "      <td>2017</td>\n",
       "      <td>72847.0855</td>\n",
       "    </tr>\n",
       "    <tr>\n",
       "      <th>47</th>\n",
       "      <td>12</td>\n",
       "      <td>2018</td>\n",
       "      <td>56959.2358</td>\n",
       "    </tr>\n",
       "  </tbody>\n",
       "</table>\n",
       "</div>"
      ],
      "text/plain": [
       "    Month  Year         sum\n",
       "0       1  2015  28828.2540\n",
       "1       1  2016  29347.3864\n",
       "2       1  2017  38048.1840\n",
       "3       1  2018  59767.0910\n",
       "4       2  2015  12588.4840\n",
       "5       2  2016  20728.3520\n",
       "6       2  2017  48907.5900\n",
       "7       2  2018  48928.8334\n",
       "8       3  2015  54027.6920\n",
       "9       3  2016  34489.6776\n",
       "10      3  2017  48990.1410\n",
       "11      3  2018  74748.6238\n",
       "12      4  2015  24710.0160\n",
       "13      4  2016  38056.9685\n",
       "14      4  2017  42368.0480\n",
       "15      4  2018  37849.2156\n",
       "16      5  2015  29520.4900\n",
       "17      5  2016  30761.5585\n",
       "18      5  2017  64836.2518\n",
       "19      5  2018  40882.4464\n",
       "20      6  2015  29181.3346\n",
       "21      6  2016  28515.9082\n",
       "22      6  2017  37424.6810\n",
       "23      6  2018  46912.8475\n",
       "24      7  2015  35194.5580\n",
       "25      7  2016  28573.3100\n",
       "26      7  2017  41761.9430\n",
       "27      7  2018  53942.7755\n",
       "28      8  2015  37349.2655\n",
       "29      8  2016  49076.9300\n",
       "30      8  2017  45766.8144\n",
       "31      8  2018  75408.7840\n",
       "32      9  2015  65956.3998\n",
       "33      9  2016  65352.9970\n",
       "34      9  2017  40692.3063\n",
       "35      9  2018  73153.3640\n",
       "36     10  2015  34561.9470\n",
       "37     10  2016  31631.8890\n",
       "38     10  2017  52156.9580\n",
       "39     10  2018  65501.1622\n",
       "40     11  2015  64369.4565\n",
       "41     11  2016  50009.1450\n",
       "42     11  2017  66392.5470\n",
       "43     11  2018  87997.6400\n",
       "44     12  2015  63568.3107\n",
       "45     12  2016  52891.8832\n",
       "46     12  2017  72847.0855\n",
       "47     12  2018  56959.2358"
      ]
     },
     "execution_count": 105,
     "metadata": {},
     "output_type": "execute_result"
    }
   ],
   "source": [
    "xy = daily_sales.groupby(['Month', 'Year'])['Sales'].sum().reset_index(name='sum')\n",
    "xy"
   ]
  },
  {
   "cell_type": "code",
   "execution_count": 106,
   "id": "910d9b23",
   "metadata": {},
   "outputs": [
    {
     "data": {
      "application/vnd.plotly.v1+json": {
       "config": {
        "plotlyServerURL": "https://plot.ly"
       },
       "data": [
        {
         "hovertemplate": "Year=2015<br>Month=%{x}<br>Sales=%{y}<extra></extra>",
         "legendgroup": "",
         "marker": {
          "color": "#636efa",
          "pattern": {
           "shape": ""
          }
         },
         "name": "",
         "orientation": "v",
         "showlegend": false,
         "textposition": "auto",
         "type": "bar",
         "x": {
          "bdata": "AQAAAAIAAAADAAAABAAAAAUAAAAGAAAABwAAAAgAAAAJAAAACgAAAAsAAAAMAAAA",
          "dtype": "i4"
         },
         "xaxis": "x",
         "y": {
          "bdata": "TDeJQRAn3ECiRbbzPZbIQBsv3SR2YepAL90kBoEh2EDC9ShcH9TcQFAeFmpVf9xA5dAi21Ev4UAj2/l+qDziQE+vlGVGGvBAqvHSTT7g4EBU46WbLm7vQFwgQfEJCu9A",
          "dtype": "f8"
         },
         "yaxis": "y"
        }
       ],
       "frames": [
        {
         "data": [
          {
           "hovertemplate": "Year=2015<br>Month=%{x}<br>Sales=%{y}<extra></extra>",
           "legendgroup": "",
           "marker": {
            "color": "#636efa",
            "pattern": {
             "shape": ""
            }
           },
           "name": "",
           "orientation": "v",
           "showlegend": false,
           "textposition": "auto",
           "type": "bar",
           "x": {
            "bdata": "AQAAAAIAAAADAAAABAAAAAUAAAAGAAAABwAAAAgAAAAJAAAACgAAAAsAAAAMAAAA",
            "dtype": "i4"
           },
           "xaxis": "x",
           "y": {
            "bdata": "TDeJQRAn3ECiRbbzPZbIQBsv3SR2YepAL90kBoEh2EDC9ShcH9TcQFAeFmpVf9xA5dAi21Ev4UAj2/l+qDziQE+vlGVGGvBAqvHSTT7g4EBU46WbLm7vQFwgQfEJCu9A",
            "dtype": "f8"
           },
           "yaxis": "y"
          }
         ],
         "name": "2015"
        },
        {
         "data": [
          {
           "hovertemplate": "Year=2016<br>Month=%{x}<br>Sales=%{y}<extra></extra>",
           "legendgroup": "",
           "marker": {
            "color": "#636efa",
            "pattern": {
             "shape": ""
            }
           },
           "name": "",
           "orientation": "v",
           "showlegend": false,
           "textposition": "auto",
           "type": "bar",
           "x": {
            "bdata": "AQAAAAIAAAADAAAABAAAAAUAAAAGAAAABwAAAAgAAAAJAAAACgAAAAsAAAAMAAAA",
            "dtype": "i4"
           },
           "xaxis": "x",
           "y": {
            "bdata": "yxDHutio3EANAiuHFj7UQPkx5q411+BARrbz/R6V4kC0yHa+YwreQI/k8h/62NtAcD0K11Pn20ApXI/CnfbnQEOLbOcf6e9AiUFg5fjj3kA9CtejJGvoQHqlLEN80+lA",
            "dtype": "f8"
           },
           "yaxis": "y"
          }
         ],
         "name": "2016"
        },
        {
         "data": [
          {
           "hovertemplate": "Year=2017<br>Month=%{x}<br>Sales=%{y}<extra></extra>",
           "legendgroup": "",
           "marker": {
            "color": "#636efa",
            "pattern": {
             "shape": ""
            }
           },
           "name": "",
           "orientation": "v",
           "showlegend": false,
           "textposition": "auto",
           "type": "bar",
           "x": {
            "bdata": "AQAAAAIAAAADAAAABAAAAAUAAAAGAAAABwAAAAgAAAAJAAAACgAAAAsAAAAMAAAA",
            "dtype": "i4"
           },
           "xaxis": "x",
           "y": {
            "bdata": "z/dT4wWU4kAVrkfhcuHnQJduEoPE6+dAx0s3iQGw5ECl374OiKjvQBKDwMoVRuJABFYOLT5k5EC8lpAP2ljmQFioNc2J3uNAsp3vp5536UBvEoPAiDXwQH0/NV7xyPFA",
            "dtype": "f8"
           },
           "yaxis": "y"
          }
         ],
         "name": "2017"
        },
        {
         "data": [
          {
           "hovertemplate": "Year=2018<br>Month=%{x}<br>Sales=%{y}<extra></extra>",
           "legendgroup": "",
           "marker": {
            "color": "#636efa",
            "pattern": {
             "shape": ""
            }
           },
           "name": "",
           "orientation": "v",
           "showlegend": false,
           "textposition": "auto",
           "type": "bar",
           "x": {
            "bdata": "AQAAAAIAAAADAAAABAAAAAUAAAAGAAAABwAAAAgAAAAJAAAACgAAAAsAAAAMAAAA",
            "dtype": "i4"
           },
           "xaxis": "x",
           "y": {
            "bdata": "/tR46eIu7UAQejarGuTnQHS1FfvJP/JAoPgx5iZ74kAep+hITvbjQOxRuB4b6OZAQmDl0NhW6kCBlUOLDGnyQPyp8dIV3PFA7Q2+MKX770DXo3A92nv1QA1xrIvnz+tA",
            "dtype": "f8"
           },
           "yaxis": "y"
          }
         ],
         "name": "2018"
        }
       ],
       "layout": {
        "barmode": "relative",
        "legend": {
         "tracegroupgap": 0
        },
        "sliders": [
         {
          "active": 0,
          "currentvalue": {
           "prefix": "Year="
          },
          "len": 0.9,
          "pad": {
           "b": 10,
           "t": 60
          },
          "steps": [
           {
            "args": [
             [
              "2015"
             ],
             {
              "frame": {
               "duration": 0,
               "redraw": true
              },
              "fromcurrent": true,
              "mode": "immediate",
              "transition": {
               "duration": 0,
               "easing": "linear"
              }
             }
            ],
            "label": "2015",
            "method": "animate"
           },
           {
            "args": [
             [
              "2016"
             ],
             {
              "frame": {
               "duration": 0,
               "redraw": true
              },
              "fromcurrent": true,
              "mode": "immediate",
              "transition": {
               "duration": 0,
               "easing": "linear"
              }
             }
            ],
            "label": "2016",
            "method": "animate"
           },
           {
            "args": [
             [
              "2017"
             ],
             {
              "frame": {
               "duration": 0,
               "redraw": true
              },
              "fromcurrent": true,
              "mode": "immediate",
              "transition": {
               "duration": 0,
               "easing": "linear"
              }
             }
            ],
            "label": "2017",
            "method": "animate"
           },
           {
            "args": [
             [
              "2018"
             ],
             {
              "frame": {
               "duration": 0,
               "redraw": true
              },
              "fromcurrent": true,
              "mode": "immediate",
              "transition": {
               "duration": 0,
               "easing": "linear"
              }
             }
            ],
            "label": "2018",
            "method": "animate"
           }
          ],
          "x": 0.1,
          "xanchor": "left",
          "y": 0,
          "yanchor": "top"
         }
        ],
        "template": {
         "data": {
          "bar": [
           {
            "error_x": {
             "color": "#2a3f5f"
            },
            "error_y": {
             "color": "#2a3f5f"
            },
            "marker": {
             "line": {
              "color": "#E5ECF6",
              "width": 0.5
             },
             "pattern": {
              "fillmode": "overlay",
              "size": 10,
              "solidity": 0.2
             }
            },
            "type": "bar"
           }
          ],
          "barpolar": [
           {
            "marker": {
             "line": {
              "color": "#E5ECF6",
              "width": 0.5
             },
             "pattern": {
              "fillmode": "overlay",
              "size": 10,
              "solidity": 0.2
             }
            },
            "type": "barpolar"
           }
          ],
          "carpet": [
           {
            "aaxis": {
             "endlinecolor": "#2a3f5f",
             "gridcolor": "white",
             "linecolor": "white",
             "minorgridcolor": "white",
             "startlinecolor": "#2a3f5f"
            },
            "baxis": {
             "endlinecolor": "#2a3f5f",
             "gridcolor": "white",
             "linecolor": "white",
             "minorgridcolor": "white",
             "startlinecolor": "#2a3f5f"
            },
            "type": "carpet"
           }
          ],
          "choropleth": [
           {
            "colorbar": {
             "outlinewidth": 0,
             "ticks": ""
            },
            "type": "choropleth"
           }
          ],
          "contour": [
           {
            "colorbar": {
             "outlinewidth": 0,
             "ticks": ""
            },
            "colorscale": [
             [
              0,
              "#0d0887"
             ],
             [
              0.1111111111111111,
              "#46039f"
             ],
             [
              0.2222222222222222,
              "#7201a8"
             ],
             [
              0.3333333333333333,
              "#9c179e"
             ],
             [
              0.4444444444444444,
              "#bd3786"
             ],
             [
              0.5555555555555556,
              "#d8576b"
             ],
             [
              0.6666666666666666,
              "#ed7953"
             ],
             [
              0.7777777777777778,
              "#fb9f3a"
             ],
             [
              0.8888888888888888,
              "#fdca26"
             ],
             [
              1,
              "#f0f921"
             ]
            ],
            "type": "contour"
           }
          ],
          "contourcarpet": [
           {
            "colorbar": {
             "outlinewidth": 0,
             "ticks": ""
            },
            "type": "contourcarpet"
           }
          ],
          "heatmap": [
           {
            "colorbar": {
             "outlinewidth": 0,
             "ticks": ""
            },
            "colorscale": [
             [
              0,
              "#0d0887"
             ],
             [
              0.1111111111111111,
              "#46039f"
             ],
             [
              0.2222222222222222,
              "#7201a8"
             ],
             [
              0.3333333333333333,
              "#9c179e"
             ],
             [
              0.4444444444444444,
              "#bd3786"
             ],
             [
              0.5555555555555556,
              "#d8576b"
             ],
             [
              0.6666666666666666,
              "#ed7953"
             ],
             [
              0.7777777777777778,
              "#fb9f3a"
             ],
             [
              0.8888888888888888,
              "#fdca26"
             ],
             [
              1,
              "#f0f921"
             ]
            ],
            "type": "heatmap"
           }
          ],
          "histogram": [
           {
            "marker": {
             "pattern": {
              "fillmode": "overlay",
              "size": 10,
              "solidity": 0.2
             }
            },
            "type": "histogram"
           }
          ],
          "histogram2d": [
           {
            "colorbar": {
             "outlinewidth": 0,
             "ticks": ""
            },
            "colorscale": [
             [
              0,
              "#0d0887"
             ],
             [
              0.1111111111111111,
              "#46039f"
             ],
             [
              0.2222222222222222,
              "#7201a8"
             ],
             [
              0.3333333333333333,
              "#9c179e"
             ],
             [
              0.4444444444444444,
              "#bd3786"
             ],
             [
              0.5555555555555556,
              "#d8576b"
             ],
             [
              0.6666666666666666,
              "#ed7953"
             ],
             [
              0.7777777777777778,
              "#fb9f3a"
             ],
             [
              0.8888888888888888,
              "#fdca26"
             ],
             [
              1,
              "#f0f921"
             ]
            ],
            "type": "histogram2d"
           }
          ],
          "histogram2dcontour": [
           {
            "colorbar": {
             "outlinewidth": 0,
             "ticks": ""
            },
            "colorscale": [
             [
              0,
              "#0d0887"
             ],
             [
              0.1111111111111111,
              "#46039f"
             ],
             [
              0.2222222222222222,
              "#7201a8"
             ],
             [
              0.3333333333333333,
              "#9c179e"
             ],
             [
              0.4444444444444444,
              "#bd3786"
             ],
             [
              0.5555555555555556,
              "#d8576b"
             ],
             [
              0.6666666666666666,
              "#ed7953"
             ],
             [
              0.7777777777777778,
              "#fb9f3a"
             ],
             [
              0.8888888888888888,
              "#fdca26"
             ],
             [
              1,
              "#f0f921"
             ]
            ],
            "type": "histogram2dcontour"
           }
          ],
          "mesh3d": [
           {
            "colorbar": {
             "outlinewidth": 0,
             "ticks": ""
            },
            "type": "mesh3d"
           }
          ],
          "parcoords": [
           {
            "line": {
             "colorbar": {
              "outlinewidth": 0,
              "ticks": ""
             }
            },
            "type": "parcoords"
           }
          ],
          "pie": [
           {
            "automargin": true,
            "type": "pie"
           }
          ],
          "scatter": [
           {
            "fillpattern": {
             "fillmode": "overlay",
             "size": 10,
             "solidity": 0.2
            },
            "type": "scatter"
           }
          ],
          "scatter3d": [
           {
            "line": {
             "colorbar": {
              "outlinewidth": 0,
              "ticks": ""
             }
            },
            "marker": {
             "colorbar": {
              "outlinewidth": 0,
              "ticks": ""
             }
            },
            "type": "scatter3d"
           }
          ],
          "scattercarpet": [
           {
            "marker": {
             "colorbar": {
              "outlinewidth": 0,
              "ticks": ""
             }
            },
            "type": "scattercarpet"
           }
          ],
          "scattergeo": [
           {
            "marker": {
             "colorbar": {
              "outlinewidth": 0,
              "ticks": ""
             }
            },
            "type": "scattergeo"
           }
          ],
          "scattergl": [
           {
            "marker": {
             "colorbar": {
              "outlinewidth": 0,
              "ticks": ""
             }
            },
            "type": "scattergl"
           }
          ],
          "scattermap": [
           {
            "marker": {
             "colorbar": {
              "outlinewidth": 0,
              "ticks": ""
             }
            },
            "type": "scattermap"
           }
          ],
          "scattermapbox": [
           {
            "marker": {
             "colorbar": {
              "outlinewidth": 0,
              "ticks": ""
             }
            },
            "type": "scattermapbox"
           }
          ],
          "scatterpolar": [
           {
            "marker": {
             "colorbar": {
              "outlinewidth": 0,
              "ticks": ""
             }
            },
            "type": "scatterpolar"
           }
          ],
          "scatterpolargl": [
           {
            "marker": {
             "colorbar": {
              "outlinewidth": 0,
              "ticks": ""
             }
            },
            "type": "scatterpolargl"
           }
          ],
          "scatterternary": [
           {
            "marker": {
             "colorbar": {
              "outlinewidth": 0,
              "ticks": ""
             }
            },
            "type": "scatterternary"
           }
          ],
          "surface": [
           {
            "colorbar": {
             "outlinewidth": 0,
             "ticks": ""
            },
            "colorscale": [
             [
              0,
              "#0d0887"
             ],
             [
              0.1111111111111111,
              "#46039f"
             ],
             [
              0.2222222222222222,
              "#7201a8"
             ],
             [
              0.3333333333333333,
              "#9c179e"
             ],
             [
              0.4444444444444444,
              "#bd3786"
             ],
             [
              0.5555555555555556,
              "#d8576b"
             ],
             [
              0.6666666666666666,
              "#ed7953"
             ],
             [
              0.7777777777777778,
              "#fb9f3a"
             ],
             [
              0.8888888888888888,
              "#fdca26"
             ],
             [
              1,
              "#f0f921"
             ]
            ],
            "type": "surface"
           }
          ],
          "table": [
           {
            "cells": {
             "fill": {
              "color": "#EBF0F8"
             },
             "line": {
              "color": "white"
             }
            },
            "header": {
             "fill": {
              "color": "#C8D4E3"
             },
             "line": {
              "color": "white"
             }
            },
            "type": "table"
           }
          ]
         },
         "layout": {
          "annotationdefaults": {
           "arrowcolor": "#2a3f5f",
           "arrowhead": 0,
           "arrowwidth": 1
          },
          "autotypenumbers": "strict",
          "coloraxis": {
           "colorbar": {
            "outlinewidth": 0,
            "ticks": ""
           }
          },
          "colorscale": {
           "diverging": [
            [
             0,
             "#8e0152"
            ],
            [
             0.1,
             "#c51b7d"
            ],
            [
             0.2,
             "#de77ae"
            ],
            [
             0.3,
             "#f1b6da"
            ],
            [
             0.4,
             "#fde0ef"
            ],
            [
             0.5,
             "#f7f7f7"
            ],
            [
             0.6,
             "#e6f5d0"
            ],
            [
             0.7,
             "#b8e186"
            ],
            [
             0.8,
             "#7fbc41"
            ],
            [
             0.9,
             "#4d9221"
            ],
            [
             1,
             "#276419"
            ]
           ],
           "sequential": [
            [
             0,
             "#0d0887"
            ],
            [
             0.1111111111111111,
             "#46039f"
            ],
            [
             0.2222222222222222,
             "#7201a8"
            ],
            [
             0.3333333333333333,
             "#9c179e"
            ],
            [
             0.4444444444444444,
             "#bd3786"
            ],
            [
             0.5555555555555556,
             "#d8576b"
            ],
            [
             0.6666666666666666,
             "#ed7953"
            ],
            [
             0.7777777777777778,
             "#fb9f3a"
            ],
            [
             0.8888888888888888,
             "#fdca26"
            ],
            [
             1,
             "#f0f921"
            ]
           ],
           "sequentialminus": [
            [
             0,
             "#0d0887"
            ],
            [
             0.1111111111111111,
             "#46039f"
            ],
            [
             0.2222222222222222,
             "#7201a8"
            ],
            [
             0.3333333333333333,
             "#9c179e"
            ],
            [
             0.4444444444444444,
             "#bd3786"
            ],
            [
             0.5555555555555556,
             "#d8576b"
            ],
            [
             0.6666666666666666,
             "#ed7953"
            ],
            [
             0.7777777777777778,
             "#fb9f3a"
            ],
            [
             0.8888888888888888,
             "#fdca26"
            ],
            [
             1,
             "#f0f921"
            ]
           ]
          },
          "colorway": [
           "#636efa",
           "#EF553B",
           "#00cc96",
           "#ab63fa",
           "#FFA15A",
           "#19d3f3",
           "#FF6692",
           "#B6E880",
           "#FF97FF",
           "#FECB52"
          ],
          "font": {
           "color": "#2a3f5f"
          },
          "geo": {
           "bgcolor": "white",
           "lakecolor": "white",
           "landcolor": "#E5ECF6",
           "showlakes": true,
           "showland": true,
           "subunitcolor": "white"
          },
          "hoverlabel": {
           "align": "left"
          },
          "hovermode": "closest",
          "mapbox": {
           "style": "light"
          },
          "paper_bgcolor": "white",
          "plot_bgcolor": "#E5ECF6",
          "polar": {
           "angularaxis": {
            "gridcolor": "white",
            "linecolor": "white",
            "ticks": ""
           },
           "bgcolor": "#E5ECF6",
           "radialaxis": {
            "gridcolor": "white",
            "linecolor": "white",
            "ticks": ""
           }
          },
          "scene": {
           "xaxis": {
            "backgroundcolor": "#E5ECF6",
            "gridcolor": "white",
            "gridwidth": 2,
            "linecolor": "white",
            "showbackground": true,
            "ticks": "",
            "zerolinecolor": "white"
           },
           "yaxis": {
            "backgroundcolor": "#E5ECF6",
            "gridcolor": "white",
            "gridwidth": 2,
            "linecolor": "white",
            "showbackground": true,
            "ticks": "",
            "zerolinecolor": "white"
           },
           "zaxis": {
            "backgroundcolor": "#E5ECF6",
            "gridcolor": "white",
            "gridwidth": 2,
            "linecolor": "white",
            "showbackground": true,
            "ticks": "",
            "zerolinecolor": "white"
           }
          },
          "shapedefaults": {
           "line": {
            "color": "#2a3f5f"
           }
          },
          "ternary": {
           "aaxis": {
            "gridcolor": "white",
            "linecolor": "white",
            "ticks": ""
           },
           "baxis": {
            "gridcolor": "white",
            "linecolor": "white",
            "ticks": ""
           },
           "bgcolor": "#E5ECF6",
           "caxis": {
            "gridcolor": "white",
            "linecolor": "white",
            "ticks": ""
           }
          },
          "title": {
           "x": 0.05
          },
          "xaxis": {
           "automargin": true,
           "gridcolor": "white",
           "linecolor": "white",
           "ticks": "",
           "title": {
            "standoff": 15
           },
           "zerolinecolor": "white",
           "zerolinewidth": 2
          },
          "yaxis": {
           "automargin": true,
           "gridcolor": "white",
           "linecolor": "white",
           "ticks": "",
           "title": {
            "standoff": 15
           },
           "zerolinecolor": "white",
           "zerolinewidth": 2
          }
         }
        },
        "title": {
         "text": "Monthly Sales Trend by Year"
        },
        "updatemenus": [
         {
          "buttons": [
           {
            "args": [
             null,
             {
              "frame": {
               "duration": 500,
               "redraw": true
              },
              "fromcurrent": true,
              "mode": "immediate",
              "transition": {
               "duration": 500,
               "easing": "linear"
              }
             }
            ],
            "label": "&#9654;",
            "method": "animate"
           },
           {
            "args": [
             [
              null
             ],
             {
              "frame": {
               "duration": 0,
               "redraw": true
              },
              "fromcurrent": true,
              "mode": "immediate",
              "transition": {
               "duration": 0,
               "easing": "linear"
              }
             }
            ],
            "label": "&#9724;",
            "method": "animate"
           }
          ],
          "direction": "left",
          "pad": {
           "r": 10,
           "t": 70
          },
          "showactive": false,
          "type": "buttons",
          "x": 0.1,
          "xanchor": "right",
          "y": 0,
          "yanchor": "top"
         }
        ],
        "xaxis": {
         "anchor": "y",
         "domain": [
          0,
          1
         ],
         "title": {
          "text": "Month"
         }
        },
        "yaxis": {
         "anchor": "x",
         "domain": [
          0,
          1
         ],
         "title": {
          "text": "Sales"
         }
        }
       }
      }
     },
     "metadata": {},
     "output_type": "display_data"
    }
   ],
   "source": [
    "\n",
    "daily_sales = df.groupby('Order Date')['Sales'].sum().reset_index()\n",
    "daily_sales['Order Date'] = pd.to_datetime(daily_sales['Order Date'])\n",
    "daily_sales.sort_values('Order Date', inplace=True)\n",
    "\n",
    "daily_sales['Year'] = daily_sales['Order Date'].dt.year\n",
    "daily_sales['Month'] = daily_sales['Order Date'].dt.month\n",
    "\n",
    "monthly_sales = daily_sales.groupby(['Year', 'Month'])['Sales'].sum().reset_index()\n",
    "\n",
    "fig = px.bar(\n",
    "    monthly_sales,\n",
    "    x='Month',\n",
    "    y='Sales',\n",
    "    animation_frame='Year',\n",
    "    title='Monthly Sales Trend by Year',\n",
    "    labels={'Month': 'Month'}\n",
    ")\n",
    "fig.show()\n"
   ]
  },
  {
   "cell_type": "code",
   "execution_count": 107,
   "id": "0fbfb3d9",
   "metadata": {},
   "outputs": [
    {
     "data": {
      "application/vnd.plotly.v1+json": {
       "config": {
        "plotlyServerURL": "https://plot.ly"
       },
       "data": [
        {
         "hovertemplate": "x=%{x}<br>y=%{y}<extra></extra>",
         "legendgroup": "",
         "marker": {
          "color": "#636efa",
          "pattern": {
           "shape": ""
          }
         },
         "name": "",
         "orientation": "v",
         "showlegend": false,
         "textposition": "auto",
         "type": "bar",
         "x": {
          "bdata": "3wcAAOAHAADhBwAA4gcAAA==",
          "dtype": "i4"
         },
         "xaxis": "x",
         "y": {
          "bdata": "mSoY1cBJHUHek4cFsAocQZqZmRkBUSJBGJXUCQgJJkE=",
          "dtype": "f8"
         },
         "yaxis": "y"
        }
       ],
       "layout": {
        "barmode": "relative",
        "legend": {
         "tracegroupgap": 0
        },
        "margin": {
         "t": 60
        },
        "template": {
         "data": {
          "bar": [
           {
            "error_x": {
             "color": "#2a3f5f"
            },
            "error_y": {
             "color": "#2a3f5f"
            },
            "marker": {
             "line": {
              "color": "#E5ECF6",
              "width": 0.5
             },
             "pattern": {
              "fillmode": "overlay",
              "size": 10,
              "solidity": 0.2
             }
            },
            "type": "bar"
           }
          ],
          "barpolar": [
           {
            "marker": {
             "line": {
              "color": "#E5ECF6",
              "width": 0.5
             },
             "pattern": {
              "fillmode": "overlay",
              "size": 10,
              "solidity": 0.2
             }
            },
            "type": "barpolar"
           }
          ],
          "carpet": [
           {
            "aaxis": {
             "endlinecolor": "#2a3f5f",
             "gridcolor": "white",
             "linecolor": "white",
             "minorgridcolor": "white",
             "startlinecolor": "#2a3f5f"
            },
            "baxis": {
             "endlinecolor": "#2a3f5f",
             "gridcolor": "white",
             "linecolor": "white",
             "minorgridcolor": "white",
             "startlinecolor": "#2a3f5f"
            },
            "type": "carpet"
           }
          ],
          "choropleth": [
           {
            "colorbar": {
             "outlinewidth": 0,
             "ticks": ""
            },
            "type": "choropleth"
           }
          ],
          "contour": [
           {
            "colorbar": {
             "outlinewidth": 0,
             "ticks": ""
            },
            "colorscale": [
             [
              0,
              "#0d0887"
             ],
             [
              0.1111111111111111,
              "#46039f"
             ],
             [
              0.2222222222222222,
              "#7201a8"
             ],
             [
              0.3333333333333333,
              "#9c179e"
             ],
             [
              0.4444444444444444,
              "#bd3786"
             ],
             [
              0.5555555555555556,
              "#d8576b"
             ],
             [
              0.6666666666666666,
              "#ed7953"
             ],
             [
              0.7777777777777778,
              "#fb9f3a"
             ],
             [
              0.8888888888888888,
              "#fdca26"
             ],
             [
              1,
              "#f0f921"
             ]
            ],
            "type": "contour"
           }
          ],
          "contourcarpet": [
           {
            "colorbar": {
             "outlinewidth": 0,
             "ticks": ""
            },
            "type": "contourcarpet"
           }
          ],
          "heatmap": [
           {
            "colorbar": {
             "outlinewidth": 0,
             "ticks": ""
            },
            "colorscale": [
             [
              0,
              "#0d0887"
             ],
             [
              0.1111111111111111,
              "#46039f"
             ],
             [
              0.2222222222222222,
              "#7201a8"
             ],
             [
              0.3333333333333333,
              "#9c179e"
             ],
             [
              0.4444444444444444,
              "#bd3786"
             ],
             [
              0.5555555555555556,
              "#d8576b"
             ],
             [
              0.6666666666666666,
              "#ed7953"
             ],
             [
              0.7777777777777778,
              "#fb9f3a"
             ],
             [
              0.8888888888888888,
              "#fdca26"
             ],
             [
              1,
              "#f0f921"
             ]
            ],
            "type": "heatmap"
           }
          ],
          "histogram": [
           {
            "marker": {
             "pattern": {
              "fillmode": "overlay",
              "size": 10,
              "solidity": 0.2
             }
            },
            "type": "histogram"
           }
          ],
          "histogram2d": [
           {
            "colorbar": {
             "outlinewidth": 0,
             "ticks": ""
            },
            "colorscale": [
             [
              0,
              "#0d0887"
             ],
             [
              0.1111111111111111,
              "#46039f"
             ],
             [
              0.2222222222222222,
              "#7201a8"
             ],
             [
              0.3333333333333333,
              "#9c179e"
             ],
             [
              0.4444444444444444,
              "#bd3786"
             ],
             [
              0.5555555555555556,
              "#d8576b"
             ],
             [
              0.6666666666666666,
              "#ed7953"
             ],
             [
              0.7777777777777778,
              "#fb9f3a"
             ],
             [
              0.8888888888888888,
              "#fdca26"
             ],
             [
              1,
              "#f0f921"
             ]
            ],
            "type": "histogram2d"
           }
          ],
          "histogram2dcontour": [
           {
            "colorbar": {
             "outlinewidth": 0,
             "ticks": ""
            },
            "colorscale": [
             [
              0,
              "#0d0887"
             ],
             [
              0.1111111111111111,
              "#46039f"
             ],
             [
              0.2222222222222222,
              "#7201a8"
             ],
             [
              0.3333333333333333,
              "#9c179e"
             ],
             [
              0.4444444444444444,
              "#bd3786"
             ],
             [
              0.5555555555555556,
              "#d8576b"
             ],
             [
              0.6666666666666666,
              "#ed7953"
             ],
             [
              0.7777777777777778,
              "#fb9f3a"
             ],
             [
              0.8888888888888888,
              "#fdca26"
             ],
             [
              1,
              "#f0f921"
             ]
            ],
            "type": "histogram2dcontour"
           }
          ],
          "mesh3d": [
           {
            "colorbar": {
             "outlinewidth": 0,
             "ticks": ""
            },
            "type": "mesh3d"
           }
          ],
          "parcoords": [
           {
            "line": {
             "colorbar": {
              "outlinewidth": 0,
              "ticks": ""
             }
            },
            "type": "parcoords"
           }
          ],
          "pie": [
           {
            "automargin": true,
            "type": "pie"
           }
          ],
          "scatter": [
           {
            "fillpattern": {
             "fillmode": "overlay",
             "size": 10,
             "solidity": 0.2
            },
            "type": "scatter"
           }
          ],
          "scatter3d": [
           {
            "line": {
             "colorbar": {
              "outlinewidth": 0,
              "ticks": ""
             }
            },
            "marker": {
             "colorbar": {
              "outlinewidth": 0,
              "ticks": ""
             }
            },
            "type": "scatter3d"
           }
          ],
          "scattercarpet": [
           {
            "marker": {
             "colorbar": {
              "outlinewidth": 0,
              "ticks": ""
             }
            },
            "type": "scattercarpet"
           }
          ],
          "scattergeo": [
           {
            "marker": {
             "colorbar": {
              "outlinewidth": 0,
              "ticks": ""
             }
            },
            "type": "scattergeo"
           }
          ],
          "scattergl": [
           {
            "marker": {
             "colorbar": {
              "outlinewidth": 0,
              "ticks": ""
             }
            },
            "type": "scattergl"
           }
          ],
          "scattermap": [
           {
            "marker": {
             "colorbar": {
              "outlinewidth": 0,
              "ticks": ""
             }
            },
            "type": "scattermap"
           }
          ],
          "scattermapbox": [
           {
            "marker": {
             "colorbar": {
              "outlinewidth": 0,
              "ticks": ""
             }
            },
            "type": "scattermapbox"
           }
          ],
          "scatterpolar": [
           {
            "marker": {
             "colorbar": {
              "outlinewidth": 0,
              "ticks": ""
             }
            },
            "type": "scatterpolar"
           }
          ],
          "scatterpolargl": [
           {
            "marker": {
             "colorbar": {
              "outlinewidth": 0,
              "ticks": ""
             }
            },
            "type": "scatterpolargl"
           }
          ],
          "scatterternary": [
           {
            "marker": {
             "colorbar": {
              "outlinewidth": 0,
              "ticks": ""
             }
            },
            "type": "scatterternary"
           }
          ],
          "surface": [
           {
            "colorbar": {
             "outlinewidth": 0,
             "ticks": ""
            },
            "colorscale": [
             [
              0,
              "#0d0887"
             ],
             [
              0.1111111111111111,
              "#46039f"
             ],
             [
              0.2222222222222222,
              "#7201a8"
             ],
             [
              0.3333333333333333,
              "#9c179e"
             ],
             [
              0.4444444444444444,
              "#bd3786"
             ],
             [
              0.5555555555555556,
              "#d8576b"
             ],
             [
              0.6666666666666666,
              "#ed7953"
             ],
             [
              0.7777777777777778,
              "#fb9f3a"
             ],
             [
              0.8888888888888888,
              "#fdca26"
             ],
             [
              1,
              "#f0f921"
             ]
            ],
            "type": "surface"
           }
          ],
          "table": [
           {
            "cells": {
             "fill": {
              "color": "#EBF0F8"
             },
             "line": {
              "color": "white"
             }
            },
            "header": {
             "fill": {
              "color": "#C8D4E3"
             },
             "line": {
              "color": "white"
             }
            },
            "type": "table"
           }
          ]
         },
         "layout": {
          "annotationdefaults": {
           "arrowcolor": "#2a3f5f",
           "arrowhead": 0,
           "arrowwidth": 1
          },
          "autotypenumbers": "strict",
          "coloraxis": {
           "colorbar": {
            "outlinewidth": 0,
            "ticks": ""
           }
          },
          "colorscale": {
           "diverging": [
            [
             0,
             "#8e0152"
            ],
            [
             0.1,
             "#c51b7d"
            ],
            [
             0.2,
             "#de77ae"
            ],
            [
             0.3,
             "#f1b6da"
            ],
            [
             0.4,
             "#fde0ef"
            ],
            [
             0.5,
             "#f7f7f7"
            ],
            [
             0.6,
             "#e6f5d0"
            ],
            [
             0.7,
             "#b8e186"
            ],
            [
             0.8,
             "#7fbc41"
            ],
            [
             0.9,
             "#4d9221"
            ],
            [
             1,
             "#276419"
            ]
           ],
           "sequential": [
            [
             0,
             "#0d0887"
            ],
            [
             0.1111111111111111,
             "#46039f"
            ],
            [
             0.2222222222222222,
             "#7201a8"
            ],
            [
             0.3333333333333333,
             "#9c179e"
            ],
            [
             0.4444444444444444,
             "#bd3786"
            ],
            [
             0.5555555555555556,
             "#d8576b"
            ],
            [
             0.6666666666666666,
             "#ed7953"
            ],
            [
             0.7777777777777778,
             "#fb9f3a"
            ],
            [
             0.8888888888888888,
             "#fdca26"
            ],
            [
             1,
             "#f0f921"
            ]
           ],
           "sequentialminus": [
            [
             0,
             "#0d0887"
            ],
            [
             0.1111111111111111,
             "#46039f"
            ],
            [
             0.2222222222222222,
             "#7201a8"
            ],
            [
             0.3333333333333333,
             "#9c179e"
            ],
            [
             0.4444444444444444,
             "#bd3786"
            ],
            [
             0.5555555555555556,
             "#d8576b"
            ],
            [
             0.6666666666666666,
             "#ed7953"
            ],
            [
             0.7777777777777778,
             "#fb9f3a"
            ],
            [
             0.8888888888888888,
             "#fdca26"
            ],
            [
             1,
             "#f0f921"
            ]
           ]
          },
          "colorway": [
           "#636efa",
           "#EF553B",
           "#00cc96",
           "#ab63fa",
           "#FFA15A",
           "#19d3f3",
           "#FF6692",
           "#B6E880",
           "#FF97FF",
           "#FECB52"
          ],
          "font": {
           "color": "#2a3f5f"
          },
          "geo": {
           "bgcolor": "white",
           "lakecolor": "white",
           "landcolor": "#E5ECF6",
           "showlakes": true,
           "showland": true,
           "subunitcolor": "white"
          },
          "hoverlabel": {
           "align": "left"
          },
          "hovermode": "closest",
          "mapbox": {
           "style": "light"
          },
          "paper_bgcolor": "white",
          "plot_bgcolor": "#E5ECF6",
          "polar": {
           "angularaxis": {
            "gridcolor": "white",
            "linecolor": "white",
            "ticks": ""
           },
           "bgcolor": "#E5ECF6",
           "radialaxis": {
            "gridcolor": "white",
            "linecolor": "white",
            "ticks": ""
           }
          },
          "scene": {
           "xaxis": {
            "backgroundcolor": "#E5ECF6",
            "gridcolor": "white",
            "gridwidth": 2,
            "linecolor": "white",
            "showbackground": true,
            "ticks": "",
            "zerolinecolor": "white"
           },
           "yaxis": {
            "backgroundcolor": "#E5ECF6",
            "gridcolor": "white",
            "gridwidth": 2,
            "linecolor": "white",
            "showbackground": true,
            "ticks": "",
            "zerolinecolor": "white"
           },
           "zaxis": {
            "backgroundcolor": "#E5ECF6",
            "gridcolor": "white",
            "gridwidth": 2,
            "linecolor": "white",
            "showbackground": true,
            "ticks": "",
            "zerolinecolor": "white"
           }
          },
          "shapedefaults": {
           "line": {
            "color": "#2a3f5f"
           }
          },
          "ternary": {
           "aaxis": {
            "gridcolor": "white",
            "linecolor": "white",
            "ticks": ""
           },
           "baxis": {
            "gridcolor": "white",
            "linecolor": "white",
            "ticks": ""
           },
           "bgcolor": "#E5ECF6",
           "caxis": {
            "gridcolor": "white",
            "linecolor": "white",
            "ticks": ""
           }
          },
          "title": {
           "x": 0.05
          },
          "xaxis": {
           "automargin": true,
           "gridcolor": "white",
           "linecolor": "white",
           "ticks": "",
           "title": {
            "standoff": 15
           },
           "zerolinecolor": "white",
           "zerolinewidth": 2
          },
          "yaxis": {
           "automargin": true,
           "gridcolor": "white",
           "linecolor": "white",
           "ticks": "",
           "title": {
            "standoff": 15
           },
           "zerolinecolor": "white",
           "zerolinewidth": 2
          }
         }
        },
        "xaxis": {
         "anchor": "y",
         "domain": [
          0,
          1
         ],
         "title": {
          "text": "x"
         }
        },
        "yaxis": {
         "anchor": "x",
         "domain": [
          0,
          1
         ],
         "title": {
          "text": "y"
         }
        }
       }
      }
     },
     "metadata": {},
     "output_type": "display_data"
    }
   ],
   "source": [
    "ds = daily_sales.groupby('Year')['Sales'].sum().reset_index()\n",
    "px.bar(y=ds['Sales'], x=ds['Year'], orientation='v')"
   ]
  },
  {
   "cell_type": "code",
   "execution_count": 108,
   "id": "f9b22ef3",
   "metadata": {},
   "outputs": [
    {
     "data": {
      "text/html": [
       "<div>\n",
       "<style scoped>\n",
       "    .dataframe tbody tr th:only-of-type {\n",
       "        vertical-align: middle;\n",
       "    }\n",
       "\n",
       "    .dataframe tbody tr th {\n",
       "        vertical-align: top;\n",
       "    }\n",
       "\n",
       "    .dataframe thead th {\n",
       "        text-align: right;\n",
       "    }\n",
       "</style>\n",
       "<table border=\"1\" class=\"dataframe\">\n",
       "  <thead>\n",
       "    <tr style=\"text-align: right;\">\n",
       "      <th></th>\n",
       "      <th>Order Date</th>\n",
       "      <th>Sales</th>\n",
       "      <th>Year</th>\n",
       "      <th>Month</th>\n",
       "    </tr>\n",
       "  </thead>\n",
       "  <tbody>\n",
       "    <tr>\n",
       "      <th>97</th>\n",
       "      <td>2015-05-03</td>\n",
       "      <td>705.562</td>\n",
       "      <td>2015</td>\n",
       "      <td>5</td>\n",
       "    </tr>\n",
       "    <tr>\n",
       "      <th>98</th>\n",
       "      <td>2015-05-04</td>\n",
       "      <td>5179.738</td>\n",
       "      <td>2015</td>\n",
       "      <td>5</td>\n",
       "    </tr>\n",
       "    <tr>\n",
       "      <th>99</th>\n",
       "      <td>2015-05-05</td>\n",
       "      <td>260.977</td>\n",
       "      <td>2015</td>\n",
       "      <td>5</td>\n",
       "    </tr>\n",
       "    <tr>\n",
       "      <th>100</th>\n",
       "      <td>2015-05-07</td>\n",
       "      <td>1444.104</td>\n",
       "      <td>2015</td>\n",
       "      <td>5</td>\n",
       "    </tr>\n",
       "    <tr>\n",
       "      <th>101</th>\n",
       "      <td>2015-05-08</td>\n",
       "      <td>2408.724</td>\n",
       "      <td>2015</td>\n",
       "      <td>5</td>\n",
       "    </tr>\n",
       "    <tr>\n",
       "      <th>389</th>\n",
       "      <td>2016-05-03</td>\n",
       "      <td>1969.267</td>\n",
       "      <td>2016</td>\n",
       "      <td>5</td>\n",
       "    </tr>\n",
       "    <tr>\n",
       "      <th>390</th>\n",
       "      <td>2016-05-04</td>\n",
       "      <td>2974.058</td>\n",
       "      <td>2016</td>\n",
       "      <td>5</td>\n",
       "    </tr>\n",
       "    <tr>\n",
       "      <th>391</th>\n",
       "      <td>2016-05-06</td>\n",
       "      <td>1533.198</td>\n",
       "      <td>2016</td>\n",
       "      <td>5</td>\n",
       "    </tr>\n",
       "    <tr>\n",
       "      <th>392</th>\n",
       "      <td>2016-05-07</td>\n",
       "      <td>121.646</td>\n",
       "      <td>2016</td>\n",
       "      <td>5</td>\n",
       "    </tr>\n",
       "    <tr>\n",
       "      <th>393</th>\n",
       "      <td>2016-05-08</td>\n",
       "      <td>72.650</td>\n",
       "      <td>2016</td>\n",
       "      <td>5</td>\n",
       "    </tr>\n",
       "    <tr>\n",
       "      <th>689</th>\n",
       "      <td>2017-05-02</td>\n",
       "      <td>2994.476</td>\n",
       "      <td>2017</td>\n",
       "      <td>5</td>\n",
       "    </tr>\n",
       "    <tr>\n",
       "      <th>690</th>\n",
       "      <td>2017-05-03</td>\n",
       "      <td>162.344</td>\n",
       "      <td>2017</td>\n",
       "      <td>5</td>\n",
       "    </tr>\n",
       "    <tr>\n",
       "      <th>691</th>\n",
       "      <td>2017-05-04</td>\n",
       "      <td>1046.334</td>\n",
       "      <td>2017</td>\n",
       "      <td>5</td>\n",
       "    </tr>\n",
       "    <tr>\n",
       "      <th>692</th>\n",
       "      <td>2017-05-05</td>\n",
       "      <td>2701.280</td>\n",
       "      <td>2017</td>\n",
       "      <td>5</td>\n",
       "    </tr>\n",
       "    <tr>\n",
       "      <th>693</th>\n",
       "      <td>2017-05-06</td>\n",
       "      <td>659.820</td>\n",
       "      <td>2017</td>\n",
       "      <td>5</td>\n",
       "    </tr>\n",
       "    <tr>\n",
       "      <th>694</th>\n",
       "      <td>2017-05-08</td>\n",
       "      <td>197.050</td>\n",
       "      <td>2017</td>\n",
       "      <td>5</td>\n",
       "    </tr>\n",
       "    <tr>\n",
       "      <th>1011</th>\n",
       "      <td>2018-05-02</td>\n",
       "      <td>2263.012</td>\n",
       "      <td>2018</td>\n",
       "      <td>5</td>\n",
       "    </tr>\n",
       "    <tr>\n",
       "      <th>1012</th>\n",
       "      <td>2018-05-03</td>\n",
       "      <td>1240.020</td>\n",
       "      <td>2018</td>\n",
       "      <td>5</td>\n",
       "    </tr>\n",
       "    <tr>\n",
       "      <th>1013</th>\n",
       "      <td>2018-05-05</td>\n",
       "      <td>185.123</td>\n",
       "      <td>2018</td>\n",
       "      <td>5</td>\n",
       "    </tr>\n",
       "    <tr>\n",
       "      <th>1014</th>\n",
       "      <td>2018-05-06</td>\n",
       "      <td>491.112</td>\n",
       "      <td>2018</td>\n",
       "      <td>5</td>\n",
       "    </tr>\n",
       "    <tr>\n",
       "      <th>1015</th>\n",
       "      <td>2018-05-07</td>\n",
       "      <td>476.354</td>\n",
       "      <td>2018</td>\n",
       "      <td>5</td>\n",
       "    </tr>\n",
       "    <tr>\n",
       "      <th>1016</th>\n",
       "      <td>2018-05-08</td>\n",
       "      <td>503.676</td>\n",
       "      <td>2018</td>\n",
       "      <td>5</td>\n",
       "    </tr>\n",
       "  </tbody>\n",
       "</table>\n",
       "</div>"
      ],
      "text/plain": [
       "     Order Date     Sales  Year  Month\n",
       "97   2015-05-03   705.562  2015      5\n",
       "98   2015-05-04  5179.738  2015      5\n",
       "99   2015-05-05   260.977  2015      5\n",
       "100  2015-05-07  1444.104  2015      5\n",
       "101  2015-05-08  2408.724  2015      5\n",
       "389  2016-05-03  1969.267  2016      5\n",
       "390  2016-05-04  2974.058  2016      5\n",
       "391  2016-05-06  1533.198  2016      5\n",
       "392  2016-05-07   121.646  2016      5\n",
       "393  2016-05-08    72.650  2016      5\n",
       "689  2017-05-02  2994.476  2017      5\n",
       "690  2017-05-03   162.344  2017      5\n",
       "691  2017-05-04  1046.334  2017      5\n",
       "692  2017-05-05  2701.280  2017      5\n",
       "693  2017-05-06   659.820  2017      5\n",
       "694  2017-05-08   197.050  2017      5\n",
       "1011 2018-05-02  2263.012  2018      5\n",
       "1012 2018-05-03  1240.020  2018      5\n",
       "1013 2018-05-05   185.123  2018      5\n",
       "1014 2018-05-06   491.112  2018      5\n",
       "1015 2018-05-07   476.354  2018      5\n",
       "1016 2018-05-08   503.676  2018      5"
      ]
     },
     "execution_count": 108,
     "metadata": {},
     "output_type": "execute_result"
    }
   ],
   "source": [
    "# Filter for all years where Order Date is between May 2nd and May 8th (inclusive)\n",
    "mask = (daily_sales['Order Date'].dt.month == 5) & (daily_sales['Order Date'].dt.day >= 2) & (daily_sales['Order Date'].dt.day <= 8)\n",
    "within_first_week_may = daily_sales[mask]\n",
    "within_first_week_may"
   ]
  },
  {
   "cell_type": "code",
   "execution_count": 109,
   "id": "294458d6",
   "metadata": {},
   "outputs": [
    {
     "data": {
      "text/html": [
       "<div>\n",
       "<style scoped>\n",
       "    .dataframe tbody tr th:only-of-type {\n",
       "        vertical-align: middle;\n",
       "    }\n",
       "\n",
       "    .dataframe tbody tr th {\n",
       "        vertical-align: top;\n",
       "    }\n",
       "\n",
       "    .dataframe thead th {\n",
       "        text-align: right;\n",
       "    }\n",
       "</style>\n",
       "<table border=\"1\" class=\"dataframe\">\n",
       "  <thead>\n",
       "    <tr style=\"text-align: right;\">\n",
       "      <th></th>\n",
       "      <th>Year</th>\n",
       "      <th>mean</th>\n",
       "    </tr>\n",
       "  </thead>\n",
       "  <tbody>\n",
       "    <tr>\n",
       "      <th>0</th>\n",
       "      <td>2015</td>\n",
       "      <td>1999.821000</td>\n",
       "    </tr>\n",
       "    <tr>\n",
       "      <th>1</th>\n",
       "      <td>2016</td>\n",
       "      <td>1334.163800</td>\n",
       "    </tr>\n",
       "    <tr>\n",
       "      <th>2</th>\n",
       "      <td>2017</td>\n",
       "      <td>1293.550667</td>\n",
       "    </tr>\n",
       "    <tr>\n",
       "      <th>3</th>\n",
       "      <td>2018</td>\n",
       "      <td>859.882833</td>\n",
       "    </tr>\n",
       "  </tbody>\n",
       "</table>\n",
       "</div>"
      ],
      "text/plain": [
       "   Year         mean\n",
       "0  2015  1999.821000\n",
       "1  2016  1334.163800\n",
       "2  2017  1293.550667\n",
       "3  2018   859.882833"
      ]
     },
     "execution_count": 109,
     "metadata": {},
     "output_type": "execute_result"
    }
   ],
   "source": [
    "mean_ = within_first_week_may.groupby('Year')['Sales'].mean().reset_index(name='mean')\n",
    "mean_"
   ]
  },
  {
   "cell_type": "code",
   "execution_count": 110,
   "id": "dd464ec7",
   "metadata": {},
   "outputs": [
    {
     "data": {
      "application/vnd.plotly.v1+json": {
       "config": {
        "plotlyServerURL": "https://plot.ly"
       },
       "data": [
        {
         "hovertemplate": "Year=%{x}<br>mean=%{y}<extra></extra>",
         "legendgroup": "",
         "marker": {
          "color": "#636efa",
          "pattern": {
           "shape": ""
          }
         },
         "name": "",
         "orientation": "v",
         "showlegend": false,
         "textposition": "auto",
         "type": "bar",
         "x": {
          "bdata": "3wcAAOAHAADhBwAA4gcAAA==",
          "dtype": "i4"
         },
         "xaxis": "x",
         "y": {
          "bdata": "EFg5tEg/n0BW7C+7p9iUQFNx9uEzNpRA4zPsChDfikA=",
          "dtype": "f8"
         },
         "yaxis": "y"
        }
       ],
       "layout": {
        "barmode": "relative",
        "legend": {
         "tracegroupgap": 0
        },
        "margin": {
         "t": 60
        },
        "template": {
         "data": {
          "bar": [
           {
            "error_x": {
             "color": "#2a3f5f"
            },
            "error_y": {
             "color": "#2a3f5f"
            },
            "marker": {
             "line": {
              "color": "#E5ECF6",
              "width": 0.5
             },
             "pattern": {
              "fillmode": "overlay",
              "size": 10,
              "solidity": 0.2
             }
            },
            "type": "bar"
           }
          ],
          "barpolar": [
           {
            "marker": {
             "line": {
              "color": "#E5ECF6",
              "width": 0.5
             },
             "pattern": {
              "fillmode": "overlay",
              "size": 10,
              "solidity": 0.2
             }
            },
            "type": "barpolar"
           }
          ],
          "carpet": [
           {
            "aaxis": {
             "endlinecolor": "#2a3f5f",
             "gridcolor": "white",
             "linecolor": "white",
             "minorgridcolor": "white",
             "startlinecolor": "#2a3f5f"
            },
            "baxis": {
             "endlinecolor": "#2a3f5f",
             "gridcolor": "white",
             "linecolor": "white",
             "minorgridcolor": "white",
             "startlinecolor": "#2a3f5f"
            },
            "type": "carpet"
           }
          ],
          "choropleth": [
           {
            "colorbar": {
             "outlinewidth": 0,
             "ticks": ""
            },
            "type": "choropleth"
           }
          ],
          "contour": [
           {
            "colorbar": {
             "outlinewidth": 0,
             "ticks": ""
            },
            "colorscale": [
             [
              0,
              "#0d0887"
             ],
             [
              0.1111111111111111,
              "#46039f"
             ],
             [
              0.2222222222222222,
              "#7201a8"
             ],
             [
              0.3333333333333333,
              "#9c179e"
             ],
             [
              0.4444444444444444,
              "#bd3786"
             ],
             [
              0.5555555555555556,
              "#d8576b"
             ],
             [
              0.6666666666666666,
              "#ed7953"
             ],
             [
              0.7777777777777778,
              "#fb9f3a"
             ],
             [
              0.8888888888888888,
              "#fdca26"
             ],
             [
              1,
              "#f0f921"
             ]
            ],
            "type": "contour"
           }
          ],
          "contourcarpet": [
           {
            "colorbar": {
             "outlinewidth": 0,
             "ticks": ""
            },
            "type": "contourcarpet"
           }
          ],
          "heatmap": [
           {
            "colorbar": {
             "outlinewidth": 0,
             "ticks": ""
            },
            "colorscale": [
             [
              0,
              "#0d0887"
             ],
             [
              0.1111111111111111,
              "#46039f"
             ],
             [
              0.2222222222222222,
              "#7201a8"
             ],
             [
              0.3333333333333333,
              "#9c179e"
             ],
             [
              0.4444444444444444,
              "#bd3786"
             ],
             [
              0.5555555555555556,
              "#d8576b"
             ],
             [
              0.6666666666666666,
              "#ed7953"
             ],
             [
              0.7777777777777778,
              "#fb9f3a"
             ],
             [
              0.8888888888888888,
              "#fdca26"
             ],
             [
              1,
              "#f0f921"
             ]
            ],
            "type": "heatmap"
           }
          ],
          "histogram": [
           {
            "marker": {
             "pattern": {
              "fillmode": "overlay",
              "size": 10,
              "solidity": 0.2
             }
            },
            "type": "histogram"
           }
          ],
          "histogram2d": [
           {
            "colorbar": {
             "outlinewidth": 0,
             "ticks": ""
            },
            "colorscale": [
             [
              0,
              "#0d0887"
             ],
             [
              0.1111111111111111,
              "#46039f"
             ],
             [
              0.2222222222222222,
              "#7201a8"
             ],
             [
              0.3333333333333333,
              "#9c179e"
             ],
             [
              0.4444444444444444,
              "#bd3786"
             ],
             [
              0.5555555555555556,
              "#d8576b"
             ],
             [
              0.6666666666666666,
              "#ed7953"
             ],
             [
              0.7777777777777778,
              "#fb9f3a"
             ],
             [
              0.8888888888888888,
              "#fdca26"
             ],
             [
              1,
              "#f0f921"
             ]
            ],
            "type": "histogram2d"
           }
          ],
          "histogram2dcontour": [
           {
            "colorbar": {
             "outlinewidth": 0,
             "ticks": ""
            },
            "colorscale": [
             [
              0,
              "#0d0887"
             ],
             [
              0.1111111111111111,
              "#46039f"
             ],
             [
              0.2222222222222222,
              "#7201a8"
             ],
             [
              0.3333333333333333,
              "#9c179e"
             ],
             [
              0.4444444444444444,
              "#bd3786"
             ],
             [
              0.5555555555555556,
              "#d8576b"
             ],
             [
              0.6666666666666666,
              "#ed7953"
             ],
             [
              0.7777777777777778,
              "#fb9f3a"
             ],
             [
              0.8888888888888888,
              "#fdca26"
             ],
             [
              1,
              "#f0f921"
             ]
            ],
            "type": "histogram2dcontour"
           }
          ],
          "mesh3d": [
           {
            "colorbar": {
             "outlinewidth": 0,
             "ticks": ""
            },
            "type": "mesh3d"
           }
          ],
          "parcoords": [
           {
            "line": {
             "colorbar": {
              "outlinewidth": 0,
              "ticks": ""
             }
            },
            "type": "parcoords"
           }
          ],
          "pie": [
           {
            "automargin": true,
            "type": "pie"
           }
          ],
          "scatter": [
           {
            "fillpattern": {
             "fillmode": "overlay",
             "size": 10,
             "solidity": 0.2
            },
            "type": "scatter"
           }
          ],
          "scatter3d": [
           {
            "line": {
             "colorbar": {
              "outlinewidth": 0,
              "ticks": ""
             }
            },
            "marker": {
             "colorbar": {
              "outlinewidth": 0,
              "ticks": ""
             }
            },
            "type": "scatter3d"
           }
          ],
          "scattercarpet": [
           {
            "marker": {
             "colorbar": {
              "outlinewidth": 0,
              "ticks": ""
             }
            },
            "type": "scattercarpet"
           }
          ],
          "scattergeo": [
           {
            "marker": {
             "colorbar": {
              "outlinewidth": 0,
              "ticks": ""
             }
            },
            "type": "scattergeo"
           }
          ],
          "scattergl": [
           {
            "marker": {
             "colorbar": {
              "outlinewidth": 0,
              "ticks": ""
             }
            },
            "type": "scattergl"
           }
          ],
          "scattermap": [
           {
            "marker": {
             "colorbar": {
              "outlinewidth": 0,
              "ticks": ""
             }
            },
            "type": "scattermap"
           }
          ],
          "scattermapbox": [
           {
            "marker": {
             "colorbar": {
              "outlinewidth": 0,
              "ticks": ""
             }
            },
            "type": "scattermapbox"
           }
          ],
          "scatterpolar": [
           {
            "marker": {
             "colorbar": {
              "outlinewidth": 0,
              "ticks": ""
             }
            },
            "type": "scatterpolar"
           }
          ],
          "scatterpolargl": [
           {
            "marker": {
             "colorbar": {
              "outlinewidth": 0,
              "ticks": ""
             }
            },
            "type": "scatterpolargl"
           }
          ],
          "scatterternary": [
           {
            "marker": {
             "colorbar": {
              "outlinewidth": 0,
              "ticks": ""
             }
            },
            "type": "scatterternary"
           }
          ],
          "surface": [
           {
            "colorbar": {
             "outlinewidth": 0,
             "ticks": ""
            },
            "colorscale": [
             [
              0,
              "#0d0887"
             ],
             [
              0.1111111111111111,
              "#46039f"
             ],
             [
              0.2222222222222222,
              "#7201a8"
             ],
             [
              0.3333333333333333,
              "#9c179e"
             ],
             [
              0.4444444444444444,
              "#bd3786"
             ],
             [
              0.5555555555555556,
              "#d8576b"
             ],
             [
              0.6666666666666666,
              "#ed7953"
             ],
             [
              0.7777777777777778,
              "#fb9f3a"
             ],
             [
              0.8888888888888888,
              "#fdca26"
             ],
             [
              1,
              "#f0f921"
             ]
            ],
            "type": "surface"
           }
          ],
          "table": [
           {
            "cells": {
             "fill": {
              "color": "#EBF0F8"
             },
             "line": {
              "color": "white"
             }
            },
            "header": {
             "fill": {
              "color": "#C8D4E3"
             },
             "line": {
              "color": "white"
             }
            },
            "type": "table"
           }
          ]
         },
         "layout": {
          "annotationdefaults": {
           "arrowcolor": "#2a3f5f",
           "arrowhead": 0,
           "arrowwidth": 1
          },
          "autotypenumbers": "strict",
          "coloraxis": {
           "colorbar": {
            "outlinewidth": 0,
            "ticks": ""
           }
          },
          "colorscale": {
           "diverging": [
            [
             0,
             "#8e0152"
            ],
            [
             0.1,
             "#c51b7d"
            ],
            [
             0.2,
             "#de77ae"
            ],
            [
             0.3,
             "#f1b6da"
            ],
            [
             0.4,
             "#fde0ef"
            ],
            [
             0.5,
             "#f7f7f7"
            ],
            [
             0.6,
             "#e6f5d0"
            ],
            [
             0.7,
             "#b8e186"
            ],
            [
             0.8,
             "#7fbc41"
            ],
            [
             0.9,
             "#4d9221"
            ],
            [
             1,
             "#276419"
            ]
           ],
           "sequential": [
            [
             0,
             "#0d0887"
            ],
            [
             0.1111111111111111,
             "#46039f"
            ],
            [
             0.2222222222222222,
             "#7201a8"
            ],
            [
             0.3333333333333333,
             "#9c179e"
            ],
            [
             0.4444444444444444,
             "#bd3786"
            ],
            [
             0.5555555555555556,
             "#d8576b"
            ],
            [
             0.6666666666666666,
             "#ed7953"
            ],
            [
             0.7777777777777778,
             "#fb9f3a"
            ],
            [
             0.8888888888888888,
             "#fdca26"
            ],
            [
             1,
             "#f0f921"
            ]
           ],
           "sequentialminus": [
            [
             0,
             "#0d0887"
            ],
            [
             0.1111111111111111,
             "#46039f"
            ],
            [
             0.2222222222222222,
             "#7201a8"
            ],
            [
             0.3333333333333333,
             "#9c179e"
            ],
            [
             0.4444444444444444,
             "#bd3786"
            ],
            [
             0.5555555555555556,
             "#d8576b"
            ],
            [
             0.6666666666666666,
             "#ed7953"
            ],
            [
             0.7777777777777778,
             "#fb9f3a"
            ],
            [
             0.8888888888888888,
             "#fdca26"
            ],
            [
             1,
             "#f0f921"
            ]
           ]
          },
          "colorway": [
           "#636efa",
           "#EF553B",
           "#00cc96",
           "#ab63fa",
           "#FFA15A",
           "#19d3f3",
           "#FF6692",
           "#B6E880",
           "#FF97FF",
           "#FECB52"
          ],
          "font": {
           "color": "#2a3f5f"
          },
          "geo": {
           "bgcolor": "white",
           "lakecolor": "white",
           "landcolor": "#E5ECF6",
           "showlakes": true,
           "showland": true,
           "subunitcolor": "white"
          },
          "hoverlabel": {
           "align": "left"
          },
          "hovermode": "closest",
          "mapbox": {
           "style": "light"
          },
          "paper_bgcolor": "white",
          "plot_bgcolor": "#E5ECF6",
          "polar": {
           "angularaxis": {
            "gridcolor": "white",
            "linecolor": "white",
            "ticks": ""
           },
           "bgcolor": "#E5ECF6",
           "radialaxis": {
            "gridcolor": "white",
            "linecolor": "white",
            "ticks": ""
           }
          },
          "scene": {
           "xaxis": {
            "backgroundcolor": "#E5ECF6",
            "gridcolor": "white",
            "gridwidth": 2,
            "linecolor": "white",
            "showbackground": true,
            "ticks": "",
            "zerolinecolor": "white"
           },
           "yaxis": {
            "backgroundcolor": "#E5ECF6",
            "gridcolor": "white",
            "gridwidth": 2,
            "linecolor": "white",
            "showbackground": true,
            "ticks": "",
            "zerolinecolor": "white"
           },
           "zaxis": {
            "backgroundcolor": "#E5ECF6",
            "gridcolor": "white",
            "gridwidth": 2,
            "linecolor": "white",
            "showbackground": true,
            "ticks": "",
            "zerolinecolor": "white"
           }
          },
          "shapedefaults": {
           "line": {
            "color": "#2a3f5f"
           }
          },
          "ternary": {
           "aaxis": {
            "gridcolor": "white",
            "linecolor": "white",
            "ticks": ""
           },
           "baxis": {
            "gridcolor": "white",
            "linecolor": "white",
            "ticks": ""
           },
           "bgcolor": "#E5ECF6",
           "caxis": {
            "gridcolor": "white",
            "linecolor": "white",
            "ticks": ""
           }
          },
          "title": {
           "x": 0.05
          },
          "xaxis": {
           "automargin": true,
           "gridcolor": "white",
           "linecolor": "white",
           "ticks": "",
           "title": {
            "standoff": 15
           },
           "zerolinecolor": "white",
           "zerolinewidth": 2
          },
          "yaxis": {
           "automargin": true,
           "gridcolor": "white",
           "linecolor": "white",
           "ticks": "",
           "title": {
            "standoff": 15
           },
           "zerolinecolor": "white",
           "zerolinewidth": 2
          }
         }
        },
        "xaxis": {
         "anchor": "y",
         "domain": [
          0,
          1
         ],
         "title": {
          "text": "Year"
         }
        },
        "yaxis": {
         "anchor": "x",
         "domain": [
          0,
          1
         ],
         "title": {
          "text": "mean"
         }
        }
       }
      }
     },
     "metadata": {},
     "output_type": "display_data"
    }
   ],
   "source": [
    "px.bar(mean_, x='Year', y='mean')"
   ]
  },
  {
   "cell_type": "code",
   "execution_count": 111,
   "id": "302a06ed",
   "metadata": {},
   "outputs": [],
   "source": [
    "# Mapping of full state names to their 2-letter abbreviations\n",
    "state_abbrev = {\n",
    "    'Alabama': 'AL', 'Alaska': 'AK', 'Arizona': 'AZ', 'Arkansas': 'AR', 'California': 'CA',\n",
    "    'Colorado': 'CO', 'Connecticut': 'CT', 'Delaware': 'DE', 'District of Columbia': 'DC',\n",
    "    'Florida': 'FL', 'Georgia': 'GA', 'Hawaii': 'HI', 'Idaho': 'ID', 'Illinois': 'IL',\n",
    "    'Indiana': 'IN', 'Iowa': 'IA', 'Kansas': 'KS', 'Kentucky': 'KY', 'Louisiana': 'LA',\n",
    "    'Maine': 'ME', 'Maryland': 'MD', 'Massachusetts': 'MA', 'Michigan': 'MI',\n",
    "    'Minnesota': 'MN', 'Mississippi': 'MS', 'Missouri': 'MO', 'Montana': 'MT',\n",
    "    'Nebraska': 'NE', 'Nevada': 'NV', 'New Hampshire': 'NH', 'New Jersey': 'NJ',\n",
    "    'New Mexico': 'NM', 'New York': 'NY', 'North Carolina': 'NC', 'North Dakota': 'ND',\n",
    "    'Ohio': 'OH', 'Oklahoma': 'OK', 'Oregon': 'OR', 'Pennsylvania': 'PA',\n",
    "    'Rhode Island': 'RI', 'South Carolina': 'SC', 'South Dakota': 'SD',\n",
    "    'Tennessee': 'TN', 'Texas': 'TX', 'Utah': 'UT', 'Vermont': 'VT', 'Virginia': 'VA',\n",
    "    'Washington': 'WA', 'West Virginia': 'WV', 'Wisconsin': 'WI', 'Wyoming': 'WY'\n",
    "}\n",
    "\n",
    "# Add a new column with the 2-letter abbreviations\n",
    "df['State Code'] = df['State'].map(state_abbrev)\n",
    "\n",
    "# Show rows with missing mappings, if any\n",
    "missing_abbrev = df[df['State Code'].isna()]"
   ]
  },
  {
   "cell_type": "code",
   "execution_count": 112,
   "id": "5aefc559",
   "metadata": {},
   "outputs": [
    {
     "name": "stdout",
     "output_type": "stream",
     "text": [
      "<class 'pandas.core.frame.DataFrame'>\n",
      "RangeIndex: 9800 entries, 0 to 9799\n",
      "Data columns (total 16 columns):\n",
      " #   Column        Non-Null Count  Dtype         \n",
      "---  ------        --------------  -----         \n",
      " 0   Order ID      9800 non-null   object        \n",
      " 1   Order Date    9800 non-null   datetime64[ns]\n",
      " 2   Ship Date     9800 non-null   datetime64[ns]\n",
      " 3   Ship Mode     9800 non-null   object        \n",
      " 4   Customer ID   9800 non-null   object        \n",
      " 5   Segment       9800 non-null   object        \n",
      " 6   City          9800 non-null   object        \n",
      " 7   State         9800 non-null   object        \n",
      " 8   Postal Code   9800 non-null   object        \n",
      " 9   Region        9800 non-null   object        \n",
      " 10  Product ID    9800 non-null   object        \n",
      " 11  Category      9800 non-null   object        \n",
      " 12  Sub-Category  9800 non-null   object        \n",
      " 13  Product Name  9800 non-null   object        \n",
      " 14  Sales         9800 non-null   float64       \n",
      " 15  State Code    9800 non-null   object        \n",
      "dtypes: datetime64[ns](2), float64(1), object(13)\n",
      "memory usage: 1.2+ MB\n"
     ]
    }
   ],
   "source": [
    "df.info()"
   ]
  },
  {
   "cell_type": "code",
   "execution_count": 113,
   "id": "e5495d9a",
   "metadata": {},
   "outputs": [
    {
     "data": {
      "text/html": [
       "<div>\n",
       "<style scoped>\n",
       "    .dataframe tbody tr th:only-of-type {\n",
       "        vertical-align: middle;\n",
       "    }\n",
       "\n",
       "    .dataframe tbody tr th {\n",
       "        vertical-align: top;\n",
       "    }\n",
       "\n",
       "    .dataframe thead th {\n",
       "        text-align: right;\n",
       "    }\n",
       "</style>\n",
       "<table border=\"1\" class=\"dataframe\">\n",
       "  <thead>\n",
       "    <tr style=\"text-align: right;\">\n",
       "      <th></th>\n",
       "      <th>Category</th>\n",
       "      <th>sum</th>\n",
       "    </tr>\n",
       "  </thead>\n",
       "  <tbody>\n",
       "    <tr>\n",
       "      <th>0</th>\n",
       "      <td>Furniture</td>\n",
       "      <td>728658.5757</td>\n",
       "    </tr>\n",
       "    <tr>\n",
       "      <th>1</th>\n",
       "      <td>Office Supplies</td>\n",
       "      <td>705422.3340</td>\n",
       "    </tr>\n",
       "    <tr>\n",
       "      <th>2</th>\n",
       "      <td>Technology</td>\n",
       "      <td>827455.8730</td>\n",
       "    </tr>\n",
       "  </tbody>\n",
       "</table>\n",
       "</div>"
      ],
      "text/plain": [
       "          Category          sum\n",
       "0        Furniture  728658.5757\n",
       "1  Office Supplies  705422.3340\n",
       "2       Technology  827455.8730"
      ]
     },
     "execution_count": 113,
     "metadata": {},
     "output_type": "execute_result"
    }
   ],
   "source": [
    "df.groupby('Category')['Sales'].sum().reset_index(name='sum')"
   ]
  },
  {
   "cell_type": "code",
   "execution_count": 114,
   "id": "0e419f78",
   "metadata": {},
   "outputs": [
    {
     "data": {
      "text/html": [
       "<div>\n",
       "<style scoped>\n",
       "    .dataframe tbody tr th:only-of-type {\n",
       "        vertical-align: middle;\n",
       "    }\n",
       "\n",
       "    .dataframe tbody tr th {\n",
       "        vertical-align: top;\n",
       "    }\n",
       "\n",
       "    .dataframe thead th {\n",
       "        text-align: right;\n",
       "    }\n",
       "</style>\n",
       "<table border=\"1\" class=\"dataframe\">\n",
       "  <thead>\n",
       "    <tr style=\"text-align: right;\">\n",
       "      <th></th>\n",
       "      <th>Category</th>\n",
       "      <th>sum</th>\n",
       "    </tr>\n",
       "  </thead>\n",
       "  <tbody>\n",
       "    <tr>\n",
       "      <th>0</th>\n",
       "      <td>Furniture</td>\n",
       "      <td>728658.5757</td>\n",
       "    </tr>\n",
       "    <tr>\n",
       "      <th>1</th>\n",
       "      <td>Office Supplies</td>\n",
       "      <td>705422.3340</td>\n",
       "    </tr>\n",
       "    <tr>\n",
       "      <th>2</th>\n",
       "      <td>Technology</td>\n",
       "      <td>827455.8730</td>\n",
       "    </tr>\n",
       "  </tbody>\n",
       "</table>\n",
       "</div>"
      ],
      "text/plain": [
       "          Category          sum\n",
       "0        Furniture  728658.5757\n",
       "1  Office Supplies  705422.3340\n",
       "2       Technology  827455.8730"
      ]
     },
     "execution_count": 114,
     "metadata": {},
     "output_type": "execute_result"
    }
   ],
   "source": [
    "df.groupby('Category')['Sales'].sum().reset_index(name='sum')"
   ]
  },
  {
   "cell_type": "markdown",
   "id": "8ab5765d",
   "metadata": {},
   "source": []
  },
  {
   "cell_type": "code",
   "execution_count": 115,
   "id": "a9210918",
   "metadata": {},
   "outputs": [
    {
     "data": {
      "text/html": [
       "<div>\n",
       "<style scoped>\n",
       "    .dataframe tbody tr th:only-of-type {\n",
       "        vertical-align: middle;\n",
       "    }\n",
       "\n",
       "    .dataframe tbody tr th {\n",
       "        vertical-align: top;\n",
       "    }\n",
       "\n",
       "    .dataframe thead th {\n",
       "        text-align: right;\n",
       "    }\n",
       "</style>\n",
       "<table border=\"1\" class=\"dataframe\">\n",
       "  <thead>\n",
       "    <tr style=\"text-align: right;\">\n",
       "      <th></th>\n",
       "      <th>Order ID</th>\n",
       "      <th>Order Date</th>\n",
       "      <th>Ship Date</th>\n",
       "      <th>Ship Mode</th>\n",
       "      <th>Customer ID</th>\n",
       "      <th>Segment</th>\n",
       "      <th>City</th>\n",
       "      <th>State</th>\n",
       "      <th>Postal Code</th>\n",
       "      <th>Region</th>\n",
       "      <th>Product ID</th>\n",
       "      <th>Category</th>\n",
       "      <th>Sub-Category</th>\n",
       "      <th>Product Name</th>\n",
       "      <th>Sales</th>\n",
       "      <th>State Code</th>\n",
       "    </tr>\n",
       "  </thead>\n",
       "  <tbody>\n",
       "    <tr>\n",
       "      <th>0</th>\n",
       "      <td>CA-2017-152156</td>\n",
       "      <td>2017-08-11</td>\n",
       "      <td>2017-11-11</td>\n",
       "      <td>Second Class</td>\n",
       "      <td>CG-12520</td>\n",
       "      <td>Consumer</td>\n",
       "      <td>Henderson</td>\n",
       "      <td>Kentucky</td>\n",
       "      <td>42420.0</td>\n",
       "      <td>South</td>\n",
       "      <td>FUR-BO-10001798</td>\n",
       "      <td>Furniture</td>\n",
       "      <td>Bookcases</td>\n",
       "      <td>Bush Somerset Collection Bookcase</td>\n",
       "      <td>261.9600</td>\n",
       "      <td>KY</td>\n",
       "    </tr>\n",
       "    <tr>\n",
       "      <th>1</th>\n",
       "      <td>CA-2017-152156</td>\n",
       "      <td>2017-08-11</td>\n",
       "      <td>2017-11-11</td>\n",
       "      <td>Second Class</td>\n",
       "      <td>CG-12520</td>\n",
       "      <td>Consumer</td>\n",
       "      <td>Henderson</td>\n",
       "      <td>Kentucky</td>\n",
       "      <td>42420.0</td>\n",
       "      <td>South</td>\n",
       "      <td>FUR-CH-10000454</td>\n",
       "      <td>Furniture</td>\n",
       "      <td>Chairs</td>\n",
       "      <td>Hon Deluxe Fabric Upholstered Stacking Chairs,...</td>\n",
       "      <td>731.9400</td>\n",
       "      <td>KY</td>\n",
       "    </tr>\n",
       "    <tr>\n",
       "      <th>2</th>\n",
       "      <td>CA-2017-138688</td>\n",
       "      <td>2017-12-06</td>\n",
       "      <td>2017-06-16</td>\n",
       "      <td>Second Class</td>\n",
       "      <td>DV-13045</td>\n",
       "      <td>Corporate</td>\n",
       "      <td>Los Angeles</td>\n",
       "      <td>California</td>\n",
       "      <td>90036.0</td>\n",
       "      <td>West</td>\n",
       "      <td>OFF-LA-10000240</td>\n",
       "      <td>Office Supplies</td>\n",
       "      <td>Labels</td>\n",
       "      <td>Self-Adhesive Address Labels for Typewriters b...</td>\n",
       "      <td>14.6200</td>\n",
       "      <td>CA</td>\n",
       "    </tr>\n",
       "    <tr>\n",
       "      <th>3</th>\n",
       "      <td>US-2016-108966</td>\n",
       "      <td>2016-11-10</td>\n",
       "      <td>2016-10-18</td>\n",
       "      <td>Standard Class</td>\n",
       "      <td>SO-20335</td>\n",
       "      <td>Consumer</td>\n",
       "      <td>Fort Lauderdale</td>\n",
       "      <td>Florida</td>\n",
       "      <td>33311.0</td>\n",
       "      <td>South</td>\n",
       "      <td>FUR-TA-10000577</td>\n",
       "      <td>Furniture</td>\n",
       "      <td>Tables</td>\n",
       "      <td>Bretford CR4500 Series Slim Rectangular Table</td>\n",
       "      <td>957.5775</td>\n",
       "      <td>FL</td>\n",
       "    </tr>\n",
       "    <tr>\n",
       "      <th>4</th>\n",
       "      <td>US-2016-108966</td>\n",
       "      <td>2016-11-10</td>\n",
       "      <td>2016-10-18</td>\n",
       "      <td>Standard Class</td>\n",
       "      <td>SO-20335</td>\n",
       "      <td>Consumer</td>\n",
       "      <td>Fort Lauderdale</td>\n",
       "      <td>Florida</td>\n",
       "      <td>33311.0</td>\n",
       "      <td>South</td>\n",
       "      <td>OFF-ST-10000760</td>\n",
       "      <td>Office Supplies</td>\n",
       "      <td>Storage</td>\n",
       "      <td>Eldon Fold 'N Roll Cart System</td>\n",
       "      <td>22.3680</td>\n",
       "      <td>FL</td>\n",
       "    </tr>\n",
       "  </tbody>\n",
       "</table>\n",
       "</div>"
      ],
      "text/plain": [
       "         Order ID Order Date  Ship Date       Ship Mode Customer ID  \\\n",
       "0  CA-2017-152156 2017-08-11 2017-11-11    Second Class    CG-12520   \n",
       "1  CA-2017-152156 2017-08-11 2017-11-11    Second Class    CG-12520   \n",
       "2  CA-2017-138688 2017-12-06 2017-06-16    Second Class    DV-13045   \n",
       "3  US-2016-108966 2016-11-10 2016-10-18  Standard Class    SO-20335   \n",
       "4  US-2016-108966 2016-11-10 2016-10-18  Standard Class    SO-20335   \n",
       "\n",
       "     Segment             City       State Postal Code Region       Product ID  \\\n",
       "0   Consumer        Henderson    Kentucky     42420.0  South  FUR-BO-10001798   \n",
       "1   Consumer        Henderson    Kentucky     42420.0  South  FUR-CH-10000454   \n",
       "2  Corporate      Los Angeles  California     90036.0   West  OFF-LA-10000240   \n",
       "3   Consumer  Fort Lauderdale     Florida     33311.0  South  FUR-TA-10000577   \n",
       "4   Consumer  Fort Lauderdale     Florida     33311.0  South  OFF-ST-10000760   \n",
       "\n",
       "          Category Sub-Category  \\\n",
       "0        Furniture    Bookcases   \n",
       "1        Furniture       Chairs   \n",
       "2  Office Supplies       Labels   \n",
       "3        Furniture       Tables   \n",
       "4  Office Supplies      Storage   \n",
       "\n",
       "                                        Product Name     Sales State Code  \n",
       "0                  Bush Somerset Collection Bookcase  261.9600         KY  \n",
       "1  Hon Deluxe Fabric Upholstered Stacking Chairs,...  731.9400         KY  \n",
       "2  Self-Adhesive Address Labels for Typewriters b...   14.6200         CA  \n",
       "3      Bretford CR4500 Series Slim Rectangular Table  957.5775         FL  \n",
       "4                     Eldon Fold 'N Roll Cart System   22.3680         FL  "
      ]
     },
     "execution_count": 115,
     "metadata": {},
     "output_type": "execute_result"
    }
   ],
   "source": [
    "df.head()"
   ]
  },
  {
   "cell_type": "code",
   "execution_count": 116,
   "id": "a33883a6",
   "metadata": {},
   "outputs": [
    {
     "data": {
      "text/html": [
       "<div>\n",
       "<style scoped>\n",
       "    .dataframe tbody tr th:only-of-type {\n",
       "        vertical-align: middle;\n",
       "    }\n",
       "\n",
       "    .dataframe tbody tr th {\n",
       "        vertical-align: top;\n",
       "    }\n",
       "\n",
       "    .dataframe thead th {\n",
       "        text-align: right;\n",
       "    }\n",
       "</style>\n",
       "<table border=\"1\" class=\"dataframe\">\n",
       "  <thead>\n",
       "    <tr style=\"text-align: right;\">\n",
       "      <th></th>\n",
       "      <th>Sub-Category</th>\n",
       "      <th>mean</th>\n",
       "    </tr>\n",
       "  </thead>\n",
       "  <tbody>\n",
       "    <tr>\n",
       "      <th>6</th>\n",
       "      <td>Copiers</td>\n",
       "      <td>2215.880212</td>\n",
       "    </tr>\n",
       "    <tr>\n",
       "      <th>11</th>\n",
       "      <td>Machines</td>\n",
       "      <td>1645.553313</td>\n",
       "    </tr>\n",
       "    <tr>\n",
       "      <th>16</th>\n",
       "      <td>Tables</td>\n",
       "      <td>645.893720</td>\n",
       "    </tr>\n",
       "    <tr>\n",
       "      <th>5</th>\n",
       "      <td>Chairs</td>\n",
       "      <td>531.833165</td>\n",
       "    </tr>\n",
       "    <tr>\n",
       "      <th>4</th>\n",
       "      <td>Bookcases</td>\n",
       "      <td>503.598224</td>\n",
       "    </tr>\n",
       "    <tr>\n",
       "      <th>13</th>\n",
       "      <td>Phones</td>\n",
       "      <td>374.180877</td>\n",
       "    </tr>\n",
       "    <tr>\n",
       "      <th>14</th>\n",
       "      <td>Storage</td>\n",
       "      <td>263.633885</td>\n",
       "    </tr>\n",
       "    <tr>\n",
       "      <th>15</th>\n",
       "      <td>Supplies</td>\n",
       "      <td>252.284283</td>\n",
       "    </tr>\n",
       "    <tr>\n",
       "      <th>1</th>\n",
       "      <td>Appliances</td>\n",
       "      <td>227.926804</td>\n",
       "    </tr>\n",
       "    <tr>\n",
       "      <th>0</th>\n",
       "      <td>Accessories</td>\n",
       "      <td>217.178175</td>\n",
       "    </tr>\n",
       "    <tr>\n",
       "      <th>3</th>\n",
       "      <td>Binders</td>\n",
       "      <td>134.067550</td>\n",
       "    </tr>\n",
       "    <tr>\n",
       "      <th>9</th>\n",
       "      <td>Furnishings</td>\n",
       "      <td>95.823865</td>\n",
       "    </tr>\n",
       "    <tr>\n",
       "      <th>7</th>\n",
       "      <td>Envelopes</td>\n",
       "      <td>65.032444</td>\n",
       "    </tr>\n",
       "    <tr>\n",
       "      <th>12</th>\n",
       "      <td>Paper</td>\n",
       "      <td>57.420257</td>\n",
       "    </tr>\n",
       "    <tr>\n",
       "      <th>10</th>\n",
       "      <td>Labels</td>\n",
       "      <td>34.587468</td>\n",
       "    </tr>\n",
       "    <tr>\n",
       "      <th>2</th>\n",
       "      <td>Art</td>\n",
       "      <td>34.019631</td>\n",
       "    </tr>\n",
       "    <tr>\n",
       "      <th>8</th>\n",
       "      <td>Fasteners</td>\n",
       "      <td>14.027850</td>\n",
       "    </tr>\n",
       "  </tbody>\n",
       "</table>\n",
       "</div>"
      ],
      "text/plain": [
       "   Sub-Category         mean\n",
       "6       Copiers  2215.880212\n",
       "11     Machines  1645.553313\n",
       "16       Tables   645.893720\n",
       "5        Chairs   531.833165\n",
       "4     Bookcases   503.598224\n",
       "13       Phones   374.180877\n",
       "14      Storage   263.633885\n",
       "15     Supplies   252.284283\n",
       "1    Appliances   227.926804\n",
       "0   Accessories   217.178175\n",
       "3       Binders   134.067550\n",
       "9   Furnishings    95.823865\n",
       "7     Envelopes    65.032444\n",
       "12        Paper    57.420257\n",
       "10       Labels    34.587468\n",
       "2           Art    34.019631\n",
       "8     Fasteners    14.027850"
      ]
     },
     "execution_count": 116,
     "metadata": {},
     "output_type": "execute_result"
    }
   ],
   "source": [
    "df.groupby('Sub-Category')['Sales'].mean().reset_index(name='mean').sort_values('mean', ascending=False)"
   ]
  },
  {
   "cell_type": "code",
   "execution_count": 117,
   "id": "e1cbddb0",
   "metadata": {},
   "outputs": [],
   "source": [
    "x = df.groupby('City')['Sales'].mean().reset_index(name='mean').sort_values('mean', ascending=False).head()"
   ]
  },
  {
   "cell_type": "markdown",
   "id": "98bdfd7a",
   "metadata": {},
   "source": [
    "# Conclusion\n",
    "\n",
    "1. California is the highest state in sales\n",
    "2. First week at may, It decreases\n",
    "3. 9 9 12 11\n",
    "4. Copiers & Machines the most sold out products"
   ]
  },
  {
   "cell_type": "markdown",
   "id": "63b3df81",
   "metadata": {},
   "source": []
  }
 ],
 "metadata": {
  "kernelspec": {
   "display_name": "Python 3",
   "language": "python",
   "name": "python3"
  },
  "language_info": {
   "codemirror_mode": {
    "name": "ipython",
    "version": 3
   },
   "file_extension": ".py",
   "mimetype": "text/x-python",
   "name": "python",
   "nbconvert_exporter": "python",
   "pygments_lexer": "ipython3",
   "version": "3.13.5"
  }
 },
 "nbformat": 4,
 "nbformat_minor": 5
}
